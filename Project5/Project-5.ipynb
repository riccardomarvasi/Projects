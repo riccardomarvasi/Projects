{
  "cells": [
    {
      "cell_type": "markdown",
      "metadata": {
        "id": "bacEDFoO3XOz"
      },
      "source": [
        "#**DEEP LEARNING EXAM**\n",
        "Riccardo Marvasi 0001103783\n",
        "\n",
        "<br>\n",
        "<br>\n",
        "\n",
        "###**Motion Deblurring**\n",
        "\n",
        "The project involves deblurring images. The blurred version is obtained through a superposition of slightly translated versions of the same image, following a random trajectory. This kind of blur is supposed to simulate the result of a shot taken with a shaky hand."
      ]
    },
    {
      "cell_type": "code",
      "execution_count": 1,
      "metadata": {
        "colab": {
          "base_uri": "https://localhost:8080/"
        },
        "id": "tXq5YKgoyJdX",
        "outputId": "5955a0ac-3fc0-45ef-a160-4348f4f486a5"
      },
      "outputs": [
        {
          "output_type": "stream",
          "name": "stdout",
          "text": [
            "Collecting accelerate\n",
            "  Downloading accelerate-0.26.1-py3-none-any.whl (270 kB)\n",
            "\u001b[?25l     \u001b[90m━━━━━━━━━━━━━━━━━━━━━━━━━━━━━━━━━━━━━━━━\u001b[0m \u001b[32m0.0/270.9 kB\u001b[0m \u001b[31m?\u001b[0m eta \u001b[36m-:--:--\u001b[0m\r\u001b[2K     \u001b[91m━━━━━━━━━━━━━━━━━━\u001b[0m\u001b[90m╺\u001b[0m\u001b[90m━━━━━━━━━━━━━━━━━━━━━\u001b[0m \u001b[32m122.9/270.9 kB\u001b[0m \u001b[31m3.4 MB/s\u001b[0m eta \u001b[36m0:00:01\u001b[0m\r\u001b[2K     \u001b[90m━━━━━━━━━━━━━━━━━━━━━━━━━━━━━━━━━━━━━━━━\u001b[0m \u001b[32m270.9/270.9 kB\u001b[0m \u001b[31m4.7 MB/s\u001b[0m eta \u001b[36m0:00:00\u001b[0m\n",
            "\u001b[?25hRequirement already satisfied: numpy>=1.17 in /usr/local/lib/python3.10/dist-packages (from accelerate) (1.23.5)\n",
            "Requirement already satisfied: packaging>=20.0 in /usr/local/lib/python3.10/dist-packages (from accelerate) (23.2)\n",
            "Requirement already satisfied: psutil in /usr/local/lib/python3.10/dist-packages (from accelerate) (5.9.5)\n",
            "Requirement already satisfied: pyyaml in /usr/local/lib/python3.10/dist-packages (from accelerate) (6.0.1)\n",
            "Requirement already satisfied: torch>=1.10.0 in /usr/local/lib/python3.10/dist-packages (from accelerate) (2.1.0+cu121)\n",
            "Requirement already satisfied: huggingface-hub in /usr/local/lib/python3.10/dist-packages (from accelerate) (0.20.2)\n",
            "Requirement already satisfied: safetensors>=0.3.1 in /usr/local/lib/python3.10/dist-packages (from accelerate) (0.4.1)\n",
            "Requirement already satisfied: filelock in /usr/local/lib/python3.10/dist-packages (from torch>=1.10.0->accelerate) (3.13.1)\n",
            "Requirement already satisfied: typing-extensions in /usr/local/lib/python3.10/dist-packages (from torch>=1.10.0->accelerate) (4.5.0)\n",
            "Requirement already satisfied: sympy in /usr/local/lib/python3.10/dist-packages (from torch>=1.10.0->accelerate) (1.12)\n",
            "Requirement already satisfied: networkx in /usr/local/lib/python3.10/dist-packages (from torch>=1.10.0->accelerate) (3.2.1)\n",
            "Requirement already satisfied: jinja2 in /usr/local/lib/python3.10/dist-packages (from torch>=1.10.0->accelerate) (3.1.2)\n",
            "Requirement already satisfied: fsspec in /usr/local/lib/python3.10/dist-packages (from torch>=1.10.0->accelerate) (2023.6.0)\n",
            "Requirement already satisfied: triton==2.1.0 in /usr/local/lib/python3.10/dist-packages (from torch>=1.10.0->accelerate) (2.1.0)\n",
            "Requirement already satisfied: requests in /usr/local/lib/python3.10/dist-packages (from huggingface-hub->accelerate) (2.31.0)\n",
            "Requirement already satisfied: tqdm>=4.42.1 in /usr/local/lib/python3.10/dist-packages (from huggingface-hub->accelerate) (4.66.1)\n",
            "Requirement already satisfied: MarkupSafe>=2.0 in /usr/local/lib/python3.10/dist-packages (from jinja2->torch>=1.10.0->accelerate) (2.1.3)\n",
            "Requirement already satisfied: charset-normalizer<4,>=2 in /usr/local/lib/python3.10/dist-packages (from requests->huggingface-hub->accelerate) (3.3.2)\n",
            "Requirement already satisfied: idna<4,>=2.5 in /usr/local/lib/python3.10/dist-packages (from requests->huggingface-hub->accelerate) (3.6)\n",
            "Requirement already satisfied: urllib3<3,>=1.21.1 in /usr/local/lib/python3.10/dist-packages (from requests->huggingface-hub->accelerate) (2.0.7)\n",
            "Requirement already satisfied: certifi>=2017.4.17 in /usr/local/lib/python3.10/dist-packages (from requests->huggingface-hub->accelerate) (2023.11.17)\n",
            "Requirement already satisfied: mpmath>=0.19 in /usr/local/lib/python3.10/dist-packages (from sympy->torch>=1.10.0->accelerate) (1.3.0)\n",
            "Installing collected packages: accelerate\n",
            "Successfully installed accelerate-0.26.1\n"
          ]
        }
      ],
      "source": [
        "# Generals\n",
        "import numpy as np\n",
        "import matplotlib.pyplot as plt\n",
        "\n",
        "# External libraries\n",
        "from tqdm import tqdm\n",
        "import tensorflow as tf\n",
        "from keras import layers, models, backend as K\n",
        "from keras.datasets import mnist\n",
        "from keras.callbacks import EarlyStopping\n",
        "from keras.models import Model\n",
        "\n",
        "# Install/update the accelerate library\n",
        "!pip install accelerate -U"
      ]
    },
    {
      "cell_type": "markdown",
      "source": [
        "<br>\n",
        "<br>\n",
        "\n",
        "# **Part 1 - Downloading data**"
      ],
      "metadata": {
        "id": "uCJ4bqCoPHK8"
      }
    },
    {
      "cell_type": "markdown",
      "metadata": {
        "id": "VMXlh4Cz4_Vk"
      },
      "source": [
        "We work with images obtained from MNIST."
      ]
    },
    {
      "cell_type": "code",
      "execution_count": 2,
      "metadata": {
        "id": "Sb-6a1ZsyuC5",
        "colab": {
          "base_uri": "https://localhost:8080/"
        },
        "outputId": "d49bffb8-08a4-40b3-e847-4b468a72eb8c"
      },
      "outputs": [
        {
          "output_type": "stream",
          "name": "stdout",
          "text": [
            "Downloading data from https://storage.googleapis.com/tensorflow/tf-keras-datasets/mnist.npz\n",
            "11490434/11490434 [==============================] - 1s 0us/step\n"
          ]
        }
      ],
      "source": [
        "(x_train, y_train), (x_test, y_test) = mnist.load_data()\n",
        "x_train = (x_train/255.).astype(np.float32)\n",
        "x_test = (x_test/255.).astype(np.float32)"
      ]
    },
    {
      "cell_type": "code",
      "execution_count": 3,
      "metadata": {
        "colab": {
          "base_uri": "https://localhost:8080/"
        },
        "id": "10jtS1AnpS9l",
        "outputId": "113160ec-ffcc-4087-ac17-bc98c998b083"
      },
      "outputs": [
        {
          "output_type": "stream",
          "name": "stdout",
          "text": [
            "Training set shape: (60000, 28, 28)\n",
            "Test set shape: (10000, 28, 28)\n"
          ]
        }
      ],
      "source": [
        "# Size check\n",
        "print(f'Training set shape: {x_train.shape}\\nTest set shape: {x_test.shape}')"
      ]
    },
    {
      "cell_type": "markdown",
      "metadata": {
        "id": "z6c89m6z5J7N"
      },
      "source": [
        "Below you can find the generator you need to use for your project. Do not modify the number of moves, nor the range of translations. You are free to change the batchsize."
      ]
    },
    {
      "cell_type": "code",
      "execution_count": 4,
      "metadata": {
        "id": "eMU4M2_Ty18E"
      },
      "outputs": [],
      "source": [
        "def generator(dataset,batchsize,moves=10):\n",
        "  while True:\n",
        "    rand = np.random.randint(dataset.shape[0],size=batchsize)\n",
        "    y_truth = dataset[rand]\n",
        "    blurred = np.copy(y_truth)\n",
        "    moving = tf.expand_dims(y_truth,axis=-1)\n",
        "\n",
        "    for i in range(moves):\n",
        "      #RandomTranslation requires a channel axis\n",
        "      moving = layers.RandomTranslation(0.07,0.07,fill_mode='constant',interpolation='bilinear')(moving)\n",
        "      blurred = blurred + tf.squeeze(moving)\n",
        "    blurred = blurred/(moves+1)\n",
        "    yield(blurred,y_truth)\n",
        "\n",
        "my_gen = generator(x_train,5)"
      ]
    },
    {
      "cell_type": "code",
      "execution_count": 5,
      "metadata": {
        "id": "2cg2crUI2a0W"
      },
      "outputs": [],
      "source": [
        "# Functions to visualize images\n",
        "def plot(x,y):\n",
        "  no = x.shape[0]\n",
        "  print(no)\n",
        "  plt.figure(figsize=(2*no, 4))\n",
        "  for i in range(no):\n",
        "    # display original\n",
        "    ax = plt.subplot(2, no, i + 1)\n",
        "    plt.imshow(x[i])\n",
        "    plt.gray()\n",
        "    ax.get_xaxis().set_visible(False)\n",
        "    ax.get_yaxis().set_visible(False)\n",
        "\n",
        "    # display reconstruction\n",
        "    ax = plt.subplot(2, no, i + 1 + no)\n",
        "    plt.imshow(y[i])\n",
        "    plt.gray()\n",
        "    ax.get_xaxis().set_visible(False)\n",
        "    ax.get_yaxis().set_visible(False)\n",
        "  plt.show()\n",
        "\n",
        "def plot_pair(x, y):\n",
        "    plt.figure(figsize=(4, 2))\n",
        "\n",
        "    # Display the first image\n",
        "    ax = plt.subplot(1, 2, 1)\n",
        "    plt.imshow(x)\n",
        "    plt.gray()\n",
        "    ax.get_xaxis().set_visible(False)\n",
        "    ax.get_yaxis().set_visible(False)\n",
        "\n",
        "    # Display the second image\n",
        "    ax = plt.subplot(1, 2, 2)\n",
        "    plt.imshow(y)\n",
        "    plt.gray()\n",
        "    ax.get_xaxis().set_visible(False)\n",
        "    ax.get_yaxis().set_visible(False)\n",
        "\n",
        "    plt.show()"
      ]
    },
    {
      "cell_type": "markdown",
      "metadata": {
        "id": "lVt0nxCeEfVJ"
      },
      "source": [
        "Here we plot some examples. In the first row you see the blurred image, and in the second the original image, that is the ground truth that you are suppose to obtain through deblurring."
      ]
    },
    {
      "cell_type": "code",
      "execution_count": 6,
      "metadata": {
        "colab": {
          "base_uri": "https://localhost:8080/",
          "height": 355
        },
        "id": "6CtE9rzb78Hg",
        "outputId": "e788f8ed-0586-4f95-8cbd-f11e0c364054"
      },
      "outputs": [
        {
          "output_type": "stream",
          "name": "stdout",
          "text": [
            "5\n"
          ]
        },
        {
          "output_type": "display_data",
          "data": {
            "text/plain": [
              "<Figure size 1000x400 with 10 Axes>"
            ],
            "image/png": "[encoded data removed]"
          },
          "metadata": {}
        }
      ],
      "source": [
        "test_x,test_y = next(my_gen)\n",
        "plot(test_x,test_y)"
      ]
    },
    {
      "cell_type": "markdown",
      "metadata": {
        "id": "vJ9hHGB7lOjO"
      },
      "source": [
        "<br>\n",
        "<br>\n",
        "\n",
        "# **Part 2 - Re-arrange data in a proper format**"
      ]
    },
    {
      "cell_type": "code",
      "execution_count": 7,
      "metadata": {
        "id": "iFa5tM-My6om"
      },
      "outputs": [],
      "source": [
        "# Functions to prepare data\n",
        "def zip_tensors(tensor1, tensor2):\n",
        "    if tensor1.shape != tensor2.shape:\n",
        "        raise ValueError(\"Tensors must have equal shapes.\")\n",
        "    return [(tensor1[i], tensor2[i]) for i in range(tensor1.shape[0])]\n",
        "\n",
        "def data_constructor(generator):\n",
        "  x, y = next(generator)\n",
        "  data = zip_tensors(x, y)\n",
        "  return data"
      ]
    },
    {
      "cell_type": "code",
      "source": [
        "# Since I do not have a given validation set, I reserve part of the training set (5000 elements) as validation. The final examination of the model will be done on the test set.\n",
        "x_val = x_train[55000:]\n",
        "x_train = x_train[:55000]"
      ],
      "metadata": {
        "id": "U9IYjs82jfm4"
      },
      "execution_count": 8,
      "outputs": []
    },
    {
      "cell_type": "code",
      "execution_count": 9,
      "metadata": {
        "id": "4Jx2vMmdw2YG"
      },
      "outputs": [],
      "source": [
        "# Obtain a list of tuples, in which in each tuple is made by a couple of tensors. The first tensor is the blurred image, the second one is the GT image.\n",
        "\n",
        "train_generator = generator(x_train, len(x_train)) # generation of training set (GT + blurred image)\n",
        "validation_generator = generator(x_val,len(x_val)) # generation of the validation set (GT + blurred image)\n",
        "test_generator = generator(x_test,len(x_test)) # generation of the test set (GT + blurred image)\n",
        "\n",
        "train_data = data_constructor(train_generator)\n",
        "validation_data = data_constructor(validation_generator)\n",
        "test_data = data_constructor(test_generator)"
      ]
    },
    {
      "cell_type": "code",
      "source": [
        "# Size check, again\n",
        "print(f'Training set shape: {len(train_data)}\\nValidation set shape: {len(validation_data)}\\nTest set shape: {len(test_data)}')"
      ],
      "metadata": {
        "colab": {
          "base_uri": "https://localhost:8080/"
        },
        "id": "ze_ZD-vXkPzD",
        "outputId": "e5f67eff-b6e4-472c-98f0-9df63a051b71"
      },
      "execution_count": 10,
      "outputs": [
        {
          "output_type": "stream",
          "name": "stdout",
          "text": [
            "Training set shape: 55000\n",
            "Validation set shape: 5000\n",
            "Test set shape: 10000\n"
          ]
        }
      ]
    },
    {
      "cell_type": "code",
      "execution_count": 11,
      "metadata": {
        "id": "8I3MLDqywWo3"
      },
      "outputs": [],
      "source": [
        "# Those lines have the purpose of converting the data in the right format for the model. Also using NumPy allows a much more efficient efficiency, reducing times of computation\n",
        "for i in range(len(train_data)):\n",
        "    train_data[i] = (train_data[i][0].numpy(), train_data[i][1])\n",
        "\n",
        "for i in range(len(validation_data)):\n",
        "    validation_data[i] = (validation_data[i][0].numpy(), validation_data[i][1])\n",
        "\n",
        "for i in range(len(test_data)):\n",
        "    test_data[i] = (test_data[i][0].numpy(), test_data[i][1])\n",
        "\n",
        "train_data_np = np.array(train_data)\n",
        "validation_data_np = np.array(validation_data)\n",
        "test_data_np = np.array(test_data)"
      ]
    },
    {
      "cell_type": "code",
      "execution_count": 12,
      "metadata": {
        "colab": {
          "base_uri": "https://localhost:8080/",
          "height": 1000
        },
        "id": "eiANU1MA0wgG",
        "outputId": "01f1f354-b88a-4b06-e817-5b4c9533cdbf"
      },
      "outputs": [
        {
          "output_type": "display_data",
          "data": {
            "text/plain": [
              "<Figure size 400x200 with 2 Axes>"
            ],
            "image/png": "[encoded data removed]"
          },
          "metadata": {}
        },
        {
          "output_type": "display_data",
          "data": {
            "text/plain": [
              "<Figure size 400x200 with 2 Axes>"
            ],
            "image/png": "[encoded data removed]"
          },
          "metadata": {}
        },
        {
          "output_type": "stream",
          "name": "stdout",
          "text": [
            "\n",
            "\n",
            "\n"
          ]
        },
        {
          "output_type": "display_data",
          "data": {
            "text/plain": [
              "<Figure size 400x200 with 2 Axes>"
            ],
            "image/png": "[encoded data removed]"
          },
          "metadata": {}
        },
        {
          "output_type": "display_data",
          "data": {
            "text/plain": [
              "<Figure size 400x200 with 2 Axes>"
            ],
            "image/png": "[encoded data removed]"
          },
          "metadata": {}
        },
        {
          "output_type": "stream",
          "name": "stdout",
          "text": [
            "\n",
            "\n",
            "\n"
          ]
        },
        {
          "output_type": "display_data",
          "data": {
            "text/plain": [
              "<Figure size 400x200 with 2 Axes>"
            ],
            "image/png": "[encoded data removed]"
          },
          "metadata": {}
        },
        {
          "output_type": "display_data",
          "data": {
            "text/plain": [
              "<Figure size 400x200 with 2 Axes>"
            ],
            "image/png": "[encoded data removed]"
          },
          "metadata": {}
        }
      ],
      "source": [
        "# Check if the process worked. As we can see, the first element of each list is the blurred image, while the second one is the GT image\n",
        "plot_pair(train_data[0][0], train_data[0][1])\n",
        "plot_pair(train_data[45][0], train_data[45][1])\n",
        "print('\\n\\n')\n",
        "plot_pair(validation_data[0][0], validation_data[0][1])\n",
        "plot_pair(validation_data[45][0], validation_data[45][1])\n",
        "print('\\n\\n')\n",
        "plot_pair(test_data[0][0], test_data[0][1])\n",
        "plot_pair(test_data[45][0], test_data[45][1])\n"
      ]
    },
    {
      "cell_type": "code",
      "source": [
        "# Divide the ground truth images from the blurred images\n",
        "x_train = train_data_np[:, 0]\n",
        "y_train = train_data_np[:, 1]\n",
        "\n",
        "x_val = validation_data_np[:, 0]\n",
        "y_val = validation_data_np[:, 1]\n",
        "\n",
        "x_test = test_data_np[:, 0]\n",
        "y_test = test_data_np[:, 1]"
      ],
      "metadata": {
        "id": "Nk5F9DS_MiAQ"
      },
      "execution_count": 13,
      "outputs": []
    },
    {
      "cell_type": "code",
      "source": [
        "# And convert them again into NumPy arrays\n",
        "x_train = np.array(list(x_train))\n",
        "y_train = np.array(list(y_train))\n",
        "\n",
        "x_val = np.array(list(x_val))\n",
        "y_val = np.array(list(y_val))\n",
        "\n",
        "x_test = np.array(list(x_test))\n",
        "y_test = np.array(list(y_test))"
      ],
      "metadata": {
        "id": "gtNqFb1slOBB"
      },
      "execution_count": 14,
      "outputs": []
    },
    {
      "cell_type": "markdown",
      "metadata": {
        "id": "9BFh2BCW-Fl6"
      },
      "source": [
        "<br>\n",
        "<br>\n",
        "\n",
        "# **Part 3 - Model**\n",
        "I've chosen a straightforward **AutoEncoder (AE)** architecture. The input data undergoes encoding to generate a compressed representation, which is then decoded back to the original data. Additionally, I've incorporated a custom Mean Squared Error (MSE) loss. The rationale behind this choice is to assign less weight to black pixels (value 0). This approach allows the model to concentrate more on effectively denoising non-black pixels, which, in our dataset, represent the numbers of interest."
      ]
    },
    {
      "cell_type": "code",
      "execution_count": 15,
      "metadata": {
        "id": "r3SO4MeI94Vv"
      },
      "outputs": [],
      "source": [
        "class SimpleAE(tf.keras.Model):\n",
        "    def __init__(self):\n",
        "        super(SimpleAE, self).__init__()\n",
        "\n",
        "        self.encoder = models.Sequential([\n",
        "            layers.Reshape((28, 28, 1), input_shape=(28, 28)),\n",
        "            layers.Conv2D(32, kernel_size=5, activation='relu', padding='same'),\n",
        "            layers.BatchNormalization(),\n",
        "            layers.Conv2D(64, kernel_size=5, activation='relu', padding='same'),\n",
        "            layers.BatchNormalization(),\n",
        "            layers.Conv2D(128, kernel_size=5, activation='relu', padding='same'),\n",
        "            layers.BatchNormalization(),\n",
        "            layers.Conv2D(256, kernel_size=5, activation='relu', padding='same'),\n",
        "            layers.BatchNormalization(),\n",
        "        ])\n",
        "\n",
        "        self.decoder = models.Sequential([\n",
        "            layers.Conv2DTranspose(256, kernel_size=5, activation='relu', padding='same'),\n",
        "            layers.BatchNormalization(),\n",
        "            layers.Conv2DTranspose(128, kernel_size=5, activation='relu', padding='same'),\n",
        "            layers.BatchNormalization(),\n",
        "            layers.Conv2DTranspose(64, kernel_size=5, activation='relu', padding='same'),\n",
        "            layers.BatchNormalization(),\n",
        "            layers.Conv2DTranspose(32, kernel_size=5, activation='relu', padding='same'),\n",
        "            layers.BatchNormalization(),\n",
        "            layers.Conv2DTranspose(1, kernel_size=5, activation='relu', padding='same'),\n",
        "            layers.Reshape((28, 28))\n",
        "        ])\n",
        "\n",
        "    def call(self, x):\n",
        "        x = self.encoder(x)\n",
        "        x = self.decoder(x)\n",
        "        return x\n",
        "\n",
        "def weighted_mse(y_true, y_pred):\n",
        "    weights = 20 - K.cast(K.equal(y_true, 0.), K.floatx())\n",
        "    mse = K.mean(weights * K.square(y_true - y_pred), axis=(1, 2))\n",
        "    return mse"
      ]
    },
    {
      "cell_type": "code",
      "execution_count": 16,
      "metadata": {
        "colab": {
          "base_uri": "https://localhost:8080/"
        },
        "id": "MIftz1TcayxO",
        "outputId": "0f72d4d0-dcee-469e-d7f1-5b64f692f9b0"
      },
      "outputs": [
        {
          "output_type": "stream",
          "name": "stdout",
          "text": [
            "Model: \"simple_ae\"\n",
            "_________________________________________________________________\n",
            " Layer (type)                Output Shape              Param #   \n",
            "=================================================================\n",
            " sequential (Sequential)     (None, 28, 28, 256)       1078400   \n",
            "                                                                 \n",
            " sequential_1 (Sequential)   (None, 28, 28)            2716801   \n",
            "                                                                 \n",
            "=================================================================\n",
            "Total params: 3795201 (14.48 MB)\n",
            "Trainable params: 3793281 (14.47 MB)\n",
            "Non-trainable params: 1920 (7.50 KB)\n",
            "_________________________________________________________________\n"
          ]
        }
      ],
      "source": [
        "model_AE = SimpleAE()\n",
        "model_AE.build((None, 28, 28, 1))\n",
        "model_AE.summary()\n",
        "\n",
        "# Compile using my custom MSE loss\n",
        "model_AE.compile(optimizer='adam', loss=weighted_mse)"
      ]
    },
    {
      "cell_type": "markdown",
      "source": [
        "Implement early stopping to halt training after three epochs without improvement in validation loss, with the counting starting after the completion of the 15th epoch. The use of \"restore_best_weights\" ensures the retention of the best configuration discovered throughout the training process."
      ],
      "metadata": {
        "id": "DjHKmnQxOJoh"
      }
    },
    {
      "cell_type": "code",
      "source": [
        "early_stopping = EarlyStopping(\n",
        "    monitor=\"val_loss\",\n",
        "    min_delta=0.0001,\n",
        "    patience=3,\n",
        "    mode=\"min\",\n",
        "    restore_best_weights=True,\n",
        "    start_from_epoch=15,\n",
        ")\n",
        "\n",
        "history_AE = model_AE.fit(x_train, y_train, epochs=35, batch_size=16, validation_data=(x_val, y_val), callbacks=[early_stopping])"
      ],
      "metadata": {
        "colab": {
          "base_uri": "https://localhost:8080/"
        },
        "id": "ZJhmkDLFM_9q",
        "outputId": "1cfa532c-4722-4307-d2fe-2ad2799bf6ad"
      },
      "execution_count": 17,
      "outputs": [
        {
          "output_type": "stream",
          "name": "stdout",
          "text": [
            "Epoch 1/35\n",
            "3438/3438 [==============================] - 132s 36ms/step - loss: 0.4645 - val_loss: 0.1729\n",
            "Epoch 2/35\n",
            "3438/3438 [==============================] - 125s 36ms/step - loss: 0.1273 - val_loss: 0.1216\n",
            "Epoch 3/35\n",
            "3438/3438 [==============================] - 124s 36ms/step - loss: 0.0976 - val_loss: 0.0931\n",
            "Epoch 4/35\n",
            "3438/3438 [==============================] - 124s 36ms/step - loss: 0.0808 - val_loss: 0.0784\n",
            "Epoch 5/35\n",
            "3438/3438 [==============================] - 124s 36ms/step - loss: 0.0664 - val_loss: 0.0714\n",
            "Epoch 6/35\n",
            "3438/3438 [==============================] - 124s 36ms/step - loss: 0.0567 - val_loss: 0.0678\n",
            "Epoch 7/35\n",
            "3438/3438 [==============================] - 124s 36ms/step - loss: 0.0496 - val_loss: 0.6572\n",
            "Epoch 8/35\n",
            "3438/3438 [==============================] - 124s 36ms/step - loss: 0.0430 - val_loss: 0.0599\n",
            "Epoch 9/35\n",
            "3438/3438 [==============================] - 124s 36ms/step - loss: 0.0384 - val_loss: 0.0557\n",
            "Epoch 10/35\n",
            "3438/3438 [==============================] - 124s 36ms/step - loss: 0.0345 - val_loss: 0.0560\n",
            "Epoch 11/35\n",
            "3438/3438 [==============================] - 124s 36ms/step - loss: 0.0312 - val_loss: 0.0629\n",
            "Epoch 12/35\n",
            "3438/3438 [==============================] - 124s 36ms/step - loss: 0.0288 - val_loss: 0.0552\n",
            "Epoch 13/35\n",
            "3438/3438 [==============================] - 124s 36ms/step - loss: 0.0263 - val_loss: 0.0540\n",
            "Epoch 14/35\n",
            "3438/3438 [==============================] - 124s 36ms/step - loss: 0.0251 - val_loss: 0.0524\n",
            "Epoch 15/35\n",
            "3438/3438 [==============================] - 124s 36ms/step - loss: 0.0232 - val_loss: 0.0541\n",
            "Epoch 16/35\n",
            "3438/3438 [==============================] - 125s 36ms/step - loss: 0.0221 - val_loss: 0.0537\n",
            "Epoch 17/35\n",
            "3438/3438 [==============================] - 124s 36ms/step - loss: 0.0209 - val_loss: 0.0518\n",
            "Epoch 18/35\n",
            "3438/3438 [==============================] - 124s 36ms/step - loss: 0.0192 - val_loss: 0.0526\n",
            "Epoch 19/35\n",
            "3438/3438 [==============================] - 124s 36ms/step - loss: 0.0186 - val_loss: 0.0514\n",
            "Epoch 20/35\n",
            "3438/3438 [==============================] - 124s 36ms/step - loss: 0.0176 - val_loss: 0.0508\n",
            "Epoch 21/35\n",
            "3438/3438 [==============================] - 124s 36ms/step - loss: 0.0166 - val_loss: 0.0495\n",
            "Epoch 22/35\n",
            "3438/3438 [==============================] - 124s 36ms/step - loss: 0.0162 - val_loss: 0.0509\n",
            "Epoch 23/35\n",
            "3438/3438 [==============================] - 124s 36ms/step - loss: 0.0150 - val_loss: 0.0521\n",
            "Epoch 24/35\n",
            "3438/3438 [==============================] - 124s 36ms/step - loss: 0.0145 - val_loss: 0.0512\n"
          ]
        }
      ]
    },
    {
      "cell_type": "markdown",
      "source": [
        "### Loss trend visualization"
      ],
      "metadata": {
        "id": "_s4g79xDO6q-"
      }
    },
    {
      "cell_type": "code",
      "execution_count": 18,
      "metadata": {
        "id": "dKgni77IBeKN",
        "colab": {
          "base_uri": "https://localhost:8080/",
          "height": 619
        },
        "outputId": "bb789131-219e-4d02-b21a-ed4d9c4d36e4"
      },
      "outputs": [
        {
          "output_type": "display_data",
          "data": {
            "text/plain": [
              "<Figure size 1000x700 with 1 Axes>"
            ],
            "image/png": "[encoded data removed]"
          },
          "metadata": {}
        }
      ],
      "source": [
        "plt.figure(figsize=(10, 7))\n",
        "plt.plot(history_AE.history['loss'], label='Training Loss')\n",
        "plt.plot(history_AE.history['val_loss'], label='Validation Loss')\n",
        "plt.xlabel('Epoch')\n",
        "plt.ylabel('Loss')\n",
        "plt.legend()\n",
        "plt.show()"
      ]
    },
    {
      "cell_type": "markdown",
      "source": [
        "The decision to use 35 epochs might appear excessive at first glance. However, through empirical observation, it has been noted that in some runs, the optimal performance is achieved around the 30th epoch. The introduction of the patience parameter is intended to prevent prolonged training sessions in instances where the validation loss begins to worsen before reaching the specified number of epochs. So the idea behind this approach is to find a balance between achieving sufficient training and avoiding unnecessary computational overhead.\n",
        "\n",
        "<br>\n",
        "<br>\n",
        "\n",
        "In some cases I observed an isolated spike in the validation loss. This is due to the fact that the validation set is really small, so it is very sensitive to some variation of the weights. However those spikes do not compromise the process of training."
      ],
      "metadata": {
        "id": "1vwGZyuoNa2R"
      }
    },
    {
      "cell_type": "markdown",
      "metadata": {
        "id": "7TbSJVKZEKig"
      },
      "source": [
        "<br>\n",
        "<br>\n",
        "\n",
        "# **Part 4 - Evaluation**\n",
        "\n",
        "Use Mean Squared Error (mse) to evaluate the error between the deblurred image and the ground truth.\n",
        "Measure mse on 10000 blurred versions of the validation set.\n",
        "\n",
        "Repeat the prevevious computation 10 times, and gives as a result the **mean\n",
        "mse over the ten rounds, along with the standard deviation**."
      ]
    },
    {
      "cell_type": "code",
      "execution_count": 19,
      "metadata": {
        "id": "fdIDde1T2MKM",
        "colab": {
          "base_uri": "https://localhost:8080/"
        },
        "outputId": "4296208e-c6f2-4468-c1e3-cc9e0270b5c1"
      },
      "outputs": [
        {
          "output_type": "stream",
          "name": "stdout",
          "text": [
            "313/313 [==============================] - 6s 14ms/step\n",
            "Value:0.0026163305155932903\n"
          ]
        }
      ],
      "source": [
        "# Function to compute the MSE of a batch of deblurred-GT images\n",
        "def compute_mse(model, images, ground_truth):\n",
        "    images = np.expand_dims(images, axis=-1)\n",
        "    ground_truth = np.expand_dims(ground_truth, axis=-1)\n",
        "\n",
        "    # Predict using the model\n",
        "    deblurred_images = model.predict(images)\n",
        "    deblurred_images = np.expand_dims(deblurred_images, axis=-1)\n",
        "\n",
        "    # Compute MSE\n",
        "    mse = tf.keras.losses.mean_squared_error(ground_truth, deblurred_images)\n",
        "    squeezed_images = np.squeeze(deblurred_images, axis=-1)\n",
        "    return tf.reduce_mean(mse).numpy(), squeezed_images"
      ]
    },
    {
      "cell_type": "code",
      "source": [
        "# This function returns a list with ten different test set, to provide the evaluation on 10 different test sets, as requested\n",
        "def get_evaluation(test_generator):\n",
        "  test_versions = []\n",
        "  for i in range(10):\n",
        "    list_A = []\n",
        "    test_data = data_constructor(test_generator)\n",
        "    for j in range(len(test_data)):\n",
        "        test_data[j] = (test_data[j][0].numpy(), test_data[j][1])\n",
        "    test_data_np = np.array(test_data)\n",
        "\n",
        "    x_test = test_data_np[:, 0]\n",
        "    y_test = test_data_np[:, 1]\n",
        "\n",
        "    x_test = np.array(list(x_test))\n",
        "    y_test = np.array(list(y_test))\n",
        "    list_A.append(x_test)\n",
        "    list_A.append(y_test)\n",
        "\n",
        "    test_versions.append(list_A)\n",
        "  return test_versions\n",
        "\n",
        "test_versions = get_evaluation(test_generator)"
      ],
      "metadata": {
        "id": "Wtv0Cq7YZhsw"
      },
      "execution_count": 20,
      "outputs": []
    },
    {
      "cell_type": "code",
      "source": [
        "# I computed the MSE and the 'deblurrd images' (obtained with my AE) for each batch and saved them in two lists.\n",
        "mse_values = []\n",
        "deblurred_images = []\n",
        "for test_version in test_versions:\n",
        "  mse_value, deblurred_image = compute_mse(model_AE, test_version[0], test_version[1])\n",
        "  mse_values.append(mse_value)\n",
        "  deblurred_images.append(deblurred_image)"
      ],
      "metadata": {
        "id": "UJEfAmuTWDwG",
        "colab": {
          "base_uri": "https://localhost:8080/"
        },
        "outputId": "abac113a-fbe8-43e1-9788-d72afcaaebea"
      },
      "execution_count": 21,
      "outputs": [
        {
          "output_type": "stream",
          "name": "stdout",
          "text": [
            "313/313 [==============================] - 5s 14ms/step\n",
            "313/313 [==============================] - 5s 14ms/step\n",
            "313/313 [==============================] - 5s 14ms/step\n",
            "313/313 [==============================] - 5s 15ms/step\n",
            "313/313 [==============================] - 5s 15ms/step\n",
            "313/313 [==============================] - 5s 15ms/step\n",
            "313/313 [==============================] - 5s 15ms/step\n",
            "313/313 [==============================] - 5s 15ms/step\n",
            "313/313 [==============================] - 5s 15ms/step\n",
            "313/313 [==============================] - 5s 15ms/step\n"
          ]
        }
      ]
    },
    {
      "cell_type": "code",
      "source": [
        "# Compute the mean and standard deviation of the list of mse_values\n",
        "def calculate_avg_std(numbers):\n",
        "    numbers_array = np.array(numbers)\n",
        "    avg = np.mean(numbers_array)\n",
        "    std = np.std(numbers_array)\n",
        "    return avg, std\n",
        "\n",
        "avg, std = calculate_avg_std(mse_values)\n",
        "print(f'Average mse is: {avg}')\n",
        "print(f'Standard deviation of the obtained results is {std}')"
      ],
      "metadata": {
        "id": "7FqEwrPDW6sz",
        "colab": {
          "base_uri": "https://localhost:8080/"
        },
        "outputId": "7190d4d3-9bbc-4ca1-9e13-1d5be93b7d3f"
      },
      "execution_count": 22,
      "outputs": [
        {
          "output_type": "stream",
          "name": "stdout",
          "text": [
            "Average mse is: 0.0025541302748024464\n",
            "Standard deviation of the obtained results is 3.991331686847843e-05\n"
          ]
        }
      ]
    },
    {
      "cell_type": "markdown",
      "source": [
        "The average MSE loss across multiple runs spans ranges from 0.0023 to 0.0026. This variability is attributed to the generation of a new training set for each run. The use of 10 distinct validation sets ensures robustness in assessing the MSE loss value, providing a more reliable evaluation of the model's performance.\n",
        "The standard deviation is always really small (around 5e-5)."
      ],
      "metadata": {
        "id": "S10TQkI9L0nD"
      }
    },
    {
      "cell_type": "markdown",
      "source": [
        "<br>\n",
        "<br>\n",
        "\n",
        "# **Part 5 - Analysis of the results**"
      ],
      "metadata": {
        "id": "mZ6J2elrP9SH"
      }
    },
    {
      "cell_type": "code",
      "source": [
        "# Visualize some images to see the level of deblurring\n",
        "fig, axes = plt.subplots(1, 3, figsize=(14, 9))\n",
        "axes[0].imshow(test_versions[0][0][0], cmap='gray')\n",
        "axes[0].set_title('Blurred Image')\n",
        "axes[1].imshow(deblurred_images[0][0], cmap='gray')\n",
        "axes[1].set_title('Deblurred Image')\n",
        "axes[2].imshow(test_versions[0][1][0], cmap='gray')\n",
        "axes[2].set_title('Ground Truth Image')\n",
        "\n",
        "\n",
        "plt.show()"
      ],
      "metadata": {
        "id": "DUe8DGuDEk4j",
        "colab": {
          "base_uri": "https://localhost:8080/",
          "height": 402
        },
        "outputId": "74a43667-3ec3-4063-d232-01aa396cfce0"
      },
      "execution_count": 23,
      "outputs": [
        {
          "output_type": "display_data",
          "data": {
            "text/plain": [
              "<Figure size 1400x900 with 3 Axes>"
            ],
            "image/png": "[encoded data removed]"
          },
          "metadata": {}
        }
      ]
    },
    {
      "cell_type": "code",
      "source": [
        "fig, axes = plt.subplots(1, 3, figsize=(14, 9))\n",
        "axes[0].imshow(test_versions[0][0][16], cmap='gray')\n",
        "axes[0].set_title('Blurred Image')\n",
        "axes[1].imshow(deblurred_images[0][16], cmap='gray')\n",
        "axes[1].set_title('Deblurred Image')\n",
        "axes[2].imshow(test_versions[0][1][16], cmap='gray')\n",
        "axes[2].set_title('Ground Truth Image')\n",
        "\n",
        "\n",
        "plt.show()"
      ],
      "metadata": {
        "colab": {
          "base_uri": "https://localhost:8080/",
          "height": 402
        },
        "id": "k7nhDZ-jMv9s",
        "outputId": "946213a5-1ab2-4eee-9381-8e6e06bec960"
      },
      "execution_count": 24,
      "outputs": [
        {
          "output_type": "display_data",
          "data": {
            "text/plain": [
              "<Figure size 1400x900 with 3 Axes>"
            ],
            "image/png": "[encoded data removed]"
          },
          "metadata": {}
        }
      ]
    },
    {
      "cell_type": "markdown",
      "source": [
        "The deblurred images closely resemble the ground truth images, showcasing the effectiveness of the deblurring process."
      ],
      "metadata": {
        "id": "fOWwDfVGMgFq"
      }
    },
    {
      "cell_type": "markdown",
      "source": [
        "<br>\n",
        "<br>\n",
        "\n",
        "# **PART 6 - Explaining my choices**\n",
        "I have chosen this particular architecture (Encoder-Decoder design + Convolutional layers and Batch Normalization layers) for various reasons:\n",
        " - Many papers describe the **AE architecture** as inherently designed for learning compact and informative representations of input data. In particular, the encoder captures essential features during encoding, and the decoder reconstructs the original image, for those reasons I found it extremely well-suited for this deblurring task that is indeed an image restoration task.\n",
        " - The use of **convolutional layers** in both the encoder and decoder enables the model to effectively capture hierarchical features in the input image. These layers give the model the ability to learn spatial hierarchies, which is crucial for this kind of task. In my experimentation, more complex models with an increased number of convolutional layers exhibited impractical levels of complexity, leading to highly unstable training. This phenomenon can be attributed to two primary factors: 1) The simplicity of MNIST images, where an overly complex model is prone to overfitting on the training set, and 2) the relatively small size of the training set, posing challenges for the model to generalize effectively. My exploration also extended to simpler models with fewer convolutional layers, but these alternatives failed to attain the level of Mean Squared Error (MSE) achieved by the specific architecture chosen.\n",
        " - **Batch normalization layers** following each convolutional layer played a pivotal role in enhancing the stability and expediting the training process. In the initial experiments conducted without these layers, training proceeded at a noticeably sluggish pace. Moreover, the inclusion of batch normalization resulted in a substantial decrease in Mean Squared Error (MSE), underscoring its effectiveness in improving both the efficiency and performance of the training process.\n",
        "\n",
        "<br>\n",
        "\n",
        "I also chose specific values for te hyperparameters of the model:\n",
        " - **batch_size=16:** This particular choice strikes a balance between the benefits of stochasticity and computational efficiency. While smaller batch sizes were explored with simpler models, empirical evidence revealed that, as the model complexity increased, opting for a larger batch size yielded superior results. This choice aims to strike an optimal balance for efficient and effective model training.\n",
        " - **n_Epochs=35:** The choice of 35 epochs may seem extensive, but it is based on empirical evidence from experimental analyses. In some runs, optimal performance was observed around the 30th epoch. The training was set for 35 epochs to allow the model to learn patterns thoroughly, and early stopping was implemented to prevent overfitting.\n",
        " - **Adam Optimizer:** The selection of the Adam optimizer stems from its adaptive learning rate, which proved advantageous in navigating the intricacies of training. While I did not extensively experiment with other optimizers, consistent monitoring of loss values did not reveal any anomalous behaviors that would suggest issues related to learning rate or initialization points.\n",
        "\n",
        "Lastly, I'd like to discuss the rationale behind introducing a **custom MSE loss**. The intention behind this customization was to assign less weight to black pixels while amplifying the significance of brighter pixels. While experiments comparing the use of weighted MSE loss to its absence did not yield drastic changes, I chose to retain it due to the discernible albeit modest improvement observed. This tailored loss function aligns with the objective of fine-tuning the model's focus on specific pixel values, contributing to its overall performance."
      ],
      "metadata": {
        "id": "K1-TEyU_pnRs"
      }
    }
  ],
  "metadata": {
    "colab": {
      "machine_shape": "hm",
      "provenance": [],
      "gpuType": "T4"
    },
    "kernelspec": {
      "display_name": "Python 3",
      "name": "python3"
    },
    "language_info": {
      "codemirror_mode": {
        "name": "ipython",
        "version": 3
      },
      "file_extension": ".py",
      "mimetype": "text/x-python",
      "name": "python",
      "nbconvert_exporter": "python",
      "pygments_lexer": "ipython3",
      "version": "3.8.10"
    },
    "accelerator": "GPU"
  },
  "nbformat": 4,
  "nbformat_minor": 0
}