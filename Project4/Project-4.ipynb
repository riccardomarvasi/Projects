{
  "cells": [
    {
      "cell_type": "markdown",
      "metadata": {
        "id": "YH2W2bAQJmMk"
      },
      "source": [
        "# **PROJECT WORK - NLP**"
      ]
    },
    {
      "cell_type": "markdown",
      "metadata": {
        "id": "ubEwG4aAJmMo"
      },
      "source": [
        "## **TASK 1 - Corpus**"
      ]
    },
    {
      "cell_type": "markdown",
      "metadata": {
        "id": "BAfFSfF8JmMo"
      },
      "source": [
        "#### **1.1 Packages**"
      ]
    },
    {
      "cell_type": "code",
      "execution_count": 71,
      "metadata": {
        "id": "CokDxMVMJmMp"
      },
      "outputs": [],
      "source": [
        "import random\n",
        "import warnings\n",
        "import nltk\n",
        "import string\n",
        "\n",
        "import pandas as pd\n",
        "import matplotlib.pyplot as plt\n",
        "import seaborn as sns\n",
        "import torch\n",
        "import torch.nn as nn\n",
        "import numpy as np\n",
        "\n",
        "from sklearn.feature_extraction.text import TfidfVectorizer\n",
        "from sklearn.ensemble import RandomForestClassifier\n",
        "from sklearn.metrics import accuracy_score, precision_score, recall_score, f1_score, confusion_matrix\n",
        "from sklearn.linear_model import LogisticRegression\n",
        "from sklearn.svm import SVC\n",
        "from sklearn.naive_bayes import MultinomialNB\n",
        "from xgboost import XGBClassifier\n",
        "from nltk.corpus import stopwords\n",
        "from nltk.stem import WordNetLemmatizer\n",
        "from nltk.tokenize import word_tokenize\n",
        "from transformers import BertModel, AdamW\n",
        "from sklearn.utils.class_weight import compute_class_weight\n",
        "from transformers import AutoTokenizer\n",
        "\n",
        "warnings.filterwarnings(\"ignore\")\n",
        "\n",
        "random_seed1d = 20\n",
        "random_seed2d = 21\n",
        "random_seed3d = 22\n",
        "random_seed4d = 23\n",
        "random_seed5d = 24"
      ]
    },
    {
      "cell_type": "code",
      "execution_count": 72,
      "metadata": {
        "colab": {
          "base_uri": "https://localhost:8080/"
        },
        "id": "jScxSMoGJmMq",
        "outputId": "f8cd1cb7-a62f-4378-942b-620bc640e236"
      },
      "outputs": [
        {
          "name": "stdout",
          "output_type": "stream",
          "text": [
            "Using CUDA!\n"
          ]
        }
      ],
      "source": [
        "if torch.cuda.is_available():\n",
        "    device = torch.device(\"cuda\")\n",
        "    print('Using CUDA!')\n",
        "else:\n",
        "    device = torch.device(\"cpu\")\n",
        "    print('CUDA not available...using CPU')"
      ]
    },
    {
      "cell_type": "markdown",
      "metadata": {
        "id": "dW46IdGGJmMr"
      },
      "source": [
        "<br>\n",
        "<br>\n",
        "\n",
        "#### **1.2 Dataset download & encoding**"
      ]
    },
    {
      "cell_type": "code",
      "execution_count": 73,
      "metadata": {
        "id": "4f3oZA53JmMr"
      },
      "outputs": [],
      "source": [
        "url = 'https://raw.githubusercontent.com/asreview/systematic-review-datasets/metadata-v1-final/datasets/Appenzeller-Herzog_2020/output/Appenzeller-Herzog_2020.csv'\n",
        "data = pd.read_csv(url, sep=',')\n",
        "df = pd.DataFrame(data).set_index('record_id')"
      ]
    },
    {
      "cell_type": "code",
      "execution_count": 75,
      "metadata": {
        "colab": {
          "base_uri": "https://localhost:8080/",
          "height": 587
        },
        "id": "PsNkqTDJJmMr",
        "outputId": "75566d3a-73c7-4220-cd8f-c4493cadfc75"
      },
      "outputs": [
        {
          "data": {
            "text/html": [
              "<div>\n",
              "<style scoped>\n",
              "    .dataframe tbody tr th:only-of-type {\n",
              "        vertical-align: middle;\n",
              "    }\n",
              "\n",
              "    .dataframe tbody tr th {\n",
              "        vertical-align: top;\n",
              "    }\n",
              "\n",
              "    .dataframe thead th {\n",
              "        text-align: right;\n",
              "    }\n",
              "</style>\n",
              "<table border=\"1\" class=\"dataframe\">\n",
              "  <thead>\n",
              "    <tr style=\"text-align: right;\">\n",
              "      <th></th>\n",
              "      <th>title</th>\n",
              "      <th>abstract</th>\n",
              "      <th>keywords</th>\n",
              "      <th>authors</th>\n",
              "      <th>year</th>\n",
              "      <th>date</th>\n",
              "      <th>doi</th>\n",
              "      <th>label_included</th>\n",
              "      <th>label_abstract_screening</th>\n",
              "      <th>duplicate_record_id</th>\n",
              "    </tr>\n",
              "    <tr>\n",
              "      <th>record_id</th>\n",
              "      <th></th>\n",
              "      <th></th>\n",
              "      <th></th>\n",
              "      <th></th>\n",
              "      <th></th>\n",
              "      <th></th>\n",
              "      <th></th>\n",
              "      <th></th>\n",
              "      <th></th>\n",
              "      <th></th>\n",
              "    </tr>\n",
              "  </thead>\n",
              "  <tbody>\n",
              "    <tr>\n",
              "      <th>1</th>\n",
              "      <td>Binding Selectivity of Methanobactin from Meth...</td>\n",
              "      <td>Methanobactin (Mb) from Methylosinus trichospo...</td>\n",
              "      <td>NaN</td>\n",
              "      <td>McCabe, J. W.;Vangala, R.;Angel, L. A.</td>\n",
              "      <td>2017</td>\n",
              "      <td>Aug 30</td>\n",
              "      <td>https://dx.doi.org/10.1007/s13361-017-1778-9</td>\n",
              "      <td>0</td>\n",
              "      <td>0</td>\n",
              "      <td>NaN</td>\n",
              "    </tr>\n",
              "    <tr>\n",
              "      <th>2</th>\n",
              "      <td>Characteristics and prevalence of Wilson's dis...</td>\n",
              "      <td>BACKGROUND AND AIMS: Only a few epidemiologica...</td>\n",
              "      <td>NaN</td>\n",
              "      <td>Poujois, A.;Woimant, F.;Samson, S.;Chaine, P.;...</td>\n",
              "      <td>2017</td>\n",
              "      <td>Jun 22</td>\n",
              "      <td>https://dx.doi.org/10.1016/j.clinre.2017.05.011</td>\n",
              "      <td>0</td>\n",
              "      <td>1</td>\n",
              "      <td>NaN</td>\n",
              "    </tr>\n",
              "    <tr>\n",
              "      <th>3</th>\n",
              "      <td>Modality of treatment and potential outcome of...</td>\n",
              "      <td>BACKGROUND/PURPOSE: This study aimed to invest...</td>\n",
              "      <td>NaN</td>\n",
              "      <td>Tai, C. S.;Wu, J. F.;Chen, H. L.;Hsu, H. Y.;Ch...</td>\n",
              "      <td>2017</td>\n",
              "      <td>Jun 01</td>\n",
              "      <td>https://dx.doi.org/10.1016/j.jfma.2017.05.008</td>\n",
              "      <td>1</td>\n",
              "      <td>1</td>\n",
              "      <td>NaN</td>\n",
              "    </tr>\n",
              "    <tr>\n",
              "      <th>4</th>\n",
              "      <td>The early history of manganese and the recogni...</td>\n",
              "      <td>The history of the biomedical recognition mang...</td>\n",
              "      <td>NaN</td>\n",
              "      <td>Blanc, P. D.</td>\n",
              "      <td>2017</td>\n",
              "      <td>Apr 14</td>\n",
              "      <td>https://dx.doi.org/10.1016/j.neuro.2017.04.006</td>\n",
              "      <td>0</td>\n",
              "      <td>0</td>\n",
              "      <td>NaN</td>\n",
              "    </tr>\n",
              "    <tr>\n",
              "      <th>5</th>\n",
              "      <td>Zinc monotherapy for young children with presy...</td>\n",
              "      <td>BACKGROUND AND AIM: Few studies of zinc monoth...</td>\n",
              "      <td>NaN</td>\n",
              "      <td>Eda, K.;Mizuochi, T.;Iwama, I.;Inui, A.;Etani,...</td>\n",
              "      <td>2018</td>\n",
              "      <td>Apr 28</td>\n",
              "      <td>https://dx.doi.org/10.1111/jgh.13812</td>\n",
              "      <td>0</td>\n",
              "      <td>0</td>\n",
              "      <td>NaN</td>\n",
              "    </tr>\n",
              "    <tr>\n",
              "      <th>...</th>\n",
              "      <td>...</td>\n",
              "      <td>...</td>\n",
              "      <td>...</td>\n",
              "      <td>...</td>\n",
              "      <td>...</td>\n",
              "      <td>...</td>\n",
              "      <td>...</td>\n",
              "      <td>...</td>\n",
              "      <td>...</td>\n",
              "      <td>...</td>\n",
              "    </tr>\n",
              "    <tr>\n",
              "      <th>66</th>\n",
              "      <td>Copper induces hepatocyte injury due to the en...</td>\n",
              "      <td>Copper is an essential trace element, however,...</td>\n",
              "      <td>Adult;Apoptosis/de [Drug Effects];Caspase 3/me...</td>\n",
              "      <td>Oe, S.;Miyagawa, K.;Honma, Y.;Harada, M.</td>\n",
              "      <td>2016</td>\n",
              "      <td>Sep 10</td>\n",
              "      <td>https://dx.doi.org/10.1016/j.yexcr.2016.08.003</td>\n",
              "      <td>0</td>\n",
              "      <td>0</td>\n",
              "      <td>NaN</td>\n",
              "    </tr>\n",
              "    <tr>\n",
              "      <th>67</th>\n",
              "      <td>Triethylenetetramine modulates polyamine and e...</td>\n",
              "      <td>Polyamine metabolism is an attractive anticanc...</td>\n",
              "      <td>Amine Oxidase (Copper-Containing);Cell Line, T...</td>\n",
              "      <td>Hyvonen, M. T.;Ucal, S.;Pasanen, M.;Peraniemi,...</td>\n",
              "      <td>2016</td>\n",
              "      <td>May 15</td>\n",
              "      <td>https://dx.doi.org/10.1042/BCJ20160134</td>\n",
              "      <td>0</td>\n",
              "      <td>0</td>\n",
              "      <td>NaN</td>\n",
              "    </tr>\n",
              "    <tr>\n",
              "      <th>68</th>\n",
              "      <td>Solid state stability and solubility of trieth...</td>\n",
              "      <td>The API triethylenetetramine dihydrochloride u...</td>\n",
              "      <td>Calorimetry, Differential Scanning/mt [Methods...</td>\n",
              "      <td>Henriet, T.;Gana, I.;Ghaddar, C.;Barrio, M.;Ca...</td>\n",
              "      <td>2016</td>\n",
              "      <td>Sep 10</td>\n",
              "      <td>https://dx.doi.org/10.1016/j.ijpharm.2016.06.140</td>\n",
              "      <td>0</td>\n",
              "      <td>0</td>\n",
              "      <td>NaN</td>\n",
              "    </tr>\n",
              "    <tr>\n",
              "      <th>69</th>\n",
              "      <td>A clinical study of bone mesenchymal stem cell...</td>\n",
              "      <td>The efficacy of bone marrow mesenchymal stem c...</td>\n",
              "      <td>Adult;Biomarkers/bl [Blood];Case-Control Studi...</td>\n",
              "      <td>Zhang, D.</td>\n",
              "      <td>2017</td>\n",
              "      <td>Mar 15</td>\n",
              "      <td>https://dx.doi.org/10.4238/gmr16019352</td>\n",
              "      <td>0</td>\n",
              "      <td>0</td>\n",
              "      <td>NaN</td>\n",
              "    </tr>\n",
              "    <tr>\n",
              "      <th>70</th>\n",
              "      <td>Early cirrhosis in a young female with protein...</td>\n",
              "      <td>Protein C deficiency is a well recognized risk...</td>\n",
              "      <td>Adult;Biopsy;Female;Histocytochemistry;Humans;...</td>\n",
              "      <td>Bansal, N.;Bihari, C.</td>\n",
              "      <td>2016</td>\n",
              "      <td>Jul-Sep</td>\n",
              "      <td>https://dx.doi.org/10.4103/0377-4929.188119</td>\n",
              "      <td>0</td>\n",
              "      <td>0</td>\n",
              "      <td>NaN</td>\n",
              "    </tr>\n",
              "  </tbody>\n",
              "</table>\n",
              "<p>70 rows × 10 columns</p>\n",
              "</div>"
            ],
            "text/plain": [
              "                                                       title  \\\n",
              "record_id                                                      \n",
              "1          Binding Selectivity of Methanobactin from Meth...   \n",
              "2          Characteristics and prevalence of Wilson's dis...   \n",
              "3          Modality of treatment and potential outcome of...   \n",
              "4          The early history of manganese and the recogni...   \n",
              "5          Zinc monotherapy for young children with presy...   \n",
              "...                                                      ...   \n",
              "66         Copper induces hepatocyte injury due to the en...   \n",
              "67         Triethylenetetramine modulates polyamine and e...   \n",
              "68         Solid state stability and solubility of trieth...   \n",
              "69         A clinical study of bone mesenchymal stem cell...   \n",
              "70         Early cirrhosis in a young female with protein...   \n",
              "\n",
              "                                                    abstract  \\\n",
              "record_id                                                      \n",
              "1          Methanobactin (Mb) from Methylosinus trichospo...   \n",
              "2          BACKGROUND AND AIMS: Only a few epidemiologica...   \n",
              "3          BACKGROUND/PURPOSE: This study aimed to invest...   \n",
              "4          The history of the biomedical recognition mang...   \n",
              "5          BACKGROUND AND AIM: Few studies of zinc monoth...   \n",
              "...                                                      ...   \n",
              "66         Copper is an essential trace element, however,...   \n",
              "67         Polyamine metabolism is an attractive anticanc...   \n",
              "68         The API triethylenetetramine dihydrochloride u...   \n",
              "69         The efficacy of bone marrow mesenchymal stem c...   \n",
              "70         Protein C deficiency is a well recognized risk...   \n",
              "\n",
              "                                                    keywords  \\\n",
              "record_id                                                      \n",
              "1                                                        NaN   \n",
              "2                                                        NaN   \n",
              "3                                                        NaN   \n",
              "4                                                        NaN   \n",
              "5                                                        NaN   \n",
              "...                                                      ...   \n",
              "66         Adult;Apoptosis/de [Drug Effects];Caspase 3/me...   \n",
              "67         Amine Oxidase (Copper-Containing);Cell Line, T...   \n",
              "68         Calorimetry, Differential Scanning/mt [Methods...   \n",
              "69         Adult;Biomarkers/bl [Blood];Case-Control Studi...   \n",
              "70         Adult;Biopsy;Female;Histocytochemistry;Humans;...   \n",
              "\n",
              "                                                     authors  year     date  \\\n",
              "record_id                                                                     \n",
              "1                     McCabe, J. W.;Vangala, R.;Angel, L. A.  2017   Aug 30   \n",
              "2          Poujois, A.;Woimant, F.;Samson, S.;Chaine, P.;...  2017   Jun 22   \n",
              "3          Tai, C. S.;Wu, J. F.;Chen, H. L.;Hsu, H. Y.;Ch...  2017   Jun 01   \n",
              "4                                               Blanc, P. D.  2017   Apr 14   \n",
              "5          Eda, K.;Mizuochi, T.;Iwama, I.;Inui, A.;Etani,...  2018   Apr 28   \n",
              "...                                                      ...   ...      ...   \n",
              "66                  Oe, S.;Miyagawa, K.;Honma, Y.;Harada, M.  2016   Sep 10   \n",
              "67         Hyvonen, M. T.;Ucal, S.;Pasanen, M.;Peraniemi,...  2016   May 15   \n",
              "68         Henriet, T.;Gana, I.;Ghaddar, C.;Barrio, M.;Ca...  2016   Sep 10   \n",
              "69                                                 Zhang, D.  2017   Mar 15   \n",
              "70                                     Bansal, N.;Bihari, C.  2016  Jul-Sep   \n",
              "\n",
              "                                                        doi  label_included  \\\n",
              "record_id                                                                     \n",
              "1              https://dx.doi.org/10.1007/s13361-017-1778-9               0   \n",
              "2           https://dx.doi.org/10.1016/j.clinre.2017.05.011               0   \n",
              "3             https://dx.doi.org/10.1016/j.jfma.2017.05.008               1   \n",
              "4            https://dx.doi.org/10.1016/j.neuro.2017.04.006               0   \n",
              "5                      https://dx.doi.org/10.1111/jgh.13812               0   \n",
              "...                                                     ...             ...   \n",
              "66           https://dx.doi.org/10.1016/j.yexcr.2016.08.003               0   \n",
              "67                   https://dx.doi.org/10.1042/BCJ20160134               0   \n",
              "68         https://dx.doi.org/10.1016/j.ijpharm.2016.06.140               0   \n",
              "69                   https://dx.doi.org/10.4238/gmr16019352               0   \n",
              "70              https://dx.doi.org/10.4103/0377-4929.188119               0   \n",
              "\n",
              "           label_abstract_screening  duplicate_record_id  \n",
              "record_id                                                 \n",
              "1                                 0                  NaN  \n",
              "2                                 1                  NaN  \n",
              "3                                 1                  NaN  \n",
              "4                                 0                  NaN  \n",
              "5                                 0                  NaN  \n",
              "...                             ...                  ...  \n",
              "66                                0                  NaN  \n",
              "67                                0                  NaN  \n",
              "68                                0                  NaN  \n",
              "69                                0                  NaN  \n",
              "70                                0                  NaN  \n",
              "\n",
              "[70 rows x 10 columns]"
            ]
          },
          "execution_count": 75,
          "metadata": {},
          "output_type": "execute_result"
        }
      ],
      "source": [
        "df.head(70)"
      ]
    },
    {
      "cell_type": "code",
      "execution_count": 5,
      "metadata": {
        "colab": {
          "base_uri": "https://localhost:8080/"
        },
        "id": "Ci_ZyHx4J2Mr",
        "outputId": "13108d64-b122-473e-fe6b-e16558f0a9cd"
      },
      "outputs": [
        {
          "name": "stdout",
          "output_type": "stream",
          "text": [
            "There are 3453 papers that have to be reviewed\n"
          ]
        }
      ],
      "source": [
        "print(f'There are {df.shape[0]} papers that have to be reviewed')"
      ]
    },
    {
      "cell_type": "code",
      "execution_count": 6,
      "metadata": {
        "colab": {
          "base_uri": "https://localhost:8080/",
          "height": 521
        },
        "id": "zBt52vIaJmMs",
        "outputId": "aa6459f2-27e1-4a5c-8e47-4bb01d6c86c8"
      },
      "outputs": [
        {
          "data": {
            "image/png": "[encoded data removed]",
            "text/plain": [
              "<Figure size 600x600 with 1 Axes>"
            ]
          },
          "metadata": {},
          "output_type": "display_data"
        }
      ],
      "source": [
        "# Check the distribution of the target variable\n",
        "def plot_target(df, column_name, set):\n",
        "\n",
        "    plt.figure(figsize=(6, 6))\n",
        "    values = df[column_name].value_counts()\n",
        "    labels = values.index.map({0: 'Papers not included', 1: 'Papers included'})\n",
        "\n",
        "    plt.pie(values, labels=labels, autopct='%1.1f%%', startangle=90, colors=['skyblue', 'lightcoral'])\n",
        "    plt.title(f'Distribution of {column_name} in the {set}')\n",
        "    plt.show()\n",
        "\n",
        "plot_target(df, 'label_abstract_screening', 'entire dataset')"
      ]
    },
    {
      "cell_type": "markdown",
      "metadata": {
        "id": "ieGiLZXEJmMs"
      },
      "source": [
        "<br>\n",
        "<br>\n",
        "\n",
        "#### **1.3 Handle NaNs and irrelevant columns**"
      ]
    },
    {
      "cell_type": "code",
      "execution_count": 7,
      "metadata": {
        "colab": {
          "base_uri": "https://localhost:8080/"
        },
        "id": "wMxmY1yeJmMs",
        "outputId": "10b634fe-e16f-46f6-b826-1460071502e7"
      },
      "outputs": [
        {
          "name": "stdout",
          "output_type": "stream",
          "text": [
            "NaN counts per column:\n",
            " title                          1\n",
            "abstract                    1094\n",
            "keywords                      67\n",
            "authors                        1\n",
            "year                           0\n",
            "date                        1130\n",
            "doi                         1876\n",
            "label_included                 0\n",
            "label_abstract_screening       0\n",
            "duplicate_record_id         3425\n",
            "dtype: int64\n"
          ]
        }
      ],
      "source": [
        "# Check the NaN situation\n",
        "def count_nan(df):\n",
        "    nan_counts = df.isnull().sum()\n",
        "    return nan_counts\n",
        "\n",
        "nan_counts = count_nan(df)\n",
        "print(\"NaN counts per column:\\n\", nan_counts)"
      ]
    },
    {
      "cell_type": "code",
      "execution_count": 8,
      "metadata": {
        "id": "04fqajecJmMt"
      },
      "outputs": [],
      "source": [
        "# Remove the irrelevant columns\n",
        "columns_to_remove = ['authors', 'year', 'date', 'doi', 'label_included', 'duplicate_record_id']\n",
        "df = df.drop(columns=columns_to_remove)"
      ]
    },
    {
      "cell_type": "code",
      "execution_count": 9,
      "metadata": {
        "id": "zoLGPNYMJmMt"
      },
      "outputs": [],
      "source": [
        "# Handle NaNs for the most important columns\n",
        "df['title'].fillna(value='Missing', inplace=True)\n",
        "df['abstract'].fillna(value='Missing', inplace=True)\n",
        "df['keywords'].fillna(value='Missing', inplace=True)"
      ]
    },
    {
      "cell_type": "markdown",
      "metadata": {
        "id": "KxCmYxXUJmMt"
      },
      "source": [
        "<br>\n",
        "<br>\n",
        "\n",
        "#### **1.4 Perform the train/validation/test split**"
      ]
    },
    {
      "cell_type": "code",
      "execution_count": 10,
      "metadata": {
        "id": "SGdHBkzvJmMt"
      },
      "outputs": [],
      "source": [
        "def shuffle_dataframe(df, random_seed):\n",
        "    # Perform a random shuffle\n",
        "    random.seed(random_seed)\n",
        "    df_o = df.sample(frac=1, random_state=random_seed)\n",
        "    return df_o\n",
        "\n",
        "df1 = shuffle_dataframe(df, random_seed1d)\n",
        "df2 = shuffle_dataframe(df, random_seed2d)\n",
        "df3 = shuffle_dataframe(df, random_seed3d)\n",
        "df4 = shuffle_dataframe(df, random_seed4d)\n",
        "df5 = shuffle_dataframe(df, random_seed5d)"
      ]
    },
    {
      "cell_type": "code",
      "execution_count": 11,
      "metadata": {
        "id": "LWaNIEaPJmMt"
      },
      "outputs": [],
      "source": [
        "def split_dataframe(df):\n",
        "\n",
        "    # Divide in train-validation-test (80-10-10)\n",
        "    total_rows = len(df)\n",
        "    train_end = int(0.8 * total_rows)\n",
        "    val_end = int(0.9 * total_rows)\n",
        "\n",
        "    # Perform the split\n",
        "    train = df.iloc[:train_end]\n",
        "    validation = df.iloc[train_end:val_end]\n",
        "    test = df.iloc[val_end:]\n",
        "\n",
        "    return train, validation, test\n",
        "\n",
        "# For the baseline definition we will use random seed 2d\n",
        "df = shuffle_dataframe(df, random_seed2d)\n",
        "train, validation, test = split_dataframe(df)"
      ]
    },
    {
      "cell_type": "code",
      "execution_count": 12,
      "metadata": {
        "colab": {
          "base_uri": "https://localhost:8080/",
          "height": 1000
        },
        "id": "O3Mvy5u7JmMu",
        "outputId": "b72546a0-efef-4554-b8d1-d5d933f5c19d"
      },
      "outputs": [
        {
          "data": {
            "image/png": "[encoded data removed]",
            "text/plain": [
              "<Figure size 600x600 with 1 Axes>"
            ]
          },
          "metadata": {},
          "output_type": "display_data"
        },
        {
          "data": {
            "image/png": "[encoded data removed]",
            "text/plain": [
              "<Figure size 600x600 with 1 Axes>"
            ]
          },
          "metadata": {},
          "output_type": "display_data"
        },
        {
          "data": {
            "image/png": "[encoded data removed]",
            "text/plain": [
              "<Figure size 600x600 with 1 Axes>"
            ]
          },
          "metadata": {},
          "output_type": "display_data"
        }
      ],
      "source": [
        "# Check that the distribution of the target variable is homogeneous\n",
        "plot_target(train, 'label_abstract_screening', 'training set')\n",
        "plot_target(validation, 'label_abstract_screening', 'validation set')\n",
        "plot_target(test, 'label_abstract_screening', 'test set')"
      ]
    },
    {
      "cell_type": "code",
      "execution_count": 13,
      "metadata": {
        "colab": {
          "base_uri": "https://localhost:8080/"
        },
        "id": "M02fr_dJJmMu",
        "outputId": "913f40ea-0478-4b8f-a2c5-1f0b33dcebb7"
      },
      "outputs": [
        {
          "name": "stdout",
          "output_type": "stream",
          "text": [
            "The training set has 2762 elements\n",
            "The validation set has 345 elements\n",
            "The test set has 346 elements\n"
          ]
        }
      ],
      "source": [
        "# Split obtaining 5 different training, validation and test set\n",
        "train1, validation1, test1 = split_dataframe(df1)\n",
        "train2, validation2, test2 = split_dataframe(df2)\n",
        "train3, validation3, test3 = split_dataframe(df3)\n",
        "train4, validation4, test4 = split_dataframe(df4)\n",
        "train5, validation5, test5 = split_dataframe(df5)\n",
        "\n",
        "print(f'The training set has {len(train1)} elements\\nThe validation set has {len(validation1)} elements\\nThe test set has {len(test1)} elements')"
      ]
    },
    {
      "cell_type": "markdown",
      "metadata": {
        "id": "otxAkDC6JmMu"
      },
      "source": [
        "<br>\n",
        "<br>\n",
        "\n",
        "## **TASK 2 - BASELINES**"
      ]
    },
    {
      "cell_type": "markdown",
      "metadata": {
        "id": "OR9edTbmJmMu"
      },
      "source": [
        "#### **2.1 Preprocessing of the dataset**"
      ]
    },
    {
      "cell_type": "code",
      "execution_count": 14,
      "metadata": {
        "id": "WJzVBSGkJmMu"
      },
      "outputs": [],
      "source": [
        "# Save changes on a different version of the dataset\n",
        "train_baseline1 = train1; validation_baseline1 = validation1; test_baseline1 = test1\n",
        "train_baseline2 = train2; validation_baseline2 = validation2; test_baseline2 = test2\n",
        "train_baseline3 = train3; validation_baseline3 = validation3; test_baseline3 = test3\n",
        "train_baseline4 = train4; validation_baseline4 = validation4; test_baseline4 = test4\n",
        "train_baseline5 = train5; validation_baseline5 = validation5; test_baseline5 = test5"
      ]
    },
    {
      "cell_type": "code",
      "execution_count": 15,
      "metadata": {
        "id": "bayy0bxeJmMv"
      },
      "outputs": [],
      "source": [
        "def concatenator(train_baseline, validation_baseline, test_baseline, train, validation, test):\n",
        "    # Concatenate relevant text columns\n",
        "    train_baseline['text_combined'] = train['title'] + ' ' + train['abstract'] + ' ' + train['keywords']\n",
        "    validation_baseline['text_combined'] = validation['title'] + ' ' + validation['abstract'] + ' ' + validation['keywords']\n",
        "    test_baseline['text_combined'] = test['title'] + ' ' + test['abstract'] + ' ' + test['keywords']\n",
        "    return train_baseline, validation_baseline, test_baseline\n",
        "\n",
        "train_baseline1, validation_baseline1, test_baseline1 = concatenator(train_baseline1, validation_baseline1, test_baseline1, train1, validation1, test1)\n",
        "train_baseline2, validation_baseline2, test_baseline2 = concatenator(train_baseline2, validation_baseline2, test_baseline2, train2, validation2, test2)\n",
        "train_baseline3, validation_baseline3, test_baseline3 = concatenator(train_baseline3, validation_baseline3, test_baseline3, train3, validation3, test3)\n",
        "train_baseline4, validation_baseline4, test_baseline4 = concatenator(train_baseline4, validation_baseline4, test_baseline4, train4, validation4, test4)\n",
        "train_baseline5, validation_baseline5, test_baseline5 = concatenator(train_baseline5, validation_baseline5, test_baseline5, train5, validation5, test5)"
      ]
    },
    {
      "cell_type": "code",
      "execution_count": 16,
      "metadata": {
        "colab": {
          "base_uri": "https://localhost:8080/"
        },
        "id": "3WX6g6HJJmMv",
        "outputId": "3c4e7566-9d7b-42c4-ef83-f0c50cd19fe2"
      },
      "outputs": [
        {
          "name": "stderr",
          "output_type": "stream",
          "text": [
            "[nltk_data] Downloading package punkt to\n",
            "[nltk_data]     C:\\Users\\ricca\\AppData\\Roaming\\nltk_data...\n",
            "[nltk_data]   Package punkt is already up-to-date!\n",
            "[nltk_data] Downloading package stopwords to\n",
            "[nltk_data]     C:\\Users\\ricca\\AppData\\Roaming\\nltk_data...\n",
            "[nltk_data]   Package stopwords is already up-to-date!\n",
            "[nltk_data] Downloading package wordnet to\n",
            "[nltk_data]     C:\\Users\\ricca\\AppData\\Roaming\\nltk_data...\n",
            "[nltk_data]   Package wordnet is already up-to-date!\n"
          ]
        },
        {
          "data": {
            "text/plain": [
              "True"
            ]
          },
          "execution_count": 16,
          "metadata": {},
          "output_type": "execute_result"
        }
      ],
      "source": [
        "# Download NTK resources\n",
        "nltk.download('punkt')\n",
        "nltk.download('stopwords')\n",
        "nltk.download('wordnet')"
      ]
    },
    {
      "cell_type": "code",
      "execution_count": 17,
      "metadata": {
        "id": "A6IyBGyuJmMv"
      },
      "outputs": [],
      "source": [
        "# Preprocess the data\n",
        "def preprocess_text(text):\n",
        "    # Step 1: perform tokenization\n",
        "    tokens = word_tokenize(text)\n",
        "\n",
        "    # Step 2: lowercasing\n",
        "    tokens = [word.lower() for word in tokens]\n",
        "\n",
        "    # Step 3: remove stopwords and punctuation\n",
        "    stop_words = set(stopwords.words('english') + list(string.punctuation))\n",
        "    tokens = [word for word in tokens if word not in stop_words]\n",
        "\n",
        "    # Step 4: lemmatization\n",
        "    lemmatizer = WordNetLemmatizer()\n",
        "    tokens = [lemmatizer.lemmatize(word) for word in tokens]\n",
        "\n",
        "    preprocessed_text = ' '.join(tokens)\n",
        "\n",
        "    return preprocessed_text\n",
        "\n",
        "def apply_preprocessing(train_baseline, validation_baseline, test_baseline):\n",
        "    # Apply text preprocessing to the 'text_combined' column\n",
        "    train_baseline['preprocessed_text'] = train_baseline['text_combined'].apply(preprocess_text)\n",
        "    validation_baseline['preprocessed_text'] = validation_baseline['text_combined'].apply(preprocess_text)\n",
        "    test_baseline['preprocessed_text'] = test_baseline['text_combined'].apply(preprocess_text)\n",
        "    return train_baseline, validation_baseline, test_baseline\n",
        "\n",
        "\n",
        "train_baseline1, validation_baseline1, test_baseline1 = apply_preprocessing(train_baseline1, validation_baseline1, test_baseline1)\n",
        "train_baseline2, validation_baseline2, test_baseline2 = apply_preprocessing(train_baseline2, validation_baseline2, test_baseline2)\n",
        "train_baseline3, validation_baseline3, test_baseline3 = apply_preprocessing(train_baseline3, validation_baseline3, test_baseline3)\n",
        "train_baseline4, validation_baseline4, test_baseline4 = apply_preprocessing(train_baseline4, validation_baseline4, test_baseline4)\n",
        "train_baseline5, validation_baseline5, test_baseline5 = apply_preprocessing(train_baseline5, validation_baseline5, test_baseline5)\n"
      ]
    },
    {
      "cell_type": "code",
      "execution_count": 18,
      "metadata": {
        "colab": {
          "base_uri": "https://localhost:8080/"
        },
        "id": "X9NLRuyQJmMv",
        "outputId": "e56a5150-4768-4414-dcea-9e30b460280b"
      },
      "outputs": [
        {
          "name": "stdout",
          "output_type": "stream",
          "text": [
            "                                           preprocessed_text\n",
            "record_id                                                   \n",
            "1332       case wilson 's disease psoriasis vulgaris comp...\n",
            "1678       neuro-wilson disease seven case review literat...\n",
            "502        generalised oedema lethargy personality distur...\n",
            "2479       determination trace element organ tissue zinc ...\n",
            "1559       wilson 's disease child rate liver cirrhosis i...\n",
            "...                                                      ...\n",
            "3068       therapeutic consideration wilson 's disease it...\n",
            "3285       predictor seizure wilson disease clinico-radio...\n",
            "2106       genetic disorder copper metabolism japanese ge...\n",
            "141        potent long-lasting inhibition human p2x2 rece...\n",
            "396        corneal encephalic abnormality missing adult b...\n",
            "\n",
            "[2762 rows x 1 columns]\n"
          ]
        }
      ],
      "source": [
        "# Display the DataFrame with preprocessed text\n",
        "print(train_baseline1[['preprocessed_text']])"
      ]
    },
    {
      "cell_type": "markdown",
      "metadata": {
        "id": "eAo1XOSTJmMv"
      },
      "source": [
        "#### **2.2 Tokenization of the dataset**"
      ]
    },
    {
      "cell_type": "code",
      "execution_count": 19,
      "metadata": {
        "id": "reZuNzRxJmMv"
      },
      "outputs": [],
      "source": [
        "# Tokenize the data\n",
        "vectorizer = TfidfVectorizer(stop_words='english', max_features=5000)\n",
        "\n",
        "def tokenizer(train_baseline, validation_baseline, test_baseline):\n",
        "    X_train = vectorizer.fit_transform(train_baseline['preprocessed_text'])\n",
        "    X_val = vectorizer.transform(validation_baseline['preprocessed_text'])\n",
        "    X_test = vectorizer.transform(test_baseline['preprocessed_text'])\n",
        "    return X_train, X_val, X_test\n",
        "\n",
        "X_train1, X_val1, X_test1 = tokenizer(train_baseline1, validation_baseline1, test_baseline1)\n",
        "X_train2, X_val2, X_test2 = tokenizer(train_baseline2, validation_baseline2, test_baseline2)\n",
        "X_train3, X_val3, X_test3 = tokenizer(train_baseline3, validation_baseline3, test_baseline3)\n",
        "X_train4, X_val4, X_test4 = tokenizer(train_baseline4, validation_baseline4, test_baseline4)\n",
        "X_train5, X_val5, X_test5 = tokenizer(train_baseline5, validation_baseline5, test_baseline5)\n"
      ]
    },
    {
      "cell_type": "code",
      "execution_count": 20,
      "metadata": {
        "id": "TStXyRNNJmMv"
      },
      "outputs": [],
      "source": [
        "# Save the datasets in lists\n",
        "Xtrains = [X_train1, X_train2, X_train3, X_train4, X_train5]\n",
        "Xvals = [X_val1, X_val2, X_val3, X_val4, X_val5]\n",
        "Xtests = [X_test1, X_test2, X_test3, X_test4, X_test5]\n",
        "\n",
        "# Save the baselines\n",
        "trains = [train_baseline1, train_baseline2, train_baseline3, train_baseline4, train_baseline5]\n",
        "vals = [validation_baseline1, validation_baseline2, validation_baseline3, validation_baseline4, validation_baseline5]\n",
        "tests = [test_baseline1, test_baseline2, test_baseline3, test_baseline4, test_baseline5]"
      ]
    },
    {
      "cell_type": "markdown",
      "metadata": {
        "id": "BG3PjdgJJmMw"
      },
      "source": [
        "#### **2.3 Definition of the baselines**"
      ]
    },
    {
      "cell_type": "code",
      "execution_count": 21,
      "metadata": {
        "id": "CTE0ZIwSJmMw"
      },
      "outputs": [],
      "source": [
        "# Define some models with a random seed\n",
        "RFC = RandomForestClassifier(random_state=random_seed2d)\n",
        "LR = LogisticRegression(random_state=random_seed2d)\n",
        "SVM = SVC(random_state=random_seed2d)\n",
        "NB = MultinomialNB()\n",
        "XGB = XGBClassifier(random_state=random_seed2d)"
      ]
    },
    {
      "cell_type": "markdown",
      "metadata": {
        "id": "3xJzj0xFJmMw"
      },
      "source": [
        "#### **2.3 Evaluation of the baselines**"
      ]
    },
    {
      "cell_type": "code",
      "execution_count": 22,
      "metadata": {
        "id": "v9frIJoOJmMw"
      },
      "outputs": [],
      "source": [
        "# Fit the models on all the datasets and obtain the predictions on the validation set\n",
        "def fitter(model, Xtrains, trains, Xvals):\n",
        "    predictions = []\n",
        "    for i in range(len(Xtrains)):\n",
        "        model.fit(Xtrains[i], trains[i]['label_abstract_screening'])\n",
        "        validation_predictions = model.predict(Xvals[i])\n",
        "        predictions.append(validation_predictions)\n",
        "    return predictions\n",
        "\n",
        "\n",
        "val_RFC_predictions = fitter(RFC, Xtrains, trains, Xvals)\n",
        "val_LR_predictions = fitter(LR, Xtrains, trains, Xvals)\n",
        "val_SVM_predictions = fitter(SVM, Xtrains, trains, Xvals)\n",
        "val_NB_predictions = fitter(NB, Xtrains, trains, Xvals)\n",
        "val_XGB_predictions = fitter(XGB, Xtrains, trains, Xvals)"
      ]
    },
    {
      "cell_type": "code",
      "execution_count": 23,
      "metadata": {
        "id": "mDa5cM3sJmMw"
      },
      "outputs": [],
      "source": [
        "def baseline_evaluation(validation_set, target_variable, predictions):\n",
        "    accuracy = accuracy_score(validation_set[target_variable], predictions)\n",
        "    precision = precision_score(validation_set[target_variable], predictions)\n",
        "    recall = recall_score(validation_set[target_variable], predictions)\n",
        "    macro_f1 = f1_score(validation_set[target_variable], predictions, average='macro')\n",
        "    weighted_f1 = f1_score(validation_set[target_variable], predictions, average='weighted')\n",
        "    return round(accuracy,3), round(precision,3), round(recall,3), round(macro_f1,3), round(weighted_f1,3)\n",
        "\n",
        "metrics = ['Accuracy', 'Precision', 'Recall', 'MacroF1', 'WeightedF1']\n",
        "models = ['RandomForestClassifier', 'LogisticRegression', 'SVM', 'NB', 'XGB']\n",
        "\n",
        "def get_evaluation(vals, target_variable, predictions):\n",
        "    results = []\n",
        "    for i in range(5):\n",
        "        result = baseline_evaluation(vals[i], target_variable, predictions[i])\n",
        "        results.append(result)\n",
        "    return results\n",
        "\n",
        "RFC_results = get_evaluation(vals, 'label_abstract_screening', val_RFC_predictions)\n",
        "LR_results = get_evaluation(vals, 'label_abstract_screening', val_LR_predictions)\n",
        "SVM_results = get_evaluation(vals, 'label_abstract_screening', val_SVM_predictions)\n",
        "NB_results = get_evaluation(vals, 'label_abstract_screening', val_NB_predictions)\n",
        "XGB_results = get_evaluation(vals, 'label_abstract_screening', val_XGB_predictions)\n"
      ]
    },
    {
      "cell_type": "code",
      "execution_count": 24,
      "metadata": {
        "id": "AH0Vx9CxJmMw"
      },
      "outputs": [],
      "source": [
        "# Compute an average\n",
        "def average(results):\n",
        "    result = []\n",
        "    accuracy_sum = 0; precision_sum = 0; recall_sum = 0; macro_sum = 0; weighted_sum = 0\n",
        "    for i in range(5):\n",
        "        accuracy_sum += results[i][0]; precision_sum += results[i][1]; recall_sum += results[i][2]; macro_sum += results[i][3]; weighted_sum += results[i][4]\n",
        "\n",
        "    accuracy_average = round(accuracy_sum/5, 3); precision_average = round(precision_sum/5, 3); recall_average = round(recall_sum/5, 3); macro_averge = round(macro_sum/5, 3); weighted_average = round(weighted_sum/5, 3)\n",
        "    result.append(accuracy_average); result.append(precision_average); result.append(recall_average); result.append(macro_averge), result.append(weighted_average)\n",
        "    return result\n",
        "\n",
        "RFC_results = average(RFC_results)\n",
        "LR_results = average(LR_results)\n",
        "SVM_results = average(SVM_results)\n",
        "NB_results = average(NB_results)\n",
        "XGB_results = average(XGB_results)\n"
      ]
    },
    {
      "cell_type": "code",
      "execution_count": 25,
      "metadata": {
        "colab": {
          "base_uri": "https://localhost:8080/",
          "height": 206
        },
        "id": "fICuHJraJmMw",
        "outputId": "ad40d8d6-e4a5-42fc-8bfa-6955c341e464"
      },
      "outputs": [
        {
          "data": {
            "text/html": [
              "<div>\n",
              "<style scoped>\n",
              "    .dataframe tbody tr th:only-of-type {\n",
              "        vertical-align: middle;\n",
              "    }\n",
              "\n",
              "    .dataframe tbody tr th {\n",
              "        vertical-align: top;\n",
              "    }\n",
              "\n",
              "    .dataframe thead th {\n",
              "        text-align: right;\n",
              "    }\n",
              "</style>\n",
              "<table border=\"1\" class=\"dataframe\">\n",
              "  <thead>\n",
              "    <tr style=\"text-align: right;\">\n",
              "      <th></th>\n",
              "      <th>Accuracy</th>\n",
              "      <th>Precision</th>\n",
              "      <th>Recall</th>\n",
              "      <th>MacroF1</th>\n",
              "      <th>WeightedF1</th>\n",
              "    </tr>\n",
              "  </thead>\n",
              "  <tbody>\n",
              "    <tr>\n",
              "      <th>RandomForestClassifier</th>\n",
              "      <td>0.944</td>\n",
              "      <td>0.733</td>\n",
              "      <td>0.093</td>\n",
              "      <td>0.567</td>\n",
              "      <td>0.922</td>\n",
              "    </tr>\n",
              "    <tr>\n",
              "      <th>LogisticRegression</th>\n",
              "      <td>0.947</td>\n",
              "      <td>0.843</td>\n",
              "      <td>0.166</td>\n",
              "      <td>0.624</td>\n",
              "      <td>0.930</td>\n",
              "    </tr>\n",
              "    <tr>\n",
              "      <th>SVM</th>\n",
              "      <td>0.952</td>\n",
              "      <td>0.960</td>\n",
              "      <td>0.201</td>\n",
              "      <td>0.647</td>\n",
              "      <td>0.936</td>\n",
              "    </tr>\n",
              "    <tr>\n",
              "      <th>NB</th>\n",
              "      <td>0.939</td>\n",
              "      <td>0.000</td>\n",
              "      <td>0.000</td>\n",
              "      <td>0.484</td>\n",
              "      <td>0.909</td>\n",
              "    </tr>\n",
              "    <tr>\n",
              "      <th>XGB</th>\n",
              "      <td>0.957</td>\n",
              "      <td>0.748</td>\n",
              "      <td>0.423</td>\n",
              "      <td>0.757</td>\n",
              "      <td>0.951</td>\n",
              "    </tr>\n",
              "  </tbody>\n",
              "</table>\n",
              "</div>"
            ],
            "text/plain": [
              "                        Accuracy  Precision  Recall  MacroF1  WeightedF1\n",
              "RandomForestClassifier     0.944      0.733   0.093    0.567       0.922\n",
              "LogisticRegression         0.947      0.843   0.166    0.624       0.930\n",
              "SVM                        0.952      0.960   0.201    0.647       0.936\n",
              "NB                         0.939      0.000   0.000    0.484       0.909\n",
              "XGB                        0.957      0.748   0.423    0.757       0.951"
            ]
          },
          "execution_count": 25,
          "metadata": {},
          "output_type": "execute_result"
        }
      ],
      "source": [
        "# Display results\n",
        "data = [RFC_results, LR_results, SVM_results, NB_results, XGB_results]\n",
        "\n",
        "results = pd.DataFrame(data, columns=metrics, index=models)\n",
        "results\n"
      ]
    },
    {
      "cell_type": "markdown",
      "metadata": {
        "id": "Kg7cjYHRJmMx"
      },
      "source": [
        "#### **2.4 Error analysis of the baselines (just on the last seed)**"
      ]
    },
    {
      "cell_type": "code",
      "execution_count": 26,
      "metadata": {
        "id": "ohGlH3uAJmMx"
      },
      "outputs": [],
      "source": [
        "# Get predictions on the test set\n",
        "test_RFC_predictions = RFC.predict(X_test5)\n",
        "test_LR_predictions = LR.predict(X_test5)\n",
        "test_SVM_predictions = SVM.predict(X_test5)\n",
        "test_NB_predictions = NB.predict(X_test5)\n",
        "test_XGB_predictions = XGB.predict(X_test5)"
      ]
    },
    {
      "cell_type": "code",
      "execution_count": 27,
      "metadata": {
        "id": "KjRO7DxKJmMx"
      },
      "outputs": [],
      "source": [
        "conf_matrix_RFC = confusion_matrix(test_baseline5['label_abstract_screening'], test_RFC_predictions)\n",
        "conf_matrix_LR = confusion_matrix(test_baseline5['label_abstract_screening'], test_LR_predictions)\n",
        "conf_matrix_SVM = confusion_matrix(test_baseline5['label_abstract_screening'], test_SVM_predictions)\n",
        "conf_matrix_NB = confusion_matrix(test_baseline5['label_abstract_screening'], test_NB_predictions)\n",
        "conf_matrix_XGB = confusion_matrix(test_baseline5['label_abstract_screening'], test_XGB_predictions)\n",
        "\n",
        "def plot_confusion_matrix(confusion_matrix, model, position):\n",
        "    plt.subplot(2, 3, position)\n",
        "    sns.heatmap(confusion_matrix, annot=True, fmt='d', cmap='Blues', cbar=False,\n",
        "                annot_kws={\"size\": 14}, linewidths=0.5, linecolor='black')\n",
        "\n",
        "    plt.title(f'Confusion Matrix for {model}')\n",
        "    plt.xlabel('Predicted')\n",
        "    plt.ylabel('Actual')\n"
      ]
    },
    {
      "cell_type": "code",
      "execution_count": 28,
      "metadata": {
        "colab": {
          "base_uri": "https://localhost:8080/",
          "height": 807
        },
        "id": "GP6gUlyUJmMx",
        "outputId": "e9ab4800-91cf-4aac-ad6b-a27a8da425f6"
      },
      "outputs": [
        {
          "data": {
            "image/png": "[encoded data removed]",
            "text/plain": [
              "<Figure size 1400x800 with 5 Axes>"
            ]
          },
          "metadata": {},
          "output_type": "display_data"
        }
      ],
      "source": [
        "plt.figure(figsize=(14, 8))\n",
        "\n",
        "plot_confusion_matrix(conf_matrix_RFC, 'RandomForestClassifier', 1)\n",
        "plot_confusion_matrix(conf_matrix_LR, 'Linear Regressor', 2)\n",
        "plot_confusion_matrix(conf_matrix_SVM, 'SVM', 3)\n",
        "plot_confusion_matrix(conf_matrix_NB, 'Naive Bayes', 4)\n",
        "plot_confusion_matrix(conf_matrix_XGB, 'XGB', 5)\n",
        "plt.tight_layout()"
      ]
    },
    {
      "cell_type": "markdown",
      "metadata": {
        "id": "bZn8fI4-JmM1"
      },
      "source": [
        "<br>\n",
        "<br>\n",
        "\n",
        "## **TASK 3 - BERT MODEL**"
      ]
    },
    {
      "cell_type": "markdown",
      "metadata": {
        "id": "7rRQik0NJmM1"
      },
      "source": [
        "#### **3.1 Dataset preparation**"
      ]
    },
    {
      "cell_type": "code",
      "execution_count": 29,
      "metadata": {
        "id": "x2-q5F90JmM1"
      },
      "outputs": [],
      "source": [
        "# Add the \"combined text column\"\n",
        "df1['text_combined'] = df1['title'] + ' ' + df1['abstract'] + ' ' + df1['keywords']\n",
        "df2['text_combined'] = df2['title'] + ' ' + df2['abstract'] + ' ' + df2['keywords']\n",
        "df3['text_combined'] = df3['title'] + ' ' + df3['abstract'] + ' ' + df3['keywords']\n",
        "df4['text_combined'] = df4['title'] + ' ' + df4['abstract'] + ' ' + df4['keywords']\n",
        "df5['text_combined'] = df5['title'] + ' ' + df5['abstract'] + ' ' + df5['keywords']"
      ]
    },
    {
      "cell_type": "code",
      "execution_count": 30,
      "metadata": {
        "id": "TY6x3VRkJmM1"
      },
      "outputs": [],
      "source": [
        "batch_size = 32\n",
        "MAX_SEQUENCE_LENGTH = 2"
      ]
    },
    {
      "cell_type": "code",
      "execution_count": 31,
      "metadata": {
        "colab": {
          "base_uri": "https://localhost:8080/",
          "height": 145,
          "referenced_widgets": [
            "1e2e9e88be834c328c90bd3d5f3e38e8",
            "291badee6b2341b6ad27f36dce90eaf5",
            "a0686b1acd5c411285998c3a9613559b",
            "e2768cf803b24fae96a8394034d378e0",
            "700b2234d178443199427feac680bd76",
            "b377087432b94f8f976dd4e86e0a94a3",
            "e8b9da74683e454fb3ff74725fb66ce7",
            "7be4a49c91024f3a861a1b1a2d7fc334",
            "11d038f9ce2a4b30b32401a64e374527",
            "02747c6564e84145a91bf8bbce1c9779",
            "09d285ba84574f29a61289736c86883a",
            "d4cdebc0ba8d417a9e9155dc09bfc43f",
            "2a93747347bd4decae87560fe9cc59e0",
            "3935845687b8467ba02ef86e8684d8a2",
            "a1779038282d4a18ac28f54a984c902b",
            "c4f75935d593470daba7d3fd3759f061",
            "501e385383344af9aa8060c50a7e99c7",
            "3345062f985c432ba72172874fcfc7c2",
            "c27350b227a44335a05526f1fd9c4d3e",
            "75fcbead4b174df5ab00424467c055e0",
            "d887fa36ca69475ba06f7435cbb84aea",
            "6cf21cd43e1f4d38a4a7c7bc0aab504b",
            "2c25af67f9ba4888a9ba1bfa61068538",
            "bd435606916847d7b66a1801a306afef",
            "10ee265112f44be5b8725914faefb2a1",
            "4d51c8eca8834761bf836cdbb3a4b0cb",
            "167671693a4d4b1a925aeca021a054b3",
            "65b904b70842420796acdf159599a8b5",
            "a2c27fdc1cf54824acafd33c4843af3c",
            "9b79e8b77f79465b9357a9f7a128daec",
            "d3871294392a443caad6d4c000d043da",
            "cb0ac71a994542c6acefbc8ecbcf1690",
            "9d749890af9e4cc399fd3c553e20dde0",
            "e0df67e749a146219757e391a031e57d",
            "5076fa1a5541425c91a5a0e3fe6965ab",
            "b6224934ca5941c89738bb56bc30b032",
            "012c2fd5558243998d4b529289885330",
            "f99ab0d297d049629d05b2768fd03c33",
            "351aa58b66b249a6abbb0828107ccd24",
            "8cd0e6602d954f98904c2d6bab63394a",
            "649d4357956c4ea6ba1bb8e06d811743",
            "0c6434b1288548bf956f89b8c805175b",
            "b412db24a3084aabb29dfc0d85d00550",
            "47dcbe966eb342138f9e3a9afbc6f0fa"
          ]
        },
        "id": "DyZnMrM5JmM1",
        "outputId": "c03a039c-39ca-4860-c664-2c285e2679c1"
      },
      "outputs": [],
      "source": [
        "tokenizer = AutoTokenizer.from_pretrained(\"bert-base-uncased\")\n",
        "\n",
        "def preprocess_text(text):\n",
        "    return tokenizer(text, padding=True, truncation=True, max_length=MAX_SEQUENCE_LENGTH)\n",
        "\n",
        "def tokenize_dataset(dataset, text_column):\n",
        "\n",
        "    tokenized_texts = [preprocess_text(text) for text in dataset[text_column].tolist()]\n",
        "    input_ids = [text['input_ids'] for text in tokenized_texts]\n",
        "    attention_mask = [text['attention_mask'] for text in tokenized_texts]\n",
        "\n",
        "    # Pad the lists to the maximum length\n",
        "    input_ids = [lst + [0] * (MAX_SEQUENCE_LENGTH - len(lst)) for lst in input_ids]\n",
        "    attention_mask = [lst + [0] * (MAX_SEQUENCE_LENGTH - len(lst)) for lst in attention_mask]\n",
        "\n",
        "    # Array\n",
        "    input_ids = np.array(input_ids, dtype=object)\n",
        "    attention_mask = np.array(attention_mask, dtype=object)\n",
        "\n",
        "    return input_ids, attention_mask"
      ]
    },
    {
      "cell_type": "code",
      "execution_count": 32,
      "metadata": {
        "id": "cBfqZ8EMJmM1"
      },
      "outputs": [],
      "source": [
        "def dataloader_creator(batch_size, input_ids, attention_mask, dataset):\n",
        "    tabon = []\n",
        "    labels = dataset['label_abstract_screening']\n",
        "    for i in range(0, len(labels) - batch_size + 1, batch_size):\n",
        "        input_ids_batch = input_ids[i:i+batch_size].tolist()\n",
        "        attention_mask_batch = attention_mask[i:i+batch_size].tolist()\n",
        "        labels_batch = labels[i:i+batch_size].tolist()\n",
        "        tabon.append([input_ids_batch, attention_mask_batch, labels_batch])\n",
        "\n",
        "    return tabon"
      ]
    },
    {
      "cell_type": "code",
      "execution_count": 33,
      "metadata": {
        "id": "sjQjkY4MJmM1"
      },
      "outputs": [],
      "source": [
        "def Bert_input(train, validation, test):\n",
        "\n",
        "    input_ids_train, attention_mask_train = tokenize_dataset(train, 'text_combined')\n",
        "    input_ids_val, attention_mask_val = tokenize_dataset(validation, 'text_combined')\n",
        "    input_ids_test, attention_mask_test = tokenize_dataset(test, 'text_combined')\n",
        "\n",
        "    # Create dataloader objects\n",
        "    train_dataloader = dataloader_creator(batch_size, input_ids_train, attention_mask_train, train)\n",
        "    val_dataloader = dataloader_creator(batch_size, input_ids_val, attention_mask_val, validation)\n",
        "    test_dataloader = dataloader_creator(batch_size, input_ids_test, attention_mask_test, test)\n",
        "\n",
        "    return train_dataloader, val_dataloader, test_dataloader"
      ]
    },
    {
      "cell_type": "code",
      "execution_count": 34,
      "metadata": {
        "id": "jrwqwaPdJmM2"
      },
      "outputs": [],
      "source": [
        "train_dataloader1, val_dataloader1, test_dataloader1 = Bert_input(train1, validation1, test1)\n",
        "train_dataloader2, val_dataloader2, test_dataloader2 = Bert_input(train2, validation2, test2)\n",
        "train_dataloader3, val_dataloader3, test_dataloader3 = Bert_input(train3, validation3, test3)\n",
        "train_dataloader4, val_dataloader4, test_dataloader4 = Bert_input(train4, validation4, test4)\n",
        "train_dataloader5, val_dataloader5, test_dataloader5 = Bert_input(train5, validation5, test5)"
      ]
    },
    {
      "cell_type": "code",
      "execution_count": 35,
      "metadata": {
        "id": "PH6h01vAJmM2"
      },
      "outputs": [],
      "source": [
        "train_dl_list = [train_dataloader1, train_dataloader2, train_dataloader3, train_dataloader4, train_dataloader5]\n",
        "val_dl_list = [val_dataloader1, val_dataloader2, val_dataloader3, val_dataloader4, val_dataloader5]\n",
        "test_dl_list = [test_dataloader1, test_dataloader2, test_dataloader3, test_dataloader4, test_dataloader5]"
      ]
    },
    {
      "cell_type": "markdown",
      "metadata": {
        "id": "lLJ44QT2JmM2"
      },
      "source": [
        "#### **3.2 Model definition**"
      ]
    },
    {
      "cell_type": "code",
      "execution_count": 36,
      "metadata": {
        "id": "iwjNosJ7JmM2"
      },
      "outputs": [],
      "source": [
        "def compute_class_weights(dataset_list):\n",
        "    # Function to guide the training process by avoiding focusing too much on the most frequent emotion and trigger values\n",
        "    article_labels = []\n",
        "\n",
        "    for dataset in dataset_list:\n",
        "      for batch in dataset:\n",
        "        for el in batch[2]:\n",
        "          article_labels.append(el)\n",
        "\n",
        "    article_labels = [x for x in article_labels]\n",
        "\n",
        "    unique_labels = torch.unique(torch.tensor(article_labels)).tolist()\n",
        "    class_weights = compute_class_weight('balanced', classes=unique_labels, y=article_labels)\n",
        "\n",
        "    return class_weights"
      ]
    },
    {
      "cell_type": "code",
      "execution_count": 37,
      "metadata": {
        "id": "UYwrIX2mJmM2"
      },
      "outputs": [],
      "source": [
        "def model_evaluation(name, true_labels, predictions):\n",
        "    labels = [x.cpu().numpy()  for y in true_labels for x in y]\n",
        "    preds = [x.cpu().numpy()  for y in predictions for x in y]\n",
        "\n",
        "    accuracy = accuracy_score(labels, preds)\n",
        "    precision = precision_score(labels, preds)\n",
        "    recall = recall_score(labels, preds)\n",
        "    macro_f1 = f1_score(labels, preds, average='macro')\n",
        "    weighted_f1 = f1_score(labels, preds, average='weighted')\n",
        "    return round(accuracy,3), round(precision,3), round(recall,3), round(macro_f1,3), round(weighted_f1,3)"
      ]
    },
    {
      "cell_type": "code",
      "execution_count": 38,
      "metadata": {
        "id": "0xFT5bYYJmM2"
      },
      "outputs": [],
      "source": [
        "def training_loop(self, train_dataloader, val_dataloader, optimizer, criterion):\n",
        "      training_loss = []\n",
        "      validation_loss = []\n",
        "\n",
        "      for epoch in range(self.num_epochs):\n",
        "          counter = 0\n",
        "          total_train_loss = 0.0\n",
        "          self.train()\n",
        "\n",
        "          for batch in train_dataloader:\n",
        "\n",
        "               # obtain relevant information about the current batch\n",
        "               input_ids = torch.tensor(batch[0]).to(device)\n",
        "               attention_mask = torch.tensor(batch[1]).to(device)\n",
        "               article_labels = torch.tensor(batch[2]).to(device)\n",
        "               article_labels =  article_labels.to(dtype=torch.float32)\n",
        "\n",
        "               # loss computation\n",
        "               optimizer.zero_grad()\n",
        "               article_logits = self(input_ids, attention_mask)\n",
        "\n",
        "               loss = criterion(article_logits, article_labels)\n",
        "\n",
        "               loss.backward()\n",
        "               optimizer.step()\n",
        "               total_train_loss += loss.item()\n",
        "               counter += 1\n",
        "\n",
        "               # print training behavior\n",
        "               if counter % 20 == 0:\n",
        "                  #print(f\"Epoch {epoch+1}/{self.num_epochs}, Batch {counter}/{len(train_dataloader)}, Training Loss: {loss.item()}\")\n",
        "                  training_loss.append(loss.item())\n",
        "\n",
        "               # print validation behavior\n",
        "               if counter % 30 == 0:\n",
        "                  self.eval()\n",
        "                  val_loss = 0.0\n",
        "                  with torch.no_grad():\n",
        "                      for val_batch in val_dataloader:\n",
        "\n",
        "                          # obtain relevant information about the current batch\n",
        "                          input_ids_val = torch.tensor(val_batch[0]).to(device)\n",
        "                          attention_mask_val = torch.tensor(val_batch[1]).to(device)\n",
        "                          article_labels_val = torch.tensor(val_batch[2]).to(device)\n",
        "                          article_labels_val =  article_labels_val.to(dtype=torch.float32)\n",
        "\n",
        "                           # Logits\n",
        "                          article_logits_val = self(input_ids_val, attention_mask_val)\n",
        "\n",
        "                          loss = criterion(article_logits_val, article_labels_val)\n",
        "                          val_loss += (loss).item()\n",
        "\n",
        "                  average_val_loss = val_loss / len(val_dataloader)\n",
        "                  validation_loss.append(average_val_loss)\n",
        "                  print(f\"Epoch {epoch+1}/{self.num_epochs}, Validation Loss: {average_val_loss}\")\n",
        "                  self.train()\n",
        "\n",
        "          # average train loss of the current epoch\n",
        "          average_loss = total_train_loss / len(train_dataloader)\n",
        "          #print(f\"Epoch {epoch+1}/{self.num_epochs}, Train Average Loss: {average_loss}\")\n",
        "\n",
        "      return training_loss, validation_loss"
      ]
    },
    {
      "cell_type": "code",
      "execution_count": 39,
      "metadata": {
        "id": "dzEVNXCiJmM3"
      },
      "outputs": [],
      "source": [
        "class MyBERT(nn.Module):\n",
        "    def __init__(self, lr, num_epochs, model_card, seed=None):\n",
        "        super(MyBERT, self).__init__()\n",
        "        self.learning_rate = lr\n",
        "        self.num_epochs = num_epochs\n",
        "\n",
        "        self.seed = seed\n",
        "        if seed is not None:\n",
        "            random.seed(seed)\n",
        "            np.random.seed(seed)\n",
        "            torch.manual_seed(seed)\n",
        "            torch.cuda.manual_seed(seed)\n",
        "            torch.cuda.manual_seed_all(seed)\n",
        "\n",
        "        # Architecture\n",
        "        self.bert = BertModel.from_pretrained(model_card)\n",
        "        self.classifier = nn.Linear(self.bert.config.hidden_size, 1)\n",
        "\n",
        "    def forward(self, input_ids, attention_mask):\n",
        "        outputs = self.bert(input_ids, attention_mask=attention_mask)\n",
        "        last_hidden_state = outputs.last_hidden_state\n",
        "        logits = self.classifier(last_hidden_state[:, 0, :])\n",
        "        logits = logits.squeeze(1)\n",
        "        return logits\n",
        "\n",
        "    def train_model(self, train_dataloader, val_dataloader):\n",
        "        self.to(device)\n",
        "        learning_rate = self.learning_rate\n",
        "        optimizer = AdamW([\n",
        "            {'params': self.bert.parameters(), 'lr': learning_rate},\n",
        "            {'params': self.classifier.parameters(), 'lr': learning_rate}\n",
        "        ])\n",
        "\n",
        "        # Define a weighted loss\n",
        "        class_weights = compute_class_weights([train_dataloader, val_dataloader])\n",
        "        criterion_trigger = nn.BCEWithLogitsLoss(weight=torch.tensor(class_weights[1], dtype=torch.float32)).to(device)\n",
        "\n",
        "        training_loss, validation_loss = training_loop(self, train_dataloader, val_dataloader, optimizer, criterion_trigger)\n",
        "        return training_loss, validation_loss\n",
        "\n",
        "    def predict(self, dataloader):\n",
        "        self.eval()\n",
        "        article_predictionsAll = []\n",
        "        article_labelsAll = []\n",
        "\n",
        "        with torch.no_grad():\n",
        "            for batch in dataloader:\n",
        "\n",
        "                # obtain relevant information about the current batch\n",
        "                input_ids = torch.tensor(batch[0]).to(device)\n",
        "                attention_mask = torch.tensor(batch[1]).to(device)\n",
        "                article_labels = torch.tensor(batch[2]).to(device)\n",
        "\n",
        "                article_logits = self(input_ids, attention_mask)\n",
        "                article_probs = torch.sigmoid(article_logits)\n",
        "                article_preds = (article_probs > 0.5).float()\n",
        "\n",
        "                article_predictionsAll.append(article_preds)\n",
        "                article_labelsAll.append(article_labels)\n",
        "\n",
        "        return article_predictionsAll, article_labelsAll\n",
        "\n",
        "    def evaluate(self, dataloader):\n",
        "        article_predictionsAll, article_labelsAll = self.predict(dataloader)\n",
        "        article_f1 = model_evaluation(\"Article\", article_labelsAll, article_predictionsAll)\n",
        "        return article_f1"
      ]
    },
    {
      "cell_type": "code",
      "execution_count": 40,
      "metadata": {
        "id": "kqm1odmbJmM3"
      },
      "outputs": [],
      "source": [
        "model_card = 'bert-base-uncased'\n",
        "num_epochs = 1\n",
        "lr = 5e-5"
      ]
    },
    {
      "cell_type": "markdown",
      "metadata": {
        "id": "oCDDnyZjJmM3"
      },
      "source": [
        "#### **3.3 Model training and evaluation**"
      ]
    },
    {
      "cell_type": "code",
      "execution_count": 41,
      "metadata": {
        "id": "Q6K1M63sJmM3"
      },
      "outputs": [],
      "source": [
        "def mean_model(lr, num_epochs, model_card, random_seed):\n",
        "    mean_result = [0,0,0,0,0]\n",
        "    for i in range(len(train_dl_list)):\n",
        "\n",
        "        model = MyBERT(lr, num_epochs, model_card, random_seed)\n",
        "        print(f'Training on dataset {i}')\n",
        "        train_loss_model, val_loss_model = model.train_model(train_dl_list[i], val_dl_list[i])\n",
        "        print()\n",
        "        res = model.evaluate(val_dl_list[i])\n",
        "        for i in range(len(mean_result)):\n",
        "          mean_result[i] += res[i]\n",
        "\n",
        "    for i in range(len(mean_result)):\n",
        "        mean_result[i] = round(mean_result[i]/len(train_dl_list), 3)\n",
        "    return mean_result"
      ]
    },
    {
      "cell_type": "code",
      "execution_count": 42,
      "metadata": {
        "colab": {
          "base_uri": "https://localhost:8080/",
          "height": 1000,
          "referenced_widgets": [
            "899b5807f78e4d65940f6ef99453e629",
            "fdceecd086d74826a0ec17a740552b0d",
            "b2d79dd263b3402b91c74c535b27175b",
            "73c4ffc28b0e45faa003f31d24515f42",
            "4ad0cc2e69584fe2826bdcdb9b3c1828",
            "9c59d07a02fc4e2fb0e5c0b06e22bcdd",
            "e43789019e054b738f08cbd54a40ba8d",
            "85dd9aaea16c4052b92c55569b062f87",
            "cd8d16ab5e5a4ea3a3a4689dbc2ccbd4",
            "b208dc0bf35d44bebd0e333d4cf21584",
            "86e5a135822d44ed981e58b78dda6cf0"
          ]
        },
        "id": "yh22x2txJmM3",
        "outputId": "4a31a7ca-cb29-4f95-b2e8-abdbb50e34d2"
      },
      "outputs": [
        {
          "name": "stdout",
          "output_type": "stream",
          "text": [
            "Model 1 training\n",
            "\n"
          ]
        },
        {
          "name": "stderr",
          "output_type": "stream",
          "text": [
            "Some weights of the model checkpoint at bert-base-uncased were not used when initializing BertModel: ['cls.predictions.transform.dense.weight', 'cls.predictions.transform.LayerNorm.weight', 'cls.predictions.bias', 'cls.seq_relationship.weight', 'cls.seq_relationship.bias', 'cls.predictions.transform.dense.bias', 'cls.predictions.transform.LayerNorm.bias']\n",
            "- This IS expected if you are initializing BertModel from the checkpoint of a model trained on another task or with another architecture (e.g. initializing a BertForSequenceClassification model from a BertForPreTraining model).\n",
            "- This IS NOT expected if you are initializing BertModel from the checkpoint of a model that you expect to be exactly identical (initializing a BertForSequenceClassification model from a BertForSequenceClassification model).\n"
          ]
        },
        {
          "name": "stdout",
          "output_type": "stream",
          "text": [
            "Training on dataset 0\n",
            "Epoch 1/1, Validation Loss: 2.648759055137634\n",
            "Epoch 1/1, Validation Loss: 2.7624984860420225\n",
            "\n"
          ]
        },
        {
          "name": "stderr",
          "output_type": "stream",
          "text": [
            "Some weights of the model checkpoint at bert-base-uncased were not used when initializing BertModel: ['cls.predictions.transform.dense.weight', 'cls.predictions.transform.LayerNorm.weight', 'cls.predictions.bias', 'cls.seq_relationship.weight', 'cls.seq_relationship.bias', 'cls.predictions.transform.dense.bias', 'cls.predictions.transform.LayerNorm.bias']\n",
            "- This IS expected if you are initializing BertModel from the checkpoint of a model trained on another task or with another architecture (e.g. initializing a BertForSequenceClassification model from a BertForPreTraining model).\n",
            "- This IS NOT expected if you are initializing BertModel from the checkpoint of a model that you expect to be exactly identical (initializing a BertForSequenceClassification model from a BertForSequenceClassification model).\n"
          ]
        },
        {
          "name": "stdout",
          "output_type": "stream",
          "text": [
            "Training on dataset 1\n",
            "Epoch 1/1, Validation Loss: 2.43326475918293\n",
            "Epoch 1/1, Validation Loss: 2.4702522829174995\n",
            "\n"
          ]
        },
        {
          "name": "stderr",
          "output_type": "stream",
          "text": [
            "Some weights of the model checkpoint at bert-base-uncased were not used when initializing BertModel: ['cls.predictions.transform.dense.weight', 'cls.predictions.transform.LayerNorm.weight', 'cls.predictions.bias', 'cls.seq_relationship.weight', 'cls.seq_relationship.bias', 'cls.predictions.transform.dense.bias', 'cls.predictions.transform.LayerNorm.bias']\n",
            "- This IS expected if you are initializing BertModel from the checkpoint of a model trained on another task or with another architecture (e.g. initializing a BertForSequenceClassification model from a BertForPreTraining model).\n",
            "- This IS NOT expected if you are initializing BertModel from the checkpoint of a model that you expect to be exactly identical (initializing a BertForSequenceClassification model from a BertForSequenceClassification model).\n"
          ]
        },
        {
          "name": "stdout",
          "output_type": "stream",
          "text": [
            "Training on dataset 2\n",
            "Epoch 1/1, Validation Loss: 2.2885309219360352\n",
            "Epoch 1/1, Validation Loss: 2.0904924869537354\n",
            "\n"
          ]
        },
        {
          "name": "stderr",
          "output_type": "stream",
          "text": [
            "Some weights of the model checkpoint at bert-base-uncased were not used when initializing BertModel: ['cls.predictions.transform.dense.weight', 'cls.predictions.transform.LayerNorm.weight', 'cls.predictions.bias', 'cls.seq_relationship.weight', 'cls.seq_relationship.bias', 'cls.predictions.transform.dense.bias', 'cls.predictions.transform.LayerNorm.bias']\n",
            "- This IS expected if you are initializing BertModel from the checkpoint of a model trained on another task or with another architecture (e.g. initializing a BertForSequenceClassification model from a BertForPreTraining model).\n",
            "- This IS NOT expected if you are initializing BertModel from the checkpoint of a model that you expect to be exactly identical (initializing a BertForSequenceClassification model from a BertForSequenceClassification model).\n"
          ]
        },
        {
          "name": "stdout",
          "output_type": "stream",
          "text": [
            "Training on dataset 3\n",
            "Epoch 1/1, Validation Loss: 1.8283552944660186\n",
            "Epoch 1/1, Validation Loss: 1.8471874177455903\n",
            "\n"
          ]
        },
        {
          "name": "stderr",
          "output_type": "stream",
          "text": [
            "Some weights of the model checkpoint at bert-base-uncased were not used when initializing BertModel: ['cls.predictions.transform.dense.weight', 'cls.predictions.transform.LayerNorm.weight', 'cls.predictions.bias', 'cls.seq_relationship.weight', 'cls.seq_relationship.bias', 'cls.predictions.transform.dense.bias', 'cls.predictions.transform.LayerNorm.bias']\n",
            "- This IS expected if you are initializing BertModel from the checkpoint of a model trained on another task or with another architecture (e.g. initializing a BertForSequenceClassification model from a BertForPreTraining model).\n",
            "- This IS NOT expected if you are initializing BertModel from the checkpoint of a model that you expect to be exactly identical (initializing a BertForSequenceClassification model from a BertForSequenceClassification model).\n"
          ]
        },
        {
          "name": "stdout",
          "output_type": "stream",
          "text": [
            "Training on dataset 4\n",
            "Epoch 1/1, Validation Loss: 2.1320854663848876\n",
            "Epoch 1/1, Validation Loss: 2.123249000310898\n",
            "\n",
            "Model 2 training\n",
            "\n"
          ]
        },
        {
          "name": "stderr",
          "output_type": "stream",
          "text": [
            "Some weights of the model checkpoint at bert-base-uncased were not used when initializing BertModel: ['cls.predictions.transform.dense.weight', 'cls.predictions.transform.LayerNorm.weight', 'cls.predictions.bias', 'cls.seq_relationship.weight', 'cls.seq_relationship.bias', 'cls.predictions.transform.dense.bias', 'cls.predictions.transform.LayerNorm.bias']\n",
            "- This IS expected if you are initializing BertModel from the checkpoint of a model trained on another task or with another architecture (e.g. initializing a BertForSequenceClassification model from a BertForPreTraining model).\n",
            "- This IS NOT expected if you are initializing BertModel from the checkpoint of a model that you expect to be exactly identical (initializing a BertForSequenceClassification model from a BertForSequenceClassification model).\n"
          ]
        },
        {
          "name": "stdout",
          "output_type": "stream",
          "text": [
            "Training on dataset 0\n",
            "Epoch 1/1, Validation Loss: 2.6595324754714964\n",
            "Epoch 1/1, Validation Loss: 2.754266381263733\n",
            "\n"
          ]
        },
        {
          "name": "stderr",
          "output_type": "stream",
          "text": [
            "Some weights of the model checkpoint at bert-base-uncased were not used when initializing BertModel: ['cls.predictions.transform.dense.weight', 'cls.predictions.transform.LayerNorm.weight', 'cls.predictions.bias', 'cls.seq_relationship.weight', 'cls.seq_relationship.bias', 'cls.predictions.transform.dense.bias', 'cls.predictions.transform.LayerNorm.bias']\n",
            "- This IS expected if you are initializing BertModel from the checkpoint of a model trained on another task or with another architecture (e.g. initializing a BertForSequenceClassification model from a BertForPreTraining model).\n",
            "- This IS NOT expected if you are initializing BertModel from the checkpoint of a model that you expect to be exactly identical (initializing a BertForSequenceClassification model from a BertForSequenceClassification model).\n"
          ]
        },
        {
          "name": "stdout",
          "output_type": "stream",
          "text": [
            "Training on dataset 1\n",
            "Epoch 1/1, Validation Loss: 2.4001855581998823\n",
            "Epoch 1/1, Validation Loss: 2.4125609695911407\n",
            "\n"
          ]
        },
        {
          "name": "stderr",
          "output_type": "stream",
          "text": [
            "Some weights of the model checkpoint at bert-base-uncased were not used when initializing BertModel: ['cls.predictions.transform.dense.weight', 'cls.predictions.transform.LayerNorm.weight', 'cls.predictions.bias', 'cls.seq_relationship.weight', 'cls.seq_relationship.bias', 'cls.predictions.transform.dense.bias', 'cls.predictions.transform.LayerNorm.bias']\n",
            "- This IS expected if you are initializing BertModel from the checkpoint of a model trained on another task or with another architecture (e.g. initializing a BertForSequenceClassification model from a BertForPreTraining model).\n",
            "- This IS NOT expected if you are initializing BertModel from the checkpoint of a model that you expect to be exactly identical (initializing a BertForSequenceClassification model from a BertForSequenceClassification model).\n"
          ]
        },
        {
          "name": "stdout",
          "output_type": "stream",
          "text": [
            "Training on dataset 2\n",
            "Epoch 1/1, Validation Loss: 2.16558997631073\n",
            "Epoch 1/1, Validation Loss: 2.1474997997283936\n",
            "\n"
          ]
        },
        {
          "name": "stderr",
          "output_type": "stream",
          "text": [
            "Some weights of the model checkpoint at bert-base-uncased were not used when initializing BertModel: ['cls.predictions.transform.dense.weight', 'cls.predictions.transform.LayerNorm.weight', 'cls.predictions.bias', 'cls.seq_relationship.weight', 'cls.seq_relationship.bias', 'cls.predictions.transform.dense.bias', 'cls.predictions.transform.LayerNorm.bias']\n",
            "- This IS expected if you are initializing BertModel from the checkpoint of a model trained on another task or with another architecture (e.g. initializing a BertForSequenceClassification model from a BertForPreTraining model).\n",
            "- This IS NOT expected if you are initializing BertModel from the checkpoint of a model that you expect to be exactly identical (initializing a BertForSequenceClassification model from a BertForSequenceClassification model).\n"
          ]
        },
        {
          "name": "stdout",
          "output_type": "stream",
          "text": [
            "Training on dataset 3\n",
            "Epoch 1/1, Validation Loss: 1.9104311421513558\n",
            "Epoch 1/1, Validation Loss: 1.828413438796997\n",
            "\n"
          ]
        },
        {
          "name": "stderr",
          "output_type": "stream",
          "text": [
            "Some weights of the model checkpoint at bert-base-uncased were not used when initializing BertModel: ['cls.predictions.transform.dense.weight', 'cls.predictions.transform.LayerNorm.weight', 'cls.predictions.bias', 'cls.seq_relationship.weight', 'cls.seq_relationship.bias', 'cls.predictions.transform.dense.bias', 'cls.predictions.transform.LayerNorm.bias']\n",
            "- This IS expected if you are initializing BertModel from the checkpoint of a model trained on another task or with another architecture (e.g. initializing a BertForSequenceClassification model from a BertForPreTraining model).\n",
            "- This IS NOT expected if you are initializing BertModel from the checkpoint of a model that you expect to be exactly identical (initializing a BertForSequenceClassification model from a BertForSequenceClassification model).\n"
          ]
        },
        {
          "name": "stdout",
          "output_type": "stream",
          "text": [
            "Training on dataset 4\n",
            "Epoch 1/1, Validation Loss: 2.1264100074768066\n",
            "Epoch 1/1, Validation Loss: 2.1184923529624937\n",
            "\n",
            "Model 3 training\n",
            "\n"
          ]
        },
        {
          "name": "stderr",
          "output_type": "stream",
          "text": [
            "Some weights of the model checkpoint at bert-base-uncased were not used when initializing BertModel: ['cls.predictions.transform.dense.weight', 'cls.predictions.transform.LayerNorm.weight', 'cls.predictions.bias', 'cls.seq_relationship.weight', 'cls.seq_relationship.bias', 'cls.predictions.transform.dense.bias', 'cls.predictions.transform.LayerNorm.bias']\n",
            "- This IS expected if you are initializing BertModel from the checkpoint of a model trained on another task or with another architecture (e.g. initializing a BertForSequenceClassification model from a BertForPreTraining model).\n",
            "- This IS NOT expected if you are initializing BertModel from the checkpoint of a model that you expect to be exactly identical (initializing a BertForSequenceClassification model from a BertForSequenceClassification model).\n"
          ]
        },
        {
          "name": "stdout",
          "output_type": "stream",
          "text": [
            "Training on dataset 0\n",
            "Epoch 1/1, Validation Loss: 2.711768317222595\n",
            "Epoch 1/1, Validation Loss: 2.8093196034431456\n",
            "\n"
          ]
        },
        {
          "name": "stderr",
          "output_type": "stream",
          "text": [
            "Some weights of the model checkpoint at bert-base-uncased were not used when initializing BertModel: ['cls.predictions.transform.dense.weight', 'cls.predictions.transform.LayerNorm.weight', 'cls.predictions.bias', 'cls.seq_relationship.weight', 'cls.seq_relationship.bias', 'cls.predictions.transform.dense.bias', 'cls.predictions.transform.LayerNorm.bias']\n",
            "- This IS expected if you are initializing BertModel from the checkpoint of a model trained on another task or with another architecture (e.g. initializing a BertForSequenceClassification model from a BertForPreTraining model).\n",
            "- This IS NOT expected if you are initializing BertModel from the checkpoint of a model that you expect to be exactly identical (initializing a BertForSequenceClassification model from a BertForSequenceClassification model).\n"
          ]
        },
        {
          "name": "stdout",
          "output_type": "stream",
          "text": [
            "Training on dataset 1\n",
            "Epoch 1/1, Validation Loss: 2.5843004912137983\n",
            "Epoch 1/1, Validation Loss: 2.745555119216442\n",
            "\n"
          ]
        },
        {
          "name": "stderr",
          "output_type": "stream",
          "text": [
            "Some weights of the model checkpoint at bert-base-uncased were not used when initializing BertModel: ['cls.predictions.transform.dense.weight', 'cls.predictions.transform.LayerNorm.weight', 'cls.predictions.bias', 'cls.seq_relationship.weight', 'cls.seq_relationship.bias', 'cls.predictions.transform.dense.bias', 'cls.predictions.transform.LayerNorm.bias']\n",
            "- This IS expected if you are initializing BertModel from the checkpoint of a model trained on another task or with another architecture (e.g. initializing a BertForSequenceClassification model from a BertForPreTraining model).\n",
            "- This IS NOT expected if you are initializing BertModel from the checkpoint of a model that you expect to be exactly identical (initializing a BertForSequenceClassification model from a BertForSequenceClassification model).\n"
          ]
        },
        {
          "name": "stdout",
          "output_type": "stream",
          "text": [
            "Training on dataset 2\n",
            "Epoch 1/1, Validation Loss: 2.174721884727478\n",
            "Epoch 1/1, Validation Loss: 2.0370840549468996\n",
            "\n"
          ]
        },
        {
          "name": "stderr",
          "output_type": "stream",
          "text": [
            "Some weights of the model checkpoint at bert-base-uncased were not used when initializing BertModel: ['cls.predictions.transform.dense.weight', 'cls.predictions.transform.LayerNorm.weight', 'cls.predictions.bias', 'cls.seq_relationship.weight', 'cls.seq_relationship.bias', 'cls.predictions.transform.dense.bias', 'cls.predictions.transform.LayerNorm.bias']\n",
            "- This IS expected if you are initializing BertModel from the checkpoint of a model trained on another task or with another architecture (e.g. initializing a BertForSequenceClassification model from a BertForPreTraining model).\n",
            "- This IS NOT expected if you are initializing BertModel from the checkpoint of a model that you expect to be exactly identical (initializing a BertForSequenceClassification model from a BertForSequenceClassification model).\n"
          ]
        },
        {
          "name": "stdout",
          "output_type": "stream",
          "text": [
            "Training on dataset 3\n",
            "Epoch 1/1, Validation Loss: 1.8444347590208054\n",
            "Epoch 1/1, Validation Loss: 1.9128370344638825\n",
            "\n"
          ]
        },
        {
          "name": "stderr",
          "output_type": "stream",
          "text": [
            "Some weights of the model checkpoint at bert-base-uncased were not used when initializing BertModel: ['cls.predictions.transform.dense.weight', 'cls.predictions.transform.LayerNorm.weight', 'cls.predictions.bias', 'cls.seq_relationship.weight', 'cls.seq_relationship.bias', 'cls.predictions.transform.dense.bias', 'cls.predictions.transform.LayerNorm.bias']\n",
            "- This IS expected if you are initializing BertModel from the checkpoint of a model trained on another task or with another architecture (e.g. initializing a BertForSequenceClassification model from a BertForPreTraining model).\n",
            "- This IS NOT expected if you are initializing BertModel from the checkpoint of a model that you expect to be exactly identical (initializing a BertForSequenceClassification model from a BertForSequenceClassification model).\n"
          ]
        },
        {
          "name": "stdout",
          "output_type": "stream",
          "text": [
            "Training on dataset 4\n",
            "Epoch 1/1, Validation Loss: 2.196879988908768\n",
            "Epoch 1/1, Validation Loss: 2.149208104610443\n",
            "\n",
            "Model 4 training\n",
            "\n"
          ]
        },
        {
          "name": "stderr",
          "output_type": "stream",
          "text": [
            "Some weights of the model checkpoint at bert-base-uncased were not used when initializing BertModel: ['cls.predictions.transform.dense.weight', 'cls.predictions.transform.LayerNorm.weight', 'cls.predictions.bias', 'cls.seq_relationship.weight', 'cls.seq_relationship.bias', 'cls.predictions.transform.dense.bias', 'cls.predictions.transform.LayerNorm.bias']\n",
            "- This IS expected if you are initializing BertModel from the checkpoint of a model trained on another task or with another architecture (e.g. initializing a BertForSequenceClassification model from a BertForPreTraining model).\n",
            "- This IS NOT expected if you are initializing BertModel from the checkpoint of a model that you expect to be exactly identical (initializing a BertForSequenceClassification model from a BertForSequenceClassification model).\n"
          ]
        },
        {
          "name": "stdout",
          "output_type": "stream",
          "text": [
            "Training on dataset 0\n",
            "Epoch 1/1, Validation Loss: 2.6559009671211244\n",
            "Epoch 1/1, Validation Loss: 2.8172003030776978\n",
            "\n"
          ]
        },
        {
          "name": "stderr",
          "output_type": "stream",
          "text": [
            "Some weights of the model checkpoint at bert-base-uncased were not used when initializing BertModel: ['cls.predictions.transform.dense.weight', 'cls.predictions.transform.LayerNorm.weight', 'cls.predictions.bias', 'cls.seq_relationship.weight', 'cls.seq_relationship.bias', 'cls.predictions.transform.dense.bias', 'cls.predictions.transform.LayerNorm.bias']\n",
            "- This IS expected if you are initializing BertModel from the checkpoint of a model trained on another task or with another architecture (e.g. initializing a BertForSequenceClassification model from a BertForPreTraining model).\n",
            "- This IS NOT expected if you are initializing BertModel from the checkpoint of a model that you expect to be exactly identical (initializing a BertForSequenceClassification model from a BertForSequenceClassification model).\n"
          ]
        },
        {
          "name": "stdout",
          "output_type": "stream",
          "text": [
            "Training on dataset 1\n",
            "Epoch 1/1, Validation Loss: 2.5340451925992964\n",
            "Epoch 1/1, Validation Loss: 2.373906621336937\n",
            "\n"
          ]
        },
        {
          "name": "stderr",
          "output_type": "stream",
          "text": [
            "Some weights of the model checkpoint at bert-base-uncased were not used when initializing BertModel: ['cls.predictions.transform.dense.weight', 'cls.predictions.transform.LayerNorm.weight', 'cls.predictions.bias', 'cls.seq_relationship.weight', 'cls.seq_relationship.bias', 'cls.predictions.transform.dense.bias', 'cls.predictions.transform.LayerNorm.bias']\n",
            "- This IS expected if you are initializing BertModel from the checkpoint of a model trained on another task or with another architecture (e.g. initializing a BertForSequenceClassification model from a BertForPreTraining model).\n",
            "- This IS NOT expected if you are initializing BertModel from the checkpoint of a model that you expect to be exactly identical (initializing a BertForSequenceClassification model from a BertForSequenceClassification model).\n"
          ]
        },
        {
          "name": "stdout",
          "output_type": "stream",
          "text": [
            "Training on dataset 2\n",
            "Epoch 1/1, Validation Loss: 2.1346407890319825\n",
            "Epoch 1/1, Validation Loss: 2.032791781425476\n",
            "\n"
          ]
        },
        {
          "name": "stderr",
          "output_type": "stream",
          "text": [
            "Some weights of the model checkpoint at bert-base-uncased were not used when initializing BertModel: ['cls.predictions.transform.dense.weight', 'cls.predictions.transform.LayerNorm.weight', 'cls.predictions.bias', 'cls.seq_relationship.weight', 'cls.seq_relationship.bias', 'cls.predictions.transform.dense.bias', 'cls.predictions.transform.LayerNorm.bias']\n",
            "- This IS expected if you are initializing BertModel from the checkpoint of a model trained on another task or with another architecture (e.g. initializing a BertForSequenceClassification model from a BertForPreTraining model).\n",
            "- This IS NOT expected if you are initializing BertModel from the checkpoint of a model that you expect to be exactly identical (initializing a BertForSequenceClassification model from a BertForSequenceClassification model).\n"
          ]
        },
        {
          "name": "stdout",
          "output_type": "stream",
          "text": [
            "Training on dataset 3\n",
            "Epoch 1/1, Validation Loss: 1.830379369854927\n",
            "Epoch 1/1, Validation Loss: 1.8436132431030274\n",
            "\n"
          ]
        },
        {
          "name": "stderr",
          "output_type": "stream",
          "text": [
            "Some weights of the model checkpoint at bert-base-uncased were not used when initializing BertModel: ['cls.predictions.transform.dense.weight', 'cls.predictions.transform.LayerNorm.weight', 'cls.predictions.bias', 'cls.seq_relationship.weight', 'cls.seq_relationship.bias', 'cls.predictions.transform.dense.bias', 'cls.predictions.transform.LayerNorm.bias']\n",
            "- This IS expected if you are initializing BertModel from the checkpoint of a model trained on another task or with another architecture (e.g. initializing a BertForSequenceClassification model from a BertForPreTraining model).\n",
            "- This IS NOT expected if you are initializing BertModel from the checkpoint of a model that you expect to be exactly identical (initializing a BertForSequenceClassification model from a BertForSequenceClassification model).\n"
          ]
        },
        {
          "name": "stdout",
          "output_type": "stream",
          "text": [
            "Training on dataset 4\n",
            "Epoch 1/1, Validation Loss: 2.1183499157428742\n",
            "Epoch 1/1, Validation Loss: 2.154427942633629\n",
            "\n",
            "Model 5 training\n",
            "\n"
          ]
        },
        {
          "name": "stderr",
          "output_type": "stream",
          "text": [
            "Some weights of the model checkpoint at bert-base-uncased were not used when initializing BertModel: ['cls.predictions.transform.dense.weight', 'cls.predictions.transform.LayerNorm.weight', 'cls.predictions.bias', 'cls.seq_relationship.weight', 'cls.seq_relationship.bias', 'cls.predictions.transform.dense.bias', 'cls.predictions.transform.LayerNorm.bias']\n",
            "- This IS expected if you are initializing BertModel from the checkpoint of a model trained on another task or with another architecture (e.g. initializing a BertForSequenceClassification model from a BertForPreTraining model).\n",
            "- This IS NOT expected if you are initializing BertModel from the checkpoint of a model that you expect to be exactly identical (initializing a BertForSequenceClassification model from a BertForSequenceClassification model).\n"
          ]
        },
        {
          "name": "stdout",
          "output_type": "stream",
          "text": [
            "Training on dataset 0\n",
            "Epoch 1/1, Validation Loss: 2.6604399561882017\n",
            "Epoch 1/1, Validation Loss: 2.9222344279289247\n",
            "\n"
          ]
        },
        {
          "name": "stderr",
          "output_type": "stream",
          "text": [
            "Some weights of the model checkpoint at bert-base-uncased were not used when initializing BertModel: ['cls.predictions.transform.dense.weight', 'cls.predictions.transform.LayerNorm.weight', 'cls.predictions.bias', 'cls.seq_relationship.weight', 'cls.seq_relationship.bias', 'cls.predictions.transform.dense.bias', 'cls.predictions.transform.LayerNorm.bias']\n",
            "- This IS expected if you are initializing BertModel from the checkpoint of a model trained on another task or with another architecture (e.g. initializing a BertForSequenceClassification model from a BertForPreTraining model).\n",
            "- This IS NOT expected if you are initializing BertModel from the checkpoint of a model that you expect to be exactly identical (initializing a BertForSequenceClassification model from a BertForSequenceClassification model).\n"
          ]
        },
        {
          "name": "stdout",
          "output_type": "stream",
          "text": [
            "Training on dataset 1\n",
            "Epoch 1/1, Validation Loss: 2.3734819442033768\n",
            "Epoch 1/1, Validation Loss: 2.75123166590929\n",
            "\n"
          ]
        },
        {
          "name": "stderr",
          "output_type": "stream",
          "text": [
            "Some weights of the model checkpoint at bert-base-uncased were not used when initializing BertModel: ['cls.predictions.transform.dense.weight', 'cls.predictions.transform.LayerNorm.weight', 'cls.predictions.bias', 'cls.seq_relationship.weight', 'cls.seq_relationship.bias', 'cls.predictions.transform.dense.bias', 'cls.predictions.transform.LayerNorm.bias']\n",
            "- This IS expected if you are initializing BertModel from the checkpoint of a model trained on another task or with another architecture (e.g. initializing a BertForSequenceClassification model from a BertForPreTraining model).\n",
            "- This IS NOT expected if you are initializing BertModel from the checkpoint of a model that you expect to be exactly identical (initializing a BertForSequenceClassification model from a BertForSequenceClassification model).\n"
          ]
        },
        {
          "name": "stdout",
          "output_type": "stream",
          "text": [
            "Training on dataset 2\n",
            "Epoch 1/1, Validation Loss: 2.1894015789031984\n",
            "Epoch 1/1, Validation Loss: 2.031894659996033\n",
            "\n"
          ]
        },
        {
          "name": "stderr",
          "output_type": "stream",
          "text": [
            "Some weights of the model checkpoint at bert-base-uncased were not used when initializing BertModel: ['cls.predictions.transform.dense.weight', 'cls.predictions.transform.LayerNorm.weight', 'cls.predictions.bias', 'cls.seq_relationship.weight', 'cls.seq_relationship.bias', 'cls.predictions.transform.dense.bias', 'cls.predictions.transform.LayerNorm.bias']\n",
            "- This IS expected if you are initializing BertModel from the checkpoint of a model trained on another task or with another architecture (e.g. initializing a BertForSequenceClassification model from a BertForPreTraining model).\n",
            "- This IS NOT expected if you are initializing BertModel from the checkpoint of a model that you expect to be exactly identical (initializing a BertForSequenceClassification model from a BertForSequenceClassification model).\n"
          ]
        },
        {
          "name": "stdout",
          "output_type": "stream",
          "text": [
            "Training on dataset 3\n",
            "Epoch 1/1, Validation Loss: 1.8294968783855439\n",
            "Epoch 1/1, Validation Loss: 1.8514714360237121\n",
            "\n"
          ]
        },
        {
          "name": "stderr",
          "output_type": "stream",
          "text": [
            "Some weights of the model checkpoint at bert-base-uncased were not used when initializing BertModel: ['cls.predictions.transform.dense.weight', 'cls.predictions.transform.LayerNorm.weight', 'cls.predictions.bias', 'cls.seq_relationship.weight', 'cls.seq_relationship.bias', 'cls.predictions.transform.dense.bias', 'cls.predictions.transform.LayerNorm.bias']\n",
            "- This IS expected if you are initializing BertModel from the checkpoint of a model trained on another task or with another architecture (e.g. initializing a BertForSequenceClassification model from a BertForPreTraining model).\n",
            "- This IS NOT expected if you are initializing BertModel from the checkpoint of a model that you expect to be exactly identical (initializing a BertForSequenceClassification model from a BertForSequenceClassification model).\n"
          ]
        },
        {
          "name": "stdout",
          "output_type": "stream",
          "text": [
            "Training on dataset 4\n",
            "Epoch 1/1, Validation Loss: 2.1218975126743316\n",
            "Epoch 1/1, Validation Loss: 2.119810140132904\n",
            "\n"
          ]
        }
      ],
      "source": [
        "print('Model 1 training\\n')\n",
        "mean1 = mean_model(lr, num_epochs, model_card, random_seed1d)\n",
        "print('Model 2 training\\n')\n",
        "mean2 = mean_model(lr, num_epochs, model_card, random_seed2d)\n",
        "print('Model 3 training\\n')\n",
        "mean3 = mean_model(lr, num_epochs, model_card, random_seed3d)\n",
        "print('Model 4 training\\n')\n",
        "mean4 = mean_model(lr, num_epochs, model_card, random_seed4d)\n",
        "print('Model 5 training\\n')\n",
        "mean5 = mean_model(lr, num_epochs, model_card, random_seed5d)"
      ]
    },
    {
      "cell_type": "code",
      "execution_count": 43,
      "metadata": {
        "id": "XMv8ZiNMJmM4"
      },
      "outputs": [],
      "source": [
        "results.loc['BERT model1'] = mean1\n",
        "results.loc['BERT model2'] = mean2\n",
        "results.loc['BERT model3'] = mean3\n",
        "results.loc['BERT model4'] = mean4\n",
        "results.loc['BERT model5'] = mean5"
      ]
    },
    {
      "cell_type": "code",
      "execution_count": 44,
      "metadata": {
        "colab": {
          "base_uri": "https://localhost:8080/",
          "height": 363
        },
        "id": "I1uDIcg9JmM4",
        "outputId": "d2d81773-7d2b-4cf7-f9d6-c8f3cafb1f72"
      },
      "outputs": [
        {
          "data": {
            "text/html": [
              "<div>\n",
              "<style scoped>\n",
              "    .dataframe tbody tr th:only-of-type {\n",
              "        vertical-align: middle;\n",
              "    }\n",
              "\n",
              "    .dataframe tbody tr th {\n",
              "        vertical-align: top;\n",
              "    }\n",
              "\n",
              "    .dataframe thead th {\n",
              "        text-align: right;\n",
              "    }\n",
              "</style>\n",
              "<table border=\"1\" class=\"dataframe\">\n",
              "  <thead>\n",
              "    <tr style=\"text-align: right;\">\n",
              "      <th></th>\n",
              "      <th>Accuracy</th>\n",
              "      <th>Precision</th>\n",
              "      <th>Recall</th>\n",
              "      <th>MacroF1</th>\n",
              "      <th>WeightedF1</th>\n",
              "    </tr>\n",
              "  </thead>\n",
              "  <tbody>\n",
              "    <tr>\n",
              "      <th>RandomForestClassifier</th>\n",
              "      <td>0.944</td>\n",
              "      <td>0.733</td>\n",
              "      <td>0.093</td>\n",
              "      <td>0.567</td>\n",
              "      <td>0.922</td>\n",
              "    </tr>\n",
              "    <tr>\n",
              "      <th>LogisticRegression</th>\n",
              "      <td>0.947</td>\n",
              "      <td>0.843</td>\n",
              "      <td>0.166</td>\n",
              "      <td>0.624</td>\n",
              "      <td>0.930</td>\n",
              "    </tr>\n",
              "    <tr>\n",
              "      <th>SVM</th>\n",
              "      <td>0.952</td>\n",
              "      <td>0.960</td>\n",
              "      <td>0.201</td>\n",
              "      <td>0.647</td>\n",
              "      <td>0.936</td>\n",
              "    </tr>\n",
              "    <tr>\n",
              "      <th>NB</th>\n",
              "      <td>0.939</td>\n",
              "      <td>0.000</td>\n",
              "      <td>0.000</td>\n",
              "      <td>0.484</td>\n",
              "      <td>0.909</td>\n",
              "    </tr>\n",
              "    <tr>\n",
              "      <th>XGB</th>\n",
              "      <td>0.957</td>\n",
              "      <td>0.748</td>\n",
              "      <td>0.423</td>\n",
              "      <td>0.757</td>\n",
              "      <td>0.951</td>\n",
              "    </tr>\n",
              "    <tr>\n",
              "      <th>BERT model1</th>\n",
              "      <td>0.941</td>\n",
              "      <td>0.000</td>\n",
              "      <td>0.000</td>\n",
              "      <td>0.485</td>\n",
              "      <td>0.912</td>\n",
              "    </tr>\n",
              "    <tr>\n",
              "      <th>BERT model2</th>\n",
              "      <td>0.941</td>\n",
              "      <td>0.000</td>\n",
              "      <td>0.000</td>\n",
              "      <td>0.485</td>\n",
              "      <td>0.912</td>\n",
              "    </tr>\n",
              "    <tr>\n",
              "      <th>BERT model3</th>\n",
              "      <td>0.941</td>\n",
              "      <td>0.000</td>\n",
              "      <td>0.000</td>\n",
              "      <td>0.485</td>\n",
              "      <td>0.912</td>\n",
              "    </tr>\n",
              "    <tr>\n",
              "      <th>BERT model4</th>\n",
              "      <td>0.941</td>\n",
              "      <td>0.000</td>\n",
              "      <td>0.000</td>\n",
              "      <td>0.485</td>\n",
              "      <td>0.912</td>\n",
              "    </tr>\n",
              "    <tr>\n",
              "      <th>BERT model5</th>\n",
              "      <td>0.941</td>\n",
              "      <td>0.000</td>\n",
              "      <td>0.000</td>\n",
              "      <td>0.485</td>\n",
              "      <td>0.912</td>\n",
              "    </tr>\n",
              "  </tbody>\n",
              "</table>\n",
              "</div>"
            ],
            "text/plain": [
              "                        Accuracy  Precision  Recall  MacroF1  WeightedF1\n",
              "RandomForestClassifier     0.944      0.733   0.093    0.567       0.922\n",
              "LogisticRegression         0.947      0.843   0.166    0.624       0.930\n",
              "SVM                        0.952      0.960   0.201    0.647       0.936\n",
              "NB                         0.939      0.000   0.000    0.484       0.909\n",
              "XGB                        0.957      0.748   0.423    0.757       0.951\n",
              "BERT model1                0.941      0.000   0.000    0.485       0.912\n",
              "BERT model2                0.941      0.000   0.000    0.485       0.912\n",
              "BERT model3                0.941      0.000   0.000    0.485       0.912\n",
              "BERT model4                0.941      0.000   0.000    0.485       0.912\n",
              "BERT model5                0.941      0.000   0.000    0.485       0.912"
            ]
          },
          "execution_count": 44,
          "metadata": {},
          "output_type": "execute_result"
        }
      ],
      "source": [
        "# Show and compare results\n",
        "results"
      ]
    },
    {
      "cell_type": "markdown",
      "metadata": {
        "id": "3XBcy1i0JmM4"
      },
      "source": [
        "#### **3.4 Error analysis of the model**"
      ]
    },
    {
      "cell_type": "code",
      "execution_count": 45,
      "metadata": {
        "colab": {
          "base_uri": "https://localhost:8080/"
        },
        "id": "YPl6JCStJmM4",
        "outputId": "9f949c7e-0876-490d-8cc0-fdb7dad852e7"
      },
      "outputs": [
        {
          "name": "stderr",
          "output_type": "stream",
          "text": [
            "Some weights of the model checkpoint at bert-base-uncased were not used when initializing BertModel: ['cls.predictions.transform.dense.weight', 'cls.predictions.transform.LayerNorm.weight', 'cls.predictions.bias', 'cls.seq_relationship.weight', 'cls.seq_relationship.bias', 'cls.predictions.transform.dense.bias', 'cls.predictions.transform.LayerNorm.bias']\n",
            "- This IS expected if you are initializing BertModel from the checkpoint of a model trained on another task or with another architecture (e.g. initializing a BertForSequenceClassification model from a BertForPreTraining model).\n",
            "- This IS NOT expected if you are initializing BertModel from the checkpoint of a model that you expect to be exactly identical (initializing a BertForSequenceClassification model from a BertForSequenceClassification model).\n"
          ]
        },
        {
          "name": "stdout",
          "output_type": "stream",
          "text": [
            "Epoch 1/1, Validation Loss: 2.196879988908768\n",
            "Epoch 1/1, Validation Loss: 2.149208104610443\n"
          ]
        }
      ],
      "source": [
        "# The error analysis is performed on the best-performing BERT model (on average) on the 5th dataset\n",
        "best_random_seed = random_seed3d\n",
        "best_model = MyBERT(lr, num_epochs, model_card, best_random_seed)\n",
        "train_loss_best_model, val_loss_best_model = best_model.train_model(train_dataloader5, val_dataloader5)"
      ]
    },
    {
      "cell_type": "code",
      "execution_count": 46,
      "metadata": {
        "id": "iB5SSgkYJmM4"
      },
      "outputs": [],
      "source": [
        "def prediction_extractor(true_labels, predictions):\n",
        "    labels = [x.cpu().numpy()  for y in true_labels for x in y]\n",
        "    preds = [x.cpu().numpy()  for y in predictions for x in y]\n",
        "    return labels, preds\n",
        "\n",
        "def error_analysis(test_set, bert_model):\n",
        "    predictions, true_labels = bert_model.predict(test_set)\n",
        "    true_labels_extracted, predictions_extracted = prediction_extractor(true_labels, predictions)\n",
        "    labels_list = [int(x) for x in true_labels_extracted]\n",
        "    predictions_list = [int(x) for x in predictions_extracted]\n",
        "    return predictions_list, labels_list\n",
        "\n",
        "def plot_cf(true_labels_test, predictions_test):\n",
        "    conf_matrix_BERT = confusion_matrix(true_labels_test, predictions_test)\n",
        "    sns.heatmap(conf_matrix_BERT, annot=True, fmt='d', cmap='Blues', cbar=False,\n",
        "                    annot_kws={\"size\": 14}, linewidths=0.5, linecolor='black')\n",
        "    plt.title(f'Confusion Matrix for BERT model')\n",
        "    plt.xlabel('Predicted')\n",
        "    plt.ylabel('Actual');"
      ]
    },
    {
      "cell_type": "code",
      "execution_count": 47,
      "metadata": {
        "id": "CT94OpMfJmM4"
      },
      "outputs": [],
      "source": [
        "predictions_test, true_labels_test = error_analysis(test_dataloader5, best_model)"
      ]
    },
    {
      "cell_type": "code",
      "execution_count": 48,
      "metadata": {
        "colab": {
          "base_uri": "https://localhost:8080/",
          "height": 472
        },
        "id": "ONl_ukUgJmM4",
        "outputId": "26ba3a7d-e904-4b24-e440-58aafec9afbf"
      },
      "outputs": [
        {
          "data": {
            "image/png": "[encoded data removed]",
            "text/plain": [
              "<Figure size 640x480 with 1 Axes>"
            ]
          },
          "metadata": {},
          "output_type": "display_data"
        }
      ],
      "source": [
        "plot_cf(true_labels_test, predictions_test)\n"
      ]
    },
    {
      "cell_type": "code",
      "execution_count": 64,
      "metadata": {},
      "outputs": [
        {
          "data": {
            "text/plain": [
              "[]"
            ]
          },
          "execution_count": 64,
          "metadata": {},
          "output_type": "execute_result"
        }
      ],
      "source": [
        "misclassified_indices = [idx for idx, (true, pred) in enumerate(zip(true_labels_test, predictions_test)) if true == 1 and pred == 0]\n",
        "correct_indices = [idx for idx, (true, pred) in enumerate(zip(true_labels_test, predictions_test)) if true == 1 and pred == 1]"
      ]
    },
    {
      "cell_type": "code",
      "execution_count": 70,
      "metadata": {},
      "outputs": [
        {
          "name": "stdout",
          "output_type": "stream",
          "text": [
            "Out of 18 included papers that are not detected, 2 were presented without abstract. It is the 11.1% of the total\n",
            "Out of 0 included papers that are correctly detected, just 0 were presented without abstract. It is the 0.0% of the total\n"
          ]
        }
      ],
      "source": [
        "abstract_values = test5.iloc[misclassified_indices]['abstract'].tolist()\n",
        "abstract_correct_values = test5.iloc[correct_indices]['abstract'].tolist()\n",
        "\n",
        "# Count occurrences of 'Missing' in abstract_values\n",
        "missing_count = pd.Series(abstract_values).value_counts().get('Missing', 0)\n",
        "missing_correct_count = pd.Series(abstract_correct_values).value_counts().get('Missing', 0)\n",
        "\n",
        "print(f\"Out of {len(misclassified_indices)} included papers that are not detected, {missing_count} were presented without abstract. It is the {round(missing_count/len(misclassified_indices) * 100, 1)}% of the total\")\n",
        "print(f\"Out of {len(correct_indices)} included papers that are correctly detected, {len(correct_indices) - missing_correct_count} were presented without abstract. It is the {round(len(correct_indices) - missing_correct_count/(len(correct_indices)+1) * 100, 1)}% of the total\")"
      ]
    },
    {
      "cell_type": "markdown",
      "metadata": {
        "id": "Gooboq5yJmM5"
      },
      "source": [
        "#### Error analysis conclusions"
      ]
    }
  ],
  "metadata": {
    "accelerator": "GPU",
    "colab": {
      "gpuType": "T4",
      "provenance": []
    },
    "kernelspec": {
      "display_name": "Python 3",
      "name": "python3"
    },
    "language_info": {
      "codemirror_mode": {
        "name": "ipython",
        "version": 3
      },
      "file_extension": ".py",
      "mimetype": "text/x-python",
      "name": "python",
      "nbconvert_exporter": "python",
      "pygments_lexer": "ipython3",
      "version": "3.8.10"
    },
    "widgets": {
      "application/vnd.jupyter.widget-state+json": {
        "012c2fd5558243998d4b529289885330": {
          "model_module": "@jupyter-widgets/controls",
          "model_module_version": "1.5.0",
          "model_name": "HTMLModel",
          "state": {
            "_dom_classes": [],
            "_model_module": "@jupyter-widgets/controls",
            "_model_module_version": "1.5.0",
            "_model_name": "HTMLModel",
            "_view_count": null,
            "_view_module": "@jupyter-widgets/controls",
            "_view_module_version": "1.5.0",
            "_view_name": "HTMLView",
            "description": "",
            "description_tooltip": null,
            "layout": "IPY_MODEL_b412db24a3084aabb29dfc0d85d00550",
            "placeholder": "​",
            "style": "IPY_MODEL_47dcbe966eb342138f9e3a9afbc6f0fa",
            "value": " 466k/466k [00:00&lt;00:00, 13.3MB/s]"
          }
        },
        "02747c6564e84145a91bf8bbce1c9779": {
          "model_module": "@jupyter-widgets/base",
          "model_module_version": "1.2.0",
          "model_name": "LayoutModel",
          "state": {
            "_model_module": "@jupyter-widgets/base",
            "_model_module_version": "1.2.0",
            "_model_name": "LayoutModel",
            "_view_count": null,
            "_view_module": "@jupyter-widgets/base",
            "_view_module_version": "1.2.0",
            "_view_name": "LayoutView",
            "align_content": null,
            "align_items": null,
            "align_self": null,
            "border": null,
            "bottom": null,
            "display": null,
            "flex": null,
            "flex_flow": null,
            "grid_area": null,
            "grid_auto_columns": null,
            "grid_auto_flow": null,
            "grid_auto_rows": null,
            "grid_column": null,
            "grid_gap": null,
            "grid_row": null,
            "grid_template_areas": null,
            "grid_template_columns": null,
            "grid_template_rows": null,
            "height": null,
            "justify_content": null,
            "justify_items": null,
            "left": null,
            "margin": null,
            "max_height": null,
            "max_width": null,
            "min_height": null,
            "min_width": null,
            "object_fit": null,
            "object_position": null,
            "order": null,
            "overflow": null,
            "overflow_x": null,
            "overflow_y": null,
            "padding": null,
            "right": null,
            "top": null,
            "visibility": null,
            "width": null
          }
        },
        "09d285ba84574f29a61289736c86883a": {
          "model_module": "@jupyter-widgets/controls",
          "model_module_version": "1.5.0",
          "model_name": "DescriptionStyleModel",
          "state": {
            "_model_module": "@jupyter-widgets/controls",
            "_model_module_version": "1.5.0",
            "_model_name": "DescriptionStyleModel",
            "_view_count": null,
            "_view_module": "@jupyter-widgets/base",
            "_view_module_version": "1.2.0",
            "_view_name": "StyleView",
            "description_width": ""
          }
        },
        "0c6434b1288548bf956f89b8c805175b": {
          "model_module": "@jupyter-widgets/controls",
          "model_module_version": "1.5.0",
          "model_name": "ProgressStyleModel",
          "state": {
            "_model_module": "@jupyter-widgets/controls",
            "_model_module_version": "1.5.0",
            "_model_name": "ProgressStyleModel",
            "_view_count": null,
            "_view_module": "@jupyter-widgets/base",
            "_view_module_version": "1.2.0",
            "_view_name": "StyleView",
            "bar_color": null,
            "description_width": ""
          }
        },
        "10ee265112f44be5b8725914faefb2a1": {
          "model_module": "@jupyter-widgets/controls",
          "model_module_version": "1.5.0",
          "model_name": "FloatProgressModel",
          "state": {
            "_dom_classes": [],
            "_model_module": "@jupyter-widgets/controls",
            "_model_module_version": "1.5.0",
            "_model_name": "FloatProgressModel",
            "_view_count": null,
            "_view_module": "@jupyter-widgets/controls",
            "_view_module_version": "1.5.0",
            "_view_name": "ProgressView",
            "bar_style": "success",
            "description": "",
            "description_tooltip": null,
            "layout": "IPY_MODEL_9b79e8b77f79465b9357a9f7a128daec",
            "max": 231508,
            "min": 0,
            "orientation": "horizontal",
            "style": "IPY_MODEL_d3871294392a443caad6d4c000d043da",
            "value": 231508
          }
        },
        "11d038f9ce2a4b30b32401a64e374527": {
          "model_module": "@jupyter-widgets/controls",
          "model_module_version": "1.5.0",
          "model_name": "ProgressStyleModel",
          "state": {
            "_model_module": "@jupyter-widgets/controls",
            "_model_module_version": "1.5.0",
            "_model_name": "ProgressStyleModel",
            "_view_count": null,
            "_view_module": "@jupyter-widgets/base",
            "_view_module_version": "1.2.0",
            "_view_name": "StyleView",
            "bar_color": null,
            "description_width": ""
          }
        },
        "167671693a4d4b1a925aeca021a054b3": {
          "model_module": "@jupyter-widgets/base",
          "model_module_version": "1.2.0",
          "model_name": "LayoutModel",
          "state": {
            "_model_module": "@jupyter-widgets/base",
            "_model_module_version": "1.2.0",
            "_model_name": "LayoutModel",
            "_view_count": null,
            "_view_module": "@jupyter-widgets/base",
            "_view_module_version": "1.2.0",
            "_view_name": "LayoutView",
            "align_content": null,
            "align_items": null,
            "align_self": null,
            "border": null,
            "bottom": null,
            "display": null,
            "flex": null,
            "flex_flow": null,
            "grid_area": null,
            "grid_auto_columns": null,
            "grid_auto_flow": null,
            "grid_auto_rows": null,
            "grid_column": null,
            "grid_gap": null,
            "grid_row": null,
            "grid_template_areas": null,
            "grid_template_columns": null,
            "grid_template_rows": null,
            "height": null,
            "justify_content": null,
            "justify_items": null,
            "left": null,
            "margin": null,
            "max_height": null,
            "max_width": null,
            "min_height": null,
            "min_width": null,
            "object_fit": null,
            "object_position": null,
            "order": null,
            "overflow": null,
            "overflow_x": null,
            "overflow_y": null,
            "padding": null,
            "right": null,
            "top": null,
            "visibility": null,
            "width": null
          }
        },
        "1e2e9e88be834c328c90bd3d5f3e38e8": {
          "model_module": "@jupyter-widgets/controls",
          "model_module_version": "1.5.0",
          "model_name": "HBoxModel",
          "state": {
            "_dom_classes": [],
            "_model_module": "@jupyter-widgets/controls",
            "_model_module_version": "1.5.0",
            "_model_name": "HBoxModel",
            "_view_count": null,
            "_view_module": "@jupyter-widgets/controls",
            "_view_module_version": "1.5.0",
            "_view_name": "HBoxView",
            "box_style": "",
            "children": [
              "IPY_MODEL_291badee6b2341b6ad27f36dce90eaf5",
              "IPY_MODEL_a0686b1acd5c411285998c3a9613559b",
              "IPY_MODEL_e2768cf803b24fae96a8394034d378e0"
            ],
            "layout": "IPY_MODEL_700b2234d178443199427feac680bd76"
          }
        },
        "291badee6b2341b6ad27f36dce90eaf5": {
          "model_module": "@jupyter-widgets/controls",
          "model_module_version": "1.5.0",
          "model_name": "HTMLModel",
          "state": {
            "_dom_classes": [],
            "_model_module": "@jupyter-widgets/controls",
            "_model_module_version": "1.5.0",
            "_model_name": "HTMLModel",
            "_view_count": null,
            "_view_module": "@jupyter-widgets/controls",
            "_view_module_version": "1.5.0",
            "_view_name": "HTMLView",
            "description": "",
            "description_tooltip": null,
            "layout": "IPY_MODEL_b377087432b94f8f976dd4e86e0a94a3",
            "placeholder": "​",
            "style": "IPY_MODEL_e8b9da74683e454fb3ff74725fb66ce7",
            "value": "tokenizer_config.json: 100%"
          }
        },
        "2a93747347bd4decae87560fe9cc59e0": {
          "model_module": "@jupyter-widgets/controls",
          "model_module_version": "1.5.0",
          "model_name": "HTMLModel",
          "state": {
            "_dom_classes": [],
            "_model_module": "@jupyter-widgets/controls",
            "_model_module_version": "1.5.0",
            "_model_name": "HTMLModel",
            "_view_count": null,
            "_view_module": "@jupyter-widgets/controls",
            "_view_module_version": "1.5.0",
            "_view_name": "HTMLView",
            "description": "",
            "description_tooltip": null,
            "layout": "IPY_MODEL_501e385383344af9aa8060c50a7e99c7",
            "placeholder": "​",
            "style": "IPY_MODEL_3345062f985c432ba72172874fcfc7c2",
            "value": "config.json: 100%"
          }
        },
        "2c25af67f9ba4888a9ba1bfa61068538": {
          "model_module": "@jupyter-widgets/controls",
          "model_module_version": "1.5.0",
          "model_name": "HBoxModel",
          "state": {
            "_dom_classes": [],
            "_model_module": "@jupyter-widgets/controls",
            "_model_module_version": "1.5.0",
            "_model_name": "HBoxModel",
            "_view_count": null,
            "_view_module": "@jupyter-widgets/controls",
            "_view_module_version": "1.5.0",
            "_view_name": "HBoxView",
            "box_style": "",
            "children": [
              "IPY_MODEL_bd435606916847d7b66a1801a306afef",
              "IPY_MODEL_10ee265112f44be5b8725914faefb2a1",
              "IPY_MODEL_4d51c8eca8834761bf836cdbb3a4b0cb"
            ],
            "layout": "IPY_MODEL_167671693a4d4b1a925aeca021a054b3"
          }
        },
        "3345062f985c432ba72172874fcfc7c2": {
          "model_module": "@jupyter-widgets/controls",
          "model_module_version": "1.5.0",
          "model_name": "DescriptionStyleModel",
          "state": {
            "_model_module": "@jupyter-widgets/controls",
            "_model_module_version": "1.5.0",
            "_model_name": "DescriptionStyleModel",
            "_view_count": null,
            "_view_module": "@jupyter-widgets/base",
            "_view_module_version": "1.2.0",
            "_view_name": "StyleView",
            "description_width": ""
          }
        },
        "351aa58b66b249a6abbb0828107ccd24": {
          "model_module": "@jupyter-widgets/base",
          "model_module_version": "1.2.0",
          "model_name": "LayoutModel",
          "state": {
            "_model_module": "@jupyter-widgets/base",
            "_model_module_version": "1.2.0",
            "_model_name": "LayoutModel",
            "_view_count": null,
            "_view_module": "@jupyter-widgets/base",
            "_view_module_version": "1.2.0",
            "_view_name": "LayoutView",
            "align_content": null,
            "align_items": null,
            "align_self": null,
            "border": null,
            "bottom": null,
            "display": null,
            "flex": null,
            "flex_flow": null,
            "grid_area": null,
            "grid_auto_columns": null,
            "grid_auto_flow": null,
            "grid_auto_rows": null,
            "grid_column": null,
            "grid_gap": null,
            "grid_row": null,
            "grid_template_areas": null,
            "grid_template_columns": null,
            "grid_template_rows": null,
            "height": null,
            "justify_content": null,
            "justify_items": null,
            "left": null,
            "margin": null,
            "max_height": null,
            "max_width": null,
            "min_height": null,
            "min_width": null,
            "object_fit": null,
            "object_position": null,
            "order": null,
            "overflow": null,
            "overflow_x": null,
            "overflow_y": null,
            "padding": null,
            "right": null,
            "top": null,
            "visibility": null,
            "width": null
          }
        },
        "3935845687b8467ba02ef86e8684d8a2": {
          "model_module": "@jupyter-widgets/controls",
          "model_module_version": "1.5.0",
          "model_name": "FloatProgressModel",
          "state": {
            "_dom_classes": [],
            "_model_module": "@jupyter-widgets/controls",
            "_model_module_version": "1.5.0",
            "_model_name": "FloatProgressModel",
            "_view_count": null,
            "_view_module": "@jupyter-widgets/controls",
            "_view_module_version": "1.5.0",
            "_view_name": "ProgressView",
            "bar_style": "success",
            "description": "",
            "description_tooltip": null,
            "layout": "IPY_MODEL_c27350b227a44335a05526f1fd9c4d3e",
            "max": 570,
            "min": 0,
            "orientation": "horizontal",
            "style": "IPY_MODEL_75fcbead4b174df5ab00424467c055e0",
            "value": 570
          }
        },
        "47dcbe966eb342138f9e3a9afbc6f0fa": {
          "model_module": "@jupyter-widgets/controls",
          "model_module_version": "1.5.0",
          "model_name": "DescriptionStyleModel",
          "state": {
            "_model_module": "@jupyter-widgets/controls",
            "_model_module_version": "1.5.0",
            "_model_name": "DescriptionStyleModel",
            "_view_count": null,
            "_view_module": "@jupyter-widgets/base",
            "_view_module_version": "1.2.0",
            "_view_name": "StyleView",
            "description_width": ""
          }
        },
        "4ad0cc2e69584fe2826bdcdb9b3c1828": {
          "model_module": "@jupyter-widgets/base",
          "model_module_version": "1.2.0",
          "model_name": "LayoutModel",
          "state": {
            "_model_module": "@jupyter-widgets/base",
            "_model_module_version": "1.2.0",
            "_model_name": "LayoutModel",
            "_view_count": null,
            "_view_module": "@jupyter-widgets/base",
            "_view_module_version": "1.2.0",
            "_view_name": "LayoutView",
            "align_content": null,
            "align_items": null,
            "align_self": null,
            "border": null,
            "bottom": null,
            "display": null,
            "flex": null,
            "flex_flow": null,
            "grid_area": null,
            "grid_auto_columns": null,
            "grid_auto_flow": null,
            "grid_auto_rows": null,
            "grid_column": null,
            "grid_gap": null,
            "grid_row": null,
            "grid_template_areas": null,
            "grid_template_columns": null,
            "grid_template_rows": null,
            "height": null,
            "justify_content": null,
            "justify_items": null,
            "left": null,
            "margin": null,
            "max_height": null,
            "max_width": null,
            "min_height": null,
            "min_width": null,
            "object_fit": null,
            "object_position": null,
            "order": null,
            "overflow": null,
            "overflow_x": null,
            "overflow_y": null,
            "padding": null,
            "right": null,
            "top": null,
            "visibility": null,
            "width": null
          }
        },
        "4d51c8eca8834761bf836cdbb3a4b0cb": {
          "model_module": "@jupyter-widgets/controls",
          "model_module_version": "1.5.0",
          "model_name": "HTMLModel",
          "state": {
            "_dom_classes": [],
            "_model_module": "@jupyter-widgets/controls",
            "_model_module_version": "1.5.0",
            "_model_name": "HTMLModel",
            "_view_count": null,
            "_view_module": "@jupyter-widgets/controls",
            "_view_module_version": "1.5.0",
            "_view_name": "HTMLView",
            "description": "",
            "description_tooltip": null,
            "layout": "IPY_MODEL_cb0ac71a994542c6acefbc8ecbcf1690",
            "placeholder": "​",
            "style": "IPY_MODEL_9d749890af9e4cc399fd3c553e20dde0",
            "value": " 232k/232k [00:00&lt;00:00, 4.70MB/s]"
          }
        },
        "501e385383344af9aa8060c50a7e99c7": {
          "model_module": "@jupyter-widgets/base",
          "model_module_version": "1.2.0",
          "model_name": "LayoutModel",
          "state": {
            "_model_module": "@jupyter-widgets/base",
            "_model_module_version": "1.2.0",
            "_model_name": "LayoutModel",
            "_view_count": null,
            "_view_module": "@jupyter-widgets/base",
            "_view_module_version": "1.2.0",
            "_view_name": "LayoutView",
            "align_content": null,
            "align_items": null,
            "align_self": null,
            "border": null,
            "bottom": null,
            "display": null,
            "flex": null,
            "flex_flow": null,
            "grid_area": null,
            "grid_auto_columns": null,
            "grid_auto_flow": null,
            "grid_auto_rows": null,
            "grid_column": null,
            "grid_gap": null,
            "grid_row": null,
            "grid_template_areas": null,
            "grid_template_columns": null,
            "grid_template_rows": null,
            "height": null,
            "justify_content": null,
            "justify_items": null,
            "left": null,
            "margin": null,
            "max_height": null,
            "max_width": null,
            "min_height": null,
            "min_width": null,
            "object_fit": null,
            "object_position": null,
            "order": null,
            "overflow": null,
            "overflow_x": null,
            "overflow_y": null,
            "padding": null,
            "right": null,
            "top": null,
            "visibility": null,
            "width": null
          }
        },
        "5076fa1a5541425c91a5a0e3fe6965ab": {
          "model_module": "@jupyter-widgets/controls",
          "model_module_version": "1.5.0",
          "model_name": "HTMLModel",
          "state": {
            "_dom_classes": [],
            "_model_module": "@jupyter-widgets/controls",
            "_model_module_version": "1.5.0",
            "_model_name": "HTMLModel",
            "_view_count": null,
            "_view_module": "@jupyter-widgets/controls",
            "_view_module_version": "1.5.0",
            "_view_name": "HTMLView",
            "description": "",
            "description_tooltip": null,
            "layout": "IPY_MODEL_351aa58b66b249a6abbb0828107ccd24",
            "placeholder": "​",
            "style": "IPY_MODEL_8cd0e6602d954f98904c2d6bab63394a",
            "value": "tokenizer.json: 100%"
          }
        },
        "649d4357956c4ea6ba1bb8e06d811743": {
          "model_module": "@jupyter-widgets/base",
          "model_module_version": "1.2.0",
          "model_name": "LayoutModel",
          "state": {
            "_model_module": "@jupyter-widgets/base",
            "_model_module_version": "1.2.0",
            "_model_name": "LayoutModel",
            "_view_count": null,
            "_view_module": "@jupyter-widgets/base",
            "_view_module_version": "1.2.0",
            "_view_name": "LayoutView",
            "align_content": null,
            "align_items": null,
            "align_self": null,
            "border": null,
            "bottom": null,
            "display": null,
            "flex": null,
            "flex_flow": null,
            "grid_area": null,
            "grid_auto_columns": null,
            "grid_auto_flow": null,
            "grid_auto_rows": null,
            "grid_column": null,
            "grid_gap": null,
            "grid_row": null,
            "grid_template_areas": null,
            "grid_template_columns": null,
            "grid_template_rows": null,
            "height": null,
            "justify_content": null,
            "justify_items": null,
            "left": null,
            "margin": null,
            "max_height": null,
            "max_width": null,
            "min_height": null,
            "min_width": null,
            "object_fit": null,
            "object_position": null,
            "order": null,
            "overflow": null,
            "overflow_x": null,
            "overflow_y": null,
            "padding": null,
            "right": null,
            "top": null,
            "visibility": null,
            "width": null
          }
        },
        "65b904b70842420796acdf159599a8b5": {
          "model_module": "@jupyter-widgets/base",
          "model_module_version": "1.2.0",
          "model_name": "LayoutModel",
          "state": {
            "_model_module": "@jupyter-widgets/base",
            "_model_module_version": "1.2.0",
            "_model_name": "LayoutModel",
            "_view_count": null,
            "_view_module": "@jupyter-widgets/base",
            "_view_module_version": "1.2.0",
            "_view_name": "LayoutView",
            "align_content": null,
            "align_items": null,
            "align_self": null,
            "border": null,
            "bottom": null,
            "display": null,
            "flex": null,
            "flex_flow": null,
            "grid_area": null,
            "grid_auto_columns": null,
            "grid_auto_flow": null,
            "grid_auto_rows": null,
            "grid_column": null,
            "grid_gap": null,
            "grid_row": null,
            "grid_template_areas": null,
            "grid_template_columns": null,
            "grid_template_rows": null,
            "height": null,
            "justify_content": null,
            "justify_items": null,
            "left": null,
            "margin": null,
            "max_height": null,
            "max_width": null,
            "min_height": null,
            "min_width": null,
            "object_fit": null,
            "object_position": null,
            "order": null,
            "overflow": null,
            "overflow_x": null,
            "overflow_y": null,
            "padding": null,
            "right": null,
            "top": null,
            "visibility": null,
            "width": null
          }
        },
        "6cf21cd43e1f4d38a4a7c7bc0aab504b": {
          "model_module": "@jupyter-widgets/controls",
          "model_module_version": "1.5.0",
          "model_name": "DescriptionStyleModel",
          "state": {
            "_model_module": "@jupyter-widgets/controls",
            "_model_module_version": "1.5.0",
            "_model_name": "DescriptionStyleModel",
            "_view_count": null,
            "_view_module": "@jupyter-widgets/base",
            "_view_module_version": "1.2.0",
            "_view_name": "StyleView",
            "description_width": ""
          }
        },
        "700b2234d178443199427feac680bd76": {
          "model_module": "@jupyter-widgets/base",
          "model_module_version": "1.2.0",
          "model_name": "LayoutModel",
          "state": {
            "_model_module": "@jupyter-widgets/base",
            "_model_module_version": "1.2.0",
            "_model_name": "LayoutModel",
            "_view_count": null,
            "_view_module": "@jupyter-widgets/base",
            "_view_module_version": "1.2.0",
            "_view_name": "LayoutView",
            "align_content": null,
            "align_items": null,
            "align_self": null,
            "border": null,
            "bottom": null,
            "display": null,
            "flex": null,
            "flex_flow": null,
            "grid_area": null,
            "grid_auto_columns": null,
            "grid_auto_flow": null,
            "grid_auto_rows": null,
            "grid_column": null,
            "grid_gap": null,
            "grid_row": null,
            "grid_template_areas": null,
            "grid_template_columns": null,
            "grid_template_rows": null,
            "height": null,
            "justify_content": null,
            "justify_items": null,
            "left": null,
            "margin": null,
            "max_height": null,
            "max_width": null,
            "min_height": null,
            "min_width": null,
            "object_fit": null,
            "object_position": null,
            "order": null,
            "overflow": null,
            "overflow_x": null,
            "overflow_y": null,
            "padding": null,
            "right": null,
            "top": null,
            "visibility": null,
            "width": null
          }
        },
        "73c4ffc28b0e45faa003f31d24515f42": {
          "model_module": "@jupyter-widgets/controls",
          "model_module_version": "1.5.0",
          "model_name": "HTMLModel",
          "state": {
            "_dom_classes": [],
            "_model_module": "@jupyter-widgets/controls",
            "_model_module_version": "1.5.0",
            "_model_name": "HTMLModel",
            "_view_count": null,
            "_view_module": "@jupyter-widgets/controls",
            "_view_module_version": "1.5.0",
            "_view_name": "HTMLView",
            "description": "",
            "description_tooltip": null,
            "layout": "IPY_MODEL_b208dc0bf35d44bebd0e333d4cf21584",
            "placeholder": "​",
            "style": "IPY_MODEL_86e5a135822d44ed981e58b78dda6cf0",
            "value": " 440M/440M [00:02&lt;00:00, 117MB/s]"
          }
        },
        "75fcbead4b174df5ab00424467c055e0": {
          "model_module": "@jupyter-widgets/controls",
          "model_module_version": "1.5.0",
          "model_name": "ProgressStyleModel",
          "state": {
            "_model_module": "@jupyter-widgets/controls",
            "_model_module_version": "1.5.0",
            "_model_name": "ProgressStyleModel",
            "_view_count": null,
            "_view_module": "@jupyter-widgets/base",
            "_view_module_version": "1.2.0",
            "_view_name": "StyleView",
            "bar_color": null,
            "description_width": ""
          }
        },
        "7be4a49c91024f3a861a1b1a2d7fc334": {
          "model_module": "@jupyter-widgets/base",
          "model_module_version": "1.2.0",
          "model_name": "LayoutModel",
          "state": {
            "_model_module": "@jupyter-widgets/base",
            "_model_module_version": "1.2.0",
            "_model_name": "LayoutModel",
            "_view_count": null,
            "_view_module": "@jupyter-widgets/base",
            "_view_module_version": "1.2.0",
            "_view_name": "LayoutView",
            "align_content": null,
            "align_items": null,
            "align_self": null,
            "border": null,
            "bottom": null,
            "display": null,
            "flex": null,
            "flex_flow": null,
            "grid_area": null,
            "grid_auto_columns": null,
            "grid_auto_flow": null,
            "grid_auto_rows": null,
            "grid_column": null,
            "grid_gap": null,
            "grid_row": null,
            "grid_template_areas": null,
            "grid_template_columns": null,
            "grid_template_rows": null,
            "height": null,
            "justify_content": null,
            "justify_items": null,
            "left": null,
            "margin": null,
            "max_height": null,
            "max_width": null,
            "min_height": null,
            "min_width": null,
            "object_fit": null,
            "object_position": null,
            "order": null,
            "overflow": null,
            "overflow_x": null,
            "overflow_y": null,
            "padding": null,
            "right": null,
            "top": null,
            "visibility": null,
            "width": null
          }
        },
        "85dd9aaea16c4052b92c55569b062f87": {
          "model_module": "@jupyter-widgets/base",
          "model_module_version": "1.2.0",
          "model_name": "LayoutModel",
          "state": {
            "_model_module": "@jupyter-widgets/base",
            "_model_module_version": "1.2.0",
            "_model_name": "LayoutModel",
            "_view_count": null,
            "_view_module": "@jupyter-widgets/base",
            "_view_module_version": "1.2.0",
            "_view_name": "LayoutView",
            "align_content": null,
            "align_items": null,
            "align_self": null,
            "border": null,
            "bottom": null,
            "display": null,
            "flex": null,
            "flex_flow": null,
            "grid_area": null,
            "grid_auto_columns": null,
            "grid_auto_flow": null,
            "grid_auto_rows": null,
            "grid_column": null,
            "grid_gap": null,
            "grid_row": null,
            "grid_template_areas": null,
            "grid_template_columns": null,
            "grid_template_rows": null,
            "height": null,
            "justify_content": null,
            "justify_items": null,
            "left": null,
            "margin": null,
            "max_height": null,
            "max_width": null,
            "min_height": null,
            "min_width": null,
            "object_fit": null,
            "object_position": null,
            "order": null,
            "overflow": null,
            "overflow_x": null,
            "overflow_y": null,
            "padding": null,
            "right": null,
            "top": null,
            "visibility": null,
            "width": null
          }
        },
        "86e5a135822d44ed981e58b78dda6cf0": {
          "model_module": "@jupyter-widgets/controls",
          "model_module_version": "1.5.0",
          "model_name": "DescriptionStyleModel",
          "state": {
            "_model_module": "@jupyter-widgets/controls",
            "_model_module_version": "1.5.0",
            "_model_name": "DescriptionStyleModel",
            "_view_count": null,
            "_view_module": "@jupyter-widgets/base",
            "_view_module_version": "1.2.0",
            "_view_name": "StyleView",
            "description_width": ""
          }
        },
        "899b5807f78e4d65940f6ef99453e629": {
          "model_module": "@jupyter-widgets/controls",
          "model_module_version": "1.5.0",
          "model_name": "HBoxModel",
          "state": {
            "_dom_classes": [],
            "_model_module": "@jupyter-widgets/controls",
            "_model_module_version": "1.5.0",
            "_model_name": "HBoxModel",
            "_view_count": null,
            "_view_module": "@jupyter-widgets/controls",
            "_view_module_version": "1.5.0",
            "_view_name": "HBoxView",
            "box_style": "",
            "children": [
              "IPY_MODEL_fdceecd086d74826a0ec17a740552b0d",
              "IPY_MODEL_b2d79dd263b3402b91c74c535b27175b",
              "IPY_MODEL_73c4ffc28b0e45faa003f31d24515f42"
            ],
            "layout": "IPY_MODEL_4ad0cc2e69584fe2826bdcdb9b3c1828"
          }
        },
        "8cd0e6602d954f98904c2d6bab63394a": {
          "model_module": "@jupyter-widgets/controls",
          "model_module_version": "1.5.0",
          "model_name": "DescriptionStyleModel",
          "state": {
            "_model_module": "@jupyter-widgets/controls",
            "_model_module_version": "1.5.0",
            "_model_name": "DescriptionStyleModel",
            "_view_count": null,
            "_view_module": "@jupyter-widgets/base",
            "_view_module_version": "1.2.0",
            "_view_name": "StyleView",
            "description_width": ""
          }
        },
        "9b79e8b77f79465b9357a9f7a128daec": {
          "model_module": "@jupyter-widgets/base",
          "model_module_version": "1.2.0",
          "model_name": "LayoutModel",
          "state": {
            "_model_module": "@jupyter-widgets/base",
            "_model_module_version": "1.2.0",
            "_model_name": "LayoutModel",
            "_view_count": null,
            "_view_module": "@jupyter-widgets/base",
            "_view_module_version": "1.2.0",
            "_view_name": "LayoutView",
            "align_content": null,
            "align_items": null,
            "align_self": null,
            "border": null,
            "bottom": null,
            "display": null,
            "flex": null,
            "flex_flow": null,
            "grid_area": null,
            "grid_auto_columns": null,
            "grid_auto_flow": null,
            "grid_auto_rows": null,
            "grid_column": null,
            "grid_gap": null,
            "grid_row": null,
            "grid_template_areas": null,
            "grid_template_columns": null,
            "grid_template_rows": null,
            "height": null,
            "justify_content": null,
            "justify_items": null,
            "left": null,
            "margin": null,
            "max_height": null,
            "max_width": null,
            "min_height": null,
            "min_width": null,
            "object_fit": null,
            "object_position": null,
            "order": null,
            "overflow": null,
            "overflow_x": null,
            "overflow_y": null,
            "padding": null,
            "right": null,
            "top": null,
            "visibility": null,
            "width": null
          }
        },
        "9c59d07a02fc4e2fb0e5c0b06e22bcdd": {
          "model_module": "@jupyter-widgets/base",
          "model_module_version": "1.2.0",
          "model_name": "LayoutModel",
          "state": {
            "_model_module": "@jupyter-widgets/base",
            "_model_module_version": "1.2.0",
            "_model_name": "LayoutModel",
            "_view_count": null,
            "_view_module": "@jupyter-widgets/base",
            "_view_module_version": "1.2.0",
            "_view_name": "LayoutView",
            "align_content": null,
            "align_items": null,
            "align_self": null,
            "border": null,
            "bottom": null,
            "display": null,
            "flex": null,
            "flex_flow": null,
            "grid_area": null,
            "grid_auto_columns": null,
            "grid_auto_flow": null,
            "grid_auto_rows": null,
            "grid_column": null,
            "grid_gap": null,
            "grid_row": null,
            "grid_template_areas": null,
            "grid_template_columns": null,
            "grid_template_rows": null,
            "height": null,
            "justify_content": null,
            "justify_items": null,
            "left": null,
            "margin": null,
            "max_height": null,
            "max_width": null,
            "min_height": null,
            "min_width": null,
            "object_fit": null,
            "object_position": null,
            "order": null,
            "overflow": null,
            "overflow_x": null,
            "overflow_y": null,
            "padding": null,
            "right": null,
            "top": null,
            "visibility": null,
            "width": null
          }
        },
        "9d749890af9e4cc399fd3c553e20dde0": {
          "model_module": "@jupyter-widgets/controls",
          "model_module_version": "1.5.0",
          "model_name": "DescriptionStyleModel",
          "state": {
            "_model_module": "@jupyter-widgets/controls",
            "_model_module_version": "1.5.0",
            "_model_name": "DescriptionStyleModel",
            "_view_count": null,
            "_view_module": "@jupyter-widgets/base",
            "_view_module_version": "1.2.0",
            "_view_name": "StyleView",
            "description_width": ""
          }
        },
        "a0686b1acd5c411285998c3a9613559b": {
          "model_module": "@jupyter-widgets/controls",
          "model_module_version": "1.5.0",
          "model_name": "FloatProgressModel",
          "state": {
            "_dom_classes": [],
            "_model_module": "@jupyter-widgets/controls",
            "_model_module_version": "1.5.0",
            "_model_name": "FloatProgressModel",
            "_view_count": null,
            "_view_module": "@jupyter-widgets/controls",
            "_view_module_version": "1.5.0",
            "_view_name": "ProgressView",
            "bar_style": "success",
            "description": "",
            "description_tooltip": null,
            "layout": "IPY_MODEL_7be4a49c91024f3a861a1b1a2d7fc334",
            "max": 48,
            "min": 0,
            "orientation": "horizontal",
            "style": "IPY_MODEL_11d038f9ce2a4b30b32401a64e374527",
            "value": 48
          }
        },
        "a1779038282d4a18ac28f54a984c902b": {
          "model_module": "@jupyter-widgets/controls",
          "model_module_version": "1.5.0",
          "model_name": "HTMLModel",
          "state": {
            "_dom_classes": [],
            "_model_module": "@jupyter-widgets/controls",
            "_model_module_version": "1.5.0",
            "_model_name": "HTMLModel",
            "_view_count": null,
            "_view_module": "@jupyter-widgets/controls",
            "_view_module_version": "1.5.0",
            "_view_name": "HTMLView",
            "description": "",
            "description_tooltip": null,
            "layout": "IPY_MODEL_d887fa36ca69475ba06f7435cbb84aea",
            "placeholder": "​",
            "style": "IPY_MODEL_6cf21cd43e1f4d38a4a7c7bc0aab504b",
            "value": " 570/570 [00:00&lt;00:00, 36.0kB/s]"
          }
        },
        "a2c27fdc1cf54824acafd33c4843af3c": {
          "model_module": "@jupyter-widgets/controls",
          "model_module_version": "1.5.0",
          "model_name": "DescriptionStyleModel",
          "state": {
            "_model_module": "@jupyter-widgets/controls",
            "_model_module_version": "1.5.0",
            "_model_name": "DescriptionStyleModel",
            "_view_count": null,
            "_view_module": "@jupyter-widgets/base",
            "_view_module_version": "1.2.0",
            "_view_name": "StyleView",
            "description_width": ""
          }
        },
        "b208dc0bf35d44bebd0e333d4cf21584": {
          "model_module": "@jupyter-widgets/base",
          "model_module_version": "1.2.0",
          "model_name": "LayoutModel",
          "state": {
            "_model_module": "@jupyter-widgets/base",
            "_model_module_version": "1.2.0",
            "_model_name": "LayoutModel",
            "_view_count": null,
            "_view_module": "@jupyter-widgets/base",
            "_view_module_version": "1.2.0",
            "_view_name": "LayoutView",
            "align_content": null,
            "align_items": null,
            "align_self": null,
            "border": null,
            "bottom": null,
            "display": null,
            "flex": null,
            "flex_flow": null,
            "grid_area": null,
            "grid_auto_columns": null,
            "grid_auto_flow": null,
            "grid_auto_rows": null,
            "grid_column": null,
            "grid_gap": null,
            "grid_row": null,
            "grid_template_areas": null,
            "grid_template_columns": null,
            "grid_template_rows": null,
            "height": null,
            "justify_content": null,
            "justify_items": null,
            "left": null,
            "margin": null,
            "max_height": null,
            "max_width": null,
            "min_height": null,
            "min_width": null,
            "object_fit": null,
            "object_position": null,
            "order": null,
            "overflow": null,
            "overflow_x": null,
            "overflow_y": null,
            "padding": null,
            "right": null,
            "top": null,
            "visibility": null,
            "width": null
          }
        },
        "b2d79dd263b3402b91c74c535b27175b": {
          "model_module": "@jupyter-widgets/controls",
          "model_module_version": "1.5.0",
          "model_name": "FloatProgressModel",
          "state": {
            "_dom_classes": [],
            "_model_module": "@jupyter-widgets/controls",
            "_model_module_version": "1.5.0",
            "_model_name": "FloatProgressModel",
            "_view_count": null,
            "_view_module": "@jupyter-widgets/controls",
            "_view_module_version": "1.5.0",
            "_view_name": "ProgressView",
            "bar_style": "success",
            "description": "",
            "description_tooltip": null,
            "layout": "IPY_MODEL_85dd9aaea16c4052b92c55569b062f87",
            "max": 440449768,
            "min": 0,
            "orientation": "horizontal",
            "style": "IPY_MODEL_cd8d16ab5e5a4ea3a3a4689dbc2ccbd4",
            "value": 440449768
          }
        },
        "b377087432b94f8f976dd4e86e0a94a3": {
          "model_module": "@jupyter-widgets/base",
          "model_module_version": "1.2.0",
          "model_name": "LayoutModel",
          "state": {
            "_model_module": "@jupyter-widgets/base",
            "_model_module_version": "1.2.0",
            "_model_name": "LayoutModel",
            "_view_count": null,
            "_view_module": "@jupyter-widgets/base",
            "_view_module_version": "1.2.0",
            "_view_name": "LayoutView",
            "align_content": null,
            "align_items": null,
            "align_self": null,
            "border": null,
            "bottom": null,
            "display": null,
            "flex": null,
            "flex_flow": null,
            "grid_area": null,
            "grid_auto_columns": null,
            "grid_auto_flow": null,
            "grid_auto_rows": null,
            "grid_column": null,
            "grid_gap": null,
            "grid_row": null,
            "grid_template_areas": null,
            "grid_template_columns": null,
            "grid_template_rows": null,
            "height": null,
            "justify_content": null,
            "justify_items": null,
            "left": null,
            "margin": null,
            "max_height": null,
            "max_width": null,
            "min_height": null,
            "min_width": null,
            "object_fit": null,
            "object_position": null,
            "order": null,
            "overflow": null,
            "overflow_x": null,
            "overflow_y": null,
            "padding": null,
            "right": null,
            "top": null,
            "visibility": null,
            "width": null
          }
        },
        "b412db24a3084aabb29dfc0d85d00550": {
          "model_module": "@jupyter-widgets/base",
          "model_module_version": "1.2.0",
          "model_name": "LayoutModel",
          "state": {
            "_model_module": "@jupyter-widgets/base",
            "_model_module_version": "1.2.0",
            "_model_name": "LayoutModel",
            "_view_count": null,
            "_view_module": "@jupyter-widgets/base",
            "_view_module_version": "1.2.0",
            "_view_name": "LayoutView",
            "align_content": null,
            "align_items": null,
            "align_self": null,
            "border": null,
            "bottom": null,
            "display": null,
            "flex": null,
            "flex_flow": null,
            "grid_area": null,
            "grid_auto_columns": null,
            "grid_auto_flow": null,
            "grid_auto_rows": null,
            "grid_column": null,
            "grid_gap": null,
            "grid_row": null,
            "grid_template_areas": null,
            "grid_template_columns": null,
            "grid_template_rows": null,
            "height": null,
            "justify_content": null,
            "justify_items": null,
            "left": null,
            "margin": null,
            "max_height": null,
            "max_width": null,
            "min_height": null,
            "min_width": null,
            "object_fit": null,
            "object_position": null,
            "order": null,
            "overflow": null,
            "overflow_x": null,
            "overflow_y": null,
            "padding": null,
            "right": null,
            "top": null,
            "visibility": null,
            "width": null
          }
        },
        "b6224934ca5941c89738bb56bc30b032": {
          "model_module": "@jupyter-widgets/controls",
          "model_module_version": "1.5.0",
          "model_name": "FloatProgressModel",
          "state": {
            "_dom_classes": [],
            "_model_module": "@jupyter-widgets/controls",
            "_model_module_version": "1.5.0",
            "_model_name": "FloatProgressModel",
            "_view_count": null,
            "_view_module": "@jupyter-widgets/controls",
            "_view_module_version": "1.5.0",
            "_view_name": "ProgressView",
            "bar_style": "success",
            "description": "",
            "description_tooltip": null,
            "layout": "IPY_MODEL_649d4357956c4ea6ba1bb8e06d811743",
            "max": 466062,
            "min": 0,
            "orientation": "horizontal",
            "style": "IPY_MODEL_0c6434b1288548bf956f89b8c805175b",
            "value": 466062
          }
        },
        "bd435606916847d7b66a1801a306afef": {
          "model_module": "@jupyter-widgets/controls",
          "model_module_version": "1.5.0",
          "model_name": "HTMLModel",
          "state": {
            "_dom_classes": [],
            "_model_module": "@jupyter-widgets/controls",
            "_model_module_version": "1.5.0",
            "_model_name": "HTMLModel",
            "_view_count": null,
            "_view_module": "@jupyter-widgets/controls",
            "_view_module_version": "1.5.0",
            "_view_name": "HTMLView",
            "description": "",
            "description_tooltip": null,
            "layout": "IPY_MODEL_65b904b70842420796acdf159599a8b5",
            "placeholder": "​",
            "style": "IPY_MODEL_a2c27fdc1cf54824acafd33c4843af3c",
            "value": "vocab.txt: 100%"
          }
        },
        "c27350b227a44335a05526f1fd9c4d3e": {
          "model_module": "@jupyter-widgets/base",
          "model_module_version": "1.2.0",
          "model_name": "LayoutModel",
          "state": {
            "_model_module": "@jupyter-widgets/base",
            "_model_module_version": "1.2.0",
            "_model_name": "LayoutModel",
            "_view_count": null,
            "_view_module": "@jupyter-widgets/base",
            "_view_module_version": "1.2.0",
            "_view_name": "LayoutView",
            "align_content": null,
            "align_items": null,
            "align_self": null,
            "border": null,
            "bottom": null,
            "display": null,
            "flex": null,
            "flex_flow": null,
            "grid_area": null,
            "grid_auto_columns": null,
            "grid_auto_flow": null,
            "grid_auto_rows": null,
            "grid_column": null,
            "grid_gap": null,
            "grid_row": null,
            "grid_template_areas": null,
            "grid_template_columns": null,
            "grid_template_rows": null,
            "height": null,
            "justify_content": null,
            "justify_items": null,
            "left": null,
            "margin": null,
            "max_height": null,
            "max_width": null,
            "min_height": null,
            "min_width": null,
            "object_fit": null,
            "object_position": null,
            "order": null,
            "overflow": null,
            "overflow_x": null,
            "overflow_y": null,
            "padding": null,
            "right": null,
            "top": null,
            "visibility": null,
            "width": null
          }
        },
        "c4f75935d593470daba7d3fd3759f061": {
          "model_module": "@jupyter-widgets/base",
          "model_module_version": "1.2.0",
          "model_name": "LayoutModel",
          "state": {
            "_model_module": "@jupyter-widgets/base",
            "_model_module_version": "1.2.0",
            "_model_name": "LayoutModel",
            "_view_count": null,
            "_view_module": "@jupyter-widgets/base",
            "_view_module_version": "1.2.0",
            "_view_name": "LayoutView",
            "align_content": null,
            "align_items": null,
            "align_self": null,
            "border": null,
            "bottom": null,
            "display": null,
            "flex": null,
            "flex_flow": null,
            "grid_area": null,
            "grid_auto_columns": null,
            "grid_auto_flow": null,
            "grid_auto_rows": null,
            "grid_column": null,
            "grid_gap": null,
            "grid_row": null,
            "grid_template_areas": null,
            "grid_template_columns": null,
            "grid_template_rows": null,
            "height": null,
            "justify_content": null,
            "justify_items": null,
            "left": null,
            "margin": null,
            "max_height": null,
            "max_width": null,
            "min_height": null,
            "min_width": null,
            "object_fit": null,
            "object_position": null,
            "order": null,
            "overflow": null,
            "overflow_x": null,
            "overflow_y": null,
            "padding": null,
            "right": null,
            "top": null,
            "visibility": null,
            "width": null
          }
        },
        "cb0ac71a994542c6acefbc8ecbcf1690": {
          "model_module": "@jupyter-widgets/base",
          "model_module_version": "1.2.0",
          "model_name": "LayoutModel",
          "state": {
            "_model_module": "@jupyter-widgets/base",
            "_model_module_version": "1.2.0",
            "_model_name": "LayoutModel",
            "_view_count": null,
            "_view_module": "@jupyter-widgets/base",
            "_view_module_version": "1.2.0",
            "_view_name": "LayoutView",
            "align_content": null,
            "align_items": null,
            "align_self": null,
            "border": null,
            "bottom": null,
            "display": null,
            "flex": null,
            "flex_flow": null,
            "grid_area": null,
            "grid_auto_columns": null,
            "grid_auto_flow": null,
            "grid_auto_rows": null,
            "grid_column": null,
            "grid_gap": null,
            "grid_row": null,
            "grid_template_areas": null,
            "grid_template_columns": null,
            "grid_template_rows": null,
            "height": null,
            "justify_content": null,
            "justify_items": null,
            "left": null,
            "margin": null,
            "max_height": null,
            "max_width": null,
            "min_height": null,
            "min_width": null,
            "object_fit": null,
            "object_position": null,
            "order": null,
            "overflow": null,
            "overflow_x": null,
            "overflow_y": null,
            "padding": null,
            "right": null,
            "top": null,
            "visibility": null,
            "width": null
          }
        },
        "cd8d16ab5e5a4ea3a3a4689dbc2ccbd4": {
          "model_module": "@jupyter-widgets/controls",
          "model_module_version": "1.5.0",
          "model_name": "ProgressStyleModel",
          "state": {
            "_model_module": "@jupyter-widgets/controls",
            "_model_module_version": "1.5.0",
            "_model_name": "ProgressStyleModel",
            "_view_count": null,
            "_view_module": "@jupyter-widgets/base",
            "_view_module_version": "1.2.0",
            "_view_name": "StyleView",
            "bar_color": null,
            "description_width": ""
          }
        },
        "d3871294392a443caad6d4c000d043da": {
          "model_module": "@jupyter-widgets/controls",
          "model_module_version": "1.5.0",
          "model_name": "ProgressStyleModel",
          "state": {
            "_model_module": "@jupyter-widgets/controls",
            "_model_module_version": "1.5.0",
            "_model_name": "ProgressStyleModel",
            "_view_count": null,
            "_view_module": "@jupyter-widgets/base",
            "_view_module_version": "1.2.0",
            "_view_name": "StyleView",
            "bar_color": null,
            "description_width": ""
          }
        },
        "d4cdebc0ba8d417a9e9155dc09bfc43f": {
          "model_module": "@jupyter-widgets/controls",
          "model_module_version": "1.5.0",
          "model_name": "HBoxModel",
          "state": {
            "_dom_classes": [],
            "_model_module": "@jupyter-widgets/controls",
            "_model_module_version": "1.5.0",
            "_model_name": "HBoxModel",
            "_view_count": null,
            "_view_module": "@jupyter-widgets/controls",
            "_view_module_version": "1.5.0",
            "_view_name": "HBoxView",
            "box_style": "",
            "children": [
              "IPY_MODEL_2a93747347bd4decae87560fe9cc59e0",
              "IPY_MODEL_3935845687b8467ba02ef86e8684d8a2",
              "IPY_MODEL_a1779038282d4a18ac28f54a984c902b"
            ],
            "layout": "IPY_MODEL_c4f75935d593470daba7d3fd3759f061"
          }
        },
        "d887fa36ca69475ba06f7435cbb84aea": {
          "model_module": "@jupyter-widgets/base",
          "model_module_version": "1.2.0",
          "model_name": "LayoutModel",
          "state": {
            "_model_module": "@jupyter-widgets/base",
            "_model_module_version": "1.2.0",
            "_model_name": "LayoutModel",
            "_view_count": null,
            "_view_module": "@jupyter-widgets/base",
            "_view_module_version": "1.2.0",
            "_view_name": "LayoutView",
            "align_content": null,
            "align_items": null,
            "align_self": null,
            "border": null,
            "bottom": null,
            "display": null,
            "flex": null,
            "flex_flow": null,
            "grid_area": null,
            "grid_auto_columns": null,
            "grid_auto_flow": null,
            "grid_auto_rows": null,
            "grid_column": null,
            "grid_gap": null,
            "grid_row": null,
            "grid_template_areas": null,
            "grid_template_columns": null,
            "grid_template_rows": null,
            "height": null,
            "justify_content": null,
            "justify_items": null,
            "left": null,
            "margin": null,
            "max_height": null,
            "max_width": null,
            "min_height": null,
            "min_width": null,
            "object_fit": null,
            "object_position": null,
            "order": null,
            "overflow": null,
            "overflow_x": null,
            "overflow_y": null,
            "padding": null,
            "right": null,
            "top": null,
            "visibility": null,
            "width": null
          }
        },
        "e0df67e749a146219757e391a031e57d": {
          "model_module": "@jupyter-widgets/controls",
          "model_module_version": "1.5.0",
          "model_name": "HBoxModel",
          "state": {
            "_dom_classes": [],
            "_model_module": "@jupyter-widgets/controls",
            "_model_module_version": "1.5.0",
            "_model_name": "HBoxModel",
            "_view_count": null,
            "_view_module": "@jupyter-widgets/controls",
            "_view_module_version": "1.5.0",
            "_view_name": "HBoxView",
            "box_style": "",
            "children": [
              "IPY_MODEL_5076fa1a5541425c91a5a0e3fe6965ab",
              "IPY_MODEL_b6224934ca5941c89738bb56bc30b032",
              "IPY_MODEL_012c2fd5558243998d4b529289885330"
            ],
            "layout": "IPY_MODEL_f99ab0d297d049629d05b2768fd03c33"
          }
        },
        "e2768cf803b24fae96a8394034d378e0": {
          "model_module": "@jupyter-widgets/controls",
          "model_module_version": "1.5.0",
          "model_name": "HTMLModel",
          "state": {
            "_dom_classes": [],
            "_model_module": "@jupyter-widgets/controls",
            "_model_module_version": "1.5.0",
            "_model_name": "HTMLModel",
            "_view_count": null,
            "_view_module": "@jupyter-widgets/controls",
            "_view_module_version": "1.5.0",
            "_view_name": "HTMLView",
            "description": "",
            "description_tooltip": null,
            "layout": "IPY_MODEL_02747c6564e84145a91bf8bbce1c9779",
            "placeholder": "​",
            "style": "IPY_MODEL_09d285ba84574f29a61289736c86883a",
            "value": " 48.0/48.0 [00:00&lt;00:00, 1.83kB/s]"
          }
        },
        "e43789019e054b738f08cbd54a40ba8d": {
          "model_module": "@jupyter-widgets/controls",
          "model_module_version": "1.5.0",
          "model_name": "DescriptionStyleModel",
          "state": {
            "_model_module": "@jupyter-widgets/controls",
            "_model_module_version": "1.5.0",
            "_model_name": "DescriptionStyleModel",
            "_view_count": null,
            "_view_module": "@jupyter-widgets/base",
            "_view_module_version": "1.2.0",
            "_view_name": "StyleView",
            "description_width": ""
          }
        },
        "e8b9da74683e454fb3ff74725fb66ce7": {
          "model_module": "@jupyter-widgets/controls",
          "model_module_version": "1.5.0",
          "model_name": "DescriptionStyleModel",
          "state": {
            "_model_module": "@jupyter-widgets/controls",
            "_model_module_version": "1.5.0",
            "_model_name": "DescriptionStyleModel",
            "_view_count": null,
            "_view_module": "@jupyter-widgets/base",
            "_view_module_version": "1.2.0",
            "_view_name": "StyleView",
            "description_width": ""
          }
        },
        "f99ab0d297d049629d05b2768fd03c33": {
          "model_module": "@jupyter-widgets/base",
          "model_module_version": "1.2.0",
          "model_name": "LayoutModel",
          "state": {
            "_model_module": "@jupyter-widgets/base",
            "_model_module_version": "1.2.0",
            "_model_name": "LayoutModel",
            "_view_count": null,
            "_view_module": "@jupyter-widgets/base",
            "_view_module_version": "1.2.0",
            "_view_name": "LayoutView",
            "align_content": null,
            "align_items": null,
            "align_self": null,
            "border": null,
            "bottom": null,
            "display": null,
            "flex": null,
            "flex_flow": null,
            "grid_area": null,
            "grid_auto_columns": null,
            "grid_auto_flow": null,
            "grid_auto_rows": null,
            "grid_column": null,
            "grid_gap": null,
            "grid_row": null,
            "grid_template_areas": null,
            "grid_template_columns": null,
            "grid_template_rows": null,
            "height": null,
            "justify_content": null,
            "justify_items": null,
            "left": null,
            "margin": null,
            "max_height": null,
            "max_width": null,
            "min_height": null,
            "min_width": null,
            "object_fit": null,
            "object_position": null,
            "order": null,
            "overflow": null,
            "overflow_x": null,
            "overflow_y": null,
            "padding": null,
            "right": null,
            "top": null,
            "visibility": null,
            "width": null
          }
        },
        "fdceecd086d74826a0ec17a740552b0d": {
          "model_module": "@jupyter-widgets/controls",
          "model_module_version": "1.5.0",
          "model_name": "HTMLModel",
          "state": {
            "_dom_classes": [],
            "_model_module": "@jupyter-widgets/controls",
            "_model_module_version": "1.5.0",
            "_model_name": "HTMLModel",
            "_view_count": null,
            "_view_module": "@jupyter-widgets/controls",
            "_view_module_version": "1.5.0",
            "_view_name": "HTMLView",
            "description": "",
            "description_tooltip": null,
            "layout": "IPY_MODEL_9c59d07a02fc4e2fb0e5c0b06e22bcdd",
            "placeholder": "​",
            "style": "IPY_MODEL_e43789019e054b738f08cbd54a40ba8d",
            "value": "model.safetensors: 100%"
          }
        }
      }
    }
  },
  "nbformat": 4,
  "nbformat_minor": 0
}
